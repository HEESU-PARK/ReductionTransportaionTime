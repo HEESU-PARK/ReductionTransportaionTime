{
  "nbformat": 4,
  "nbformat_minor": 0,
  "metadata": {
    "colab": {
      "name": "교통 약자 이동 지원 차량 배차 시간 단축 시스템.ipynb",
      "provenance": [],
      "collapsed_sections": [
        "Fc6JQY0ByR3Z",
        "mZYNIgPlDKjk"
      ]
    },
    "kernelspec": {
      "name": "python3",
      "display_name": "Python 3"
    },
    "language_info": {
      "name": "python"
    }
  },
  "cells": [
    {
      "cell_type": "code",
      "metadata": {
        "id": "kg0onY-bo0fw",
        "colab": {
          "base_uri": "https://localhost:8080/"
        },
        "outputId": "c39adb41-fa56-4ece-f636-640296f2926b"
      },
      "source": [
        "from google.colab import drive\n",
        "drive.mount(\"/content/drive\")"
      ],
      "execution_count": null,
      "outputs": [
        {
          "output_type": "stream",
          "text": [
            "Mounted at /content/drive\n"
          ],
          "name": "stdout"
        }
      ]
    },
    {
      "cell_type": "markdown",
      "metadata": {
        "id": "vHSl3lLZQa66"
      },
      "source": [
        "### 한글 폰트 깨짐 해결"
      ]
    },
    {
      "cell_type": "code",
      "metadata": {
        "colab": {
          "base_uri": "https://localhost:8080/"
        },
        "id": "_jMpRpRvQac9",
        "outputId": "3b73a6fa-2fe1-4261-cc4c-5da7669671e4"
      },
      "source": [
        "!sudo apt-get install -y fonts-nanum\n",
        "!sudo fc-cache -fv\n",
        "!rm ~/.cache/matplotlib -rf"
      ],
      "execution_count": null,
      "outputs": [
        {
          "output_type": "stream",
          "text": [
            "Reading package lists... Done\n",
            "Building dependency tree       \n",
            "Reading state information... Done\n",
            "The following NEW packages will be installed:\n",
            "  fonts-nanum\n",
            "0 upgraded, 1 newly installed, 0 to remove and 40 not upgraded.\n",
            "Need to get 9,604 kB of archives.\n",
            "After this operation, 29.5 MB of additional disk space will be used.\n",
            "Get:1 http://archive.ubuntu.com/ubuntu bionic/universe amd64 fonts-nanum all 20170925-1 [9,604 kB]\n",
            "Fetched 9,604 kB in 2s (5,847 kB/s)\n",
            "debconf: unable to initialize frontend: Dialog\n",
            "debconf: (No usable dialog-like program is installed, so the dialog based frontend cannot be used. at /usr/share/perl5/Debconf/FrontEnd/Dialog.pm line 76, <> line 1.)\n",
            "debconf: falling back to frontend: Readline\n",
            "debconf: unable to initialize frontend: Readline\n",
            "debconf: (This frontend requires a controlling tty.)\n",
            "debconf: falling back to frontend: Teletype\n",
            "dpkg-preconfigure: unable to re-open stdin: \n",
            "Selecting previously unselected package fonts-nanum.\n",
            "(Reading database ... 160837 files and directories currently installed.)\n",
            "Preparing to unpack .../fonts-nanum_20170925-1_all.deb ...\n",
            "Unpacking fonts-nanum (20170925-1) ...\n",
            "Setting up fonts-nanum (20170925-1) ...\n",
            "Processing triggers for fontconfig (2.12.6-0ubuntu2) ...\n",
            "/usr/share/fonts: caching, new cache contents: 0 fonts, 1 dirs\n",
            "/usr/share/fonts/truetype: caching, new cache contents: 0 fonts, 3 dirs\n",
            "/usr/share/fonts/truetype/humor-sans: caching, new cache contents: 1 fonts, 0 dirs\n",
            "/usr/share/fonts/truetype/liberation: caching, new cache contents: 16 fonts, 0 dirs\n",
            "/usr/share/fonts/truetype/nanum: caching, new cache contents: 10 fonts, 0 dirs\n",
            "/usr/local/share/fonts: caching, new cache contents: 0 fonts, 0 dirs\n",
            "/root/.local/share/fonts: skipping, no such directory\n",
            "/root/.fonts: skipping, no such directory\n",
            "/var/cache/fontconfig: cleaning cache directory\n",
            "/root/.cache/fontconfig: not cleaning non-existent cache directory\n",
            "/root/.fontconfig: not cleaning non-existent cache directory\n",
            "fc-cache: succeeded\n"
          ],
          "name": "stdout"
        }
      ]
    },
    {
      "cell_type": "code",
      "metadata": {
        "id": "B1fYOiqXQgv_"
      },
      "source": [
        "plt.rc('font', family='NanumBarunGothic') "
      ],
      "execution_count": null,
      "outputs": []
    },
    {
      "cell_type": "code",
      "metadata": {
        "id": "3P1XX99KqQPY"
      },
      "source": [
        "import numpy as np\n",
        "import pandas as pd\n",
        "import matplotlib.pyplot as plt\n",
        "from matplotlib import rcParams\n",
        "import seaborn as sns\n",
        "import os"
      ],
      "execution_count": null,
      "outputs": []
    },
    {
      "cell_type": "markdown",
      "metadata": {
        "id": "kjLWPi7FFC9u"
      },
      "source": [
        "## 데이터 칼럼"
      ]
    },
    {
      "cell_type": "markdown",
      "metadata": {
        "id": "TdYor-owFFGm"
      },
      "source": [
        "- NO: 차량 고유번호\n",
        "- CARTYPE: 차량타입\n",
        "- RECEIPTIME: 예정일시\n",
        "- SETTIME: 배차일시\n",
        "- RIDETIME: 승차일시\n",
        "- STARTPOS1:출발지구군\n",
        "- STARTPOS2: 출발지상세\n",
        "- ENDPOS1: 목적지구군\n",
        "- ENDPOS2: 목적지상세"
      ]
    },
    {
      "cell_type": "markdown",
      "metadata": {
        "id": "us5MQ87uqWk0"
      },
      "source": [
        "# 데이터 분석"
      ]
    },
    {
      "cell_type": "code",
      "metadata": {
        "colab": {
          "base_uri": "https://localhost:8080/"
        },
        "id": "e6-JSjg9qZ0-",
        "outputId": "43cbded5-c34a-4aab-91ef-a16c475eb7a1"
      },
      "source": [
        "# 데이터 크기 확인\n",
        "DATA_PATH = '/content/drive/MyDrive/[데청캠]시나브로/머신러닝 딥러닝 프로젝트/'\n",
        "DATA_IN_PATH = '/content/drive/MyDrive/[데청캠]시나브로/머신러닝 딥러닝 프로젝트/'\n",
        "print(\"파일 크기 : \")\n",
        "for file in os.listdir(DATA_IN_PATH):\n",
        "    if 'csv' in file and 'zip' not in file:\n",
        "        print(file.ljust(30) + str(round(os.path.getsize(DATA_IN_PATH + file) / 1000000, 2)) + 'MB')"
      ],
      "execution_count": null,
      "outputs": [
        {
          "output_type": "stream",
          "text": [
            "파일 크기 : \n",
            "병원정보.csv               26.78MB\n",
            "서울특별시사회복지시설목록.csv0.5MB\n",
            "data_08-07.csv                0.0MB\n",
            "21년_5월.csv                3.11MB\n",
            "21년_3월.csv                2.88MB\n",
            "21년_2월.csv                1.86MB\n",
            "21년_1월.csv                2.28MB\n",
            "20년_12월.csv               2.31MB\n",
            "21년_4월.csv                3.04MB\n",
            "21년_6월.csv                3.17MB\n",
            "21년_7월.csv                3.07MB\n",
            "20년_8월.csv                2.59MB\n",
            "20년_9월.csv                2.13MB\n",
            "20년_10월.csv               2.36MB\n",
            "20년_11월.csv               2.8MB\n",
            "year.csv                      48.23MB\n",
            "train_year.csv                31.2MB\n",
            "new_강서1.csv                0.0MB\n",
            "all_data_08-07.csv            0.01MB\n",
            "data_0726to0731.csv           0.0MB\n"
          ],
          "name": "stdout"
        }
      ]
    },
    {
      "cell_type": "code",
      "metadata": {
        "id": "Pg913MZZq0Kt"
      },
      "source": [
        "# 데이터 불러오기\n",
        "JAN = pd.read_csv(DATA_PATH + '21년_1월.csv', engine='python', encoding='cp949')\n",
        "FEB = pd.read_csv(DATA_PATH + '21년_2월.csv', engine='python', encoding='cp949')\n",
        "MAR = pd.read_csv(DATA_PATH + '21년_3월.csv', engine='python', encoding='cp949')\n",
        "APR = pd.read_csv(DATA_PATH + '21년_4월.csv', engine='python', encoding='cp949')\n",
        "MAY = pd.read_csv(DATA_PATH + '21년_5월.csv', engine='python', encoding='cp949')\n",
        "JUN = pd.read_csv(DATA_PATH + '21년_6월.csv', engine='python', encoding='cp949')\n",
        "JUL = pd.read_csv(DATA_PATH + '21년_7월.csv', engine='python', encoding='cp949')\n",
        "AUG = pd.read_csv(DATA_PATH + '20년_8월.csv', engine='python', encoding='cp949')\n",
        "SEP = pd.read_csv(DATA_PATH + '20년_9월.csv', engine='python', encoding='cp949')\n",
        "OCT = pd.read_csv(DATA_PATH + '20년_10월.csv', engine='python', encoding='cp949')\n",
        "NOV = pd.read_csv(DATA_PATH + '20년_11월.csv', engine='python', encoding='cp949')\n",
        "DEC = pd.read_csv(DATA_PATH + '20년_12월.csv', engine='python', encoding='cp949')\n",
        "welfare = pd.read_csv(DATA_PATH + '서울특별시사회복지시설목록.csv', engine='python', encoding='cp949')\n",
        "hospital = pd.read_csv(DATA_PATH + '병원정보.csv', engine='python')\n",
        "use_data = pd.read_csv(DATA_PATH + 'data_08-07.csv')\n",
        "year = pd.read_csv(DATA_PATH + 'year.csv', engine='python')\n",
        "data_0726to0731 = pd.read_csv(DATA_PATH + 'data_0726to0731.csv')\n",
        "\n",
        "ALL_DATA = [JAN, FEB, MAR, APR, MAY, JUN, JUL, AUG, SEP, OCT, NOV, DEC, welfare, hospital, use_data]"
      ],
      "execution_count": null,
      "outputs": []
    },
    {
      "cell_type": "code",
      "metadata": {
        "colab": {
          "base_uri": "https://localhost:8080/"
        },
        "id": "zn9vvnYGt8Fo",
        "outputId": "465626d7-8cac-4e51-bf8e-6bcc3eb06ee0"
      },
      "source": [
        "# 데이터의 간단한 정보 확인\n",
        "def data_info(data):\n",
        "    print('----------데이터 정보-----------')\n",
        "    print(data.info())\n",
        "    print('----------결측치 확인-----------')\n",
        "    print(data.isnull().sum())\n",
        "for D in ALL_DATA:\n",
        "    data_info(D)"
      ],
      "execution_count": null,
      "outputs": [
        {
          "output_type": "stream",
          "text": [
            "----------데이터 정보-----------\n",
            "<class 'pandas.core.frame.DataFrame'>\n",
            "RangeIndex: 19033 entries, 0 to 19032\n",
            "Data columns (total 10 columns):\n",
            " #   Column       Non-Null Count  Dtype \n",
            "---  ------       --------------  ----- \n",
            " 0   Unnamed: 0   19033 non-null  int64 \n",
            " 1   No           19033 non-null  int64 \n",
            " 2   Cartype      19033 non-null  object\n",
            " 3   Receipttime  19033 non-null  object\n",
            " 4   Settime      19033 non-null  object\n",
            " 5   Ridetime     19033 non-null  object\n",
            " 6   Startpos1    19033 non-null  object\n",
            " 7   Startpos2    19033 non-null  object\n",
            " 8   Endpos1      19033 non-null  object\n",
            " 9   Endpos2      19033 non-null  object\n",
            "dtypes: int64(2), object(8)\n",
            "memory usage: 1.5+ MB\n",
            "None\n",
            "----------결측치 확인-----------\n",
            "Unnamed: 0     0\n",
            "No             0\n",
            "Cartype        0\n",
            "Receipttime    0\n",
            "Settime        0\n",
            "Ridetime       0\n",
            "Startpos1      0\n",
            "Startpos2      0\n",
            "Endpos1        0\n",
            "Endpos2        0\n",
            "dtype: int64\n",
            "----------데이터 정보-----------\n",
            "<class 'pandas.core.frame.DataFrame'>\n",
            "RangeIndex: 15556 entries, 0 to 15555\n",
            "Data columns (total 10 columns):\n",
            " #   Column       Non-Null Count  Dtype \n",
            "---  ------       --------------  ----- \n",
            " 0   Unnamed: 0   15556 non-null  int64 \n",
            " 1   No           15556 non-null  int64 \n",
            " 2   Cartype      15556 non-null  object\n",
            " 3   Receipttime  15556 non-null  object\n",
            " 4   Settime      15556 non-null  object\n",
            " 5   Ridetime     15556 non-null  object\n",
            " 6   Startpos1    15556 non-null  object\n",
            " 7   Startpos2    15556 non-null  object\n",
            " 8   Endpos1      15556 non-null  object\n",
            " 9   Endpos2      15556 non-null  object\n",
            "dtypes: int64(2), object(8)\n",
            "memory usage: 1.2+ MB\n",
            "None\n",
            "----------결측치 확인-----------\n",
            "Unnamed: 0     0\n",
            "No             0\n",
            "Cartype        0\n",
            "Receipttime    0\n",
            "Settime        0\n",
            "Ridetime       0\n",
            "Startpos1      0\n",
            "Startpos2      0\n",
            "Endpos1        0\n",
            "Endpos2        0\n",
            "dtype: int64\n",
            "----------데이터 정보-----------\n",
            "<class 'pandas.core.frame.DataFrame'>\n",
            "RangeIndex: 24078 entries, 0 to 24077\n",
            "Data columns (total 10 columns):\n",
            " #   Column       Non-Null Count  Dtype \n",
            "---  ------       --------------  ----- \n",
            " 0   Unnamed: 0   24078 non-null  int64 \n",
            " 1   No           24078 non-null  int64 \n",
            " 2   Cartype      24078 non-null  object\n",
            " 3   Receipttime  24078 non-null  object\n",
            " 4   Settime      24078 non-null  object\n",
            " 5   Ridetime     24078 non-null  object\n",
            " 6   Startpos1    24078 non-null  object\n",
            " 7   Startpos2    24078 non-null  object\n",
            " 8   Endpos1      24078 non-null  object\n",
            " 9   Endpos2      24078 non-null  object\n",
            "dtypes: int64(2), object(8)\n",
            "memory usage: 1.8+ MB\n",
            "None\n",
            "----------결측치 확인-----------\n",
            "Unnamed: 0     0\n",
            "No             0\n",
            "Cartype        0\n",
            "Receipttime    0\n",
            "Settime        0\n",
            "Ridetime       0\n",
            "Startpos1      0\n",
            "Startpos2      0\n",
            "Endpos1        0\n",
            "Endpos2        0\n",
            "dtype: int64\n",
            "----------데이터 정보-----------\n",
            "<class 'pandas.core.frame.DataFrame'>\n",
            "RangeIndex: 25360 entries, 0 to 25359\n",
            "Data columns (total 10 columns):\n",
            " #   Column       Non-Null Count  Dtype \n",
            "---  ------       --------------  ----- \n",
            " 0   Unnamed: 0   25360 non-null  int64 \n",
            " 1   No           25360 non-null  int64 \n",
            " 2   Cartype      25360 non-null  object\n",
            " 3   Receipttime  25360 non-null  object\n",
            " 4   Settime      25360 non-null  object\n",
            " 5   Ridetime     25360 non-null  object\n",
            " 6   Startpos1    25360 non-null  object\n",
            " 7   Startpos2    25360 non-null  object\n",
            " 8   Endpos1      25360 non-null  object\n",
            " 9   Endpos2      25360 non-null  object\n",
            "dtypes: int64(2), object(8)\n",
            "memory usage: 1.9+ MB\n",
            "None\n",
            "----------결측치 확인-----------\n",
            "Unnamed: 0     0\n",
            "No             0\n",
            "Cartype        0\n",
            "Receipttime    0\n",
            "Settime        0\n",
            "Ridetime       0\n",
            "Startpos1      0\n",
            "Startpos2      0\n",
            "Endpos1        0\n",
            "Endpos2        0\n",
            "dtype: int64\n",
            "----------데이터 정보-----------\n",
            "<class 'pandas.core.frame.DataFrame'>\n",
            "RangeIndex: 25937 entries, 0 to 25936\n",
            "Data columns (total 10 columns):\n",
            " #   Column       Non-Null Count  Dtype \n",
            "---  ------       --------------  ----- \n",
            " 0   Unnamed: 0   25937 non-null  int64 \n",
            " 1   No           25937 non-null  int64 \n",
            " 2   Cartype      25937 non-null  object\n",
            " 3   Receipttime  25937 non-null  object\n",
            " 4   Settime      25937 non-null  object\n",
            " 5   Ridetime     25937 non-null  object\n",
            " 6   Startpos1    25937 non-null  object\n",
            " 7   Startpos2    25937 non-null  object\n",
            " 8   Endpos1      25937 non-null  object\n",
            " 9   Endpos2      25937 non-null  object\n",
            "dtypes: int64(2), object(8)\n",
            "memory usage: 2.0+ MB\n",
            "None\n",
            "----------결측치 확인-----------\n",
            "Unnamed: 0     0\n",
            "No             0\n",
            "Cartype        0\n",
            "Receipttime    0\n",
            "Settime        0\n",
            "Ridetime       0\n",
            "Startpos1      0\n",
            "Startpos2      0\n",
            "Endpos1        0\n",
            "Endpos2        0\n",
            "dtype: int64\n",
            "----------데이터 정보-----------\n",
            "<class 'pandas.core.frame.DataFrame'>\n",
            "RangeIndex: 26457 entries, 0 to 26456\n",
            "Data columns (total 10 columns):\n",
            " #   Column       Non-Null Count  Dtype \n",
            "---  ------       --------------  ----- \n",
            " 0   Unnamed: 0   26457 non-null  int64 \n",
            " 1   No           26457 non-null  int64 \n",
            " 2   Cartype      26457 non-null  object\n",
            " 3   Receipttime  26457 non-null  object\n",
            " 4   Settime      26457 non-null  object\n",
            " 5   Ridetime     26457 non-null  object\n",
            " 6   Startpos1    26457 non-null  object\n",
            " 7   Startpos2    26457 non-null  object\n",
            " 8   Endpos1      26457 non-null  object\n",
            " 9   Endpos2      26457 non-null  object\n",
            "dtypes: int64(2), object(8)\n",
            "memory usage: 2.0+ MB\n",
            "None\n",
            "----------결측치 확인-----------\n",
            "Unnamed: 0     0\n",
            "No             0\n",
            "Cartype        0\n",
            "Receipttime    0\n",
            "Settime        0\n",
            "Ridetime       0\n",
            "Startpos1      0\n",
            "Startpos2      0\n",
            "Endpos1        0\n",
            "Endpos2        0\n",
            "dtype: int64\n",
            "----------데이터 정보-----------\n",
            "<class 'pandas.core.frame.DataFrame'>\n",
            "RangeIndex: 25564 entries, 0 to 25563\n",
            "Data columns (total 10 columns):\n",
            " #   Column       Non-Null Count  Dtype \n",
            "---  ------       --------------  ----- \n",
            " 0   Unnamed: 0   25564 non-null  int64 \n",
            " 1   No           25564 non-null  int64 \n",
            " 2   Cartype      25564 non-null  object\n",
            " 3   Receipttime  25564 non-null  object\n",
            " 4   Settime      25564 non-null  object\n",
            " 5   Ridetime     25564 non-null  object\n",
            " 6   Startpos1    25564 non-null  object\n",
            " 7   Startpos2    25564 non-null  object\n",
            " 8   Endpos1      25564 non-null  object\n",
            " 9   Endpos2      25564 non-null  object\n",
            "dtypes: int64(2), object(8)\n",
            "memory usage: 2.0+ MB\n",
            "None\n",
            "----------결측치 확인-----------\n",
            "Unnamed: 0     0\n",
            "No             0\n",
            "Cartype        0\n",
            "Receipttime    0\n",
            "Settime        0\n",
            "Ridetime       0\n",
            "Startpos1      0\n",
            "Startpos2      0\n",
            "Endpos1        0\n",
            "Endpos2        0\n",
            "dtype: int64\n",
            "----------데이터 정보-----------\n",
            "<class 'pandas.core.frame.DataFrame'>\n",
            "RangeIndex: 21641 entries, 0 to 21640\n",
            "Data columns (total 10 columns):\n",
            " #   Column       Non-Null Count  Dtype \n",
            "---  ------       --------------  ----- \n",
            " 0   Unnamed: 0   21641 non-null  int64 \n",
            " 1   No           21641 non-null  int64 \n",
            " 2   Cartype      21641 non-null  object\n",
            " 3   Receipttime  21641 non-null  object\n",
            " 4   Settime      21639 non-null  object\n",
            " 5   Ridetime     21641 non-null  object\n",
            " 6   Startpos1    21641 non-null  object\n",
            " 7   Startpos2    21641 non-null  object\n",
            " 8   Endpos1      21641 non-null  object\n",
            " 9   Endpos2      21641 non-null  object\n",
            "dtypes: int64(2), object(8)\n",
            "memory usage: 1.7+ MB\n",
            "None\n",
            "----------결측치 확인-----------\n",
            "Unnamed: 0     0\n",
            "No             0\n",
            "Cartype        0\n",
            "Receipttime    0\n",
            "Settime        2\n",
            "Ridetime       0\n",
            "Startpos1      0\n",
            "Startpos2      0\n",
            "Endpos1        0\n",
            "Endpos2        0\n",
            "dtype: int64\n",
            "----------데이터 정보-----------\n",
            "<class 'pandas.core.frame.DataFrame'>\n",
            "RangeIndex: 17849 entries, 0 to 17848\n",
            "Data columns (total 10 columns):\n",
            " #   Column       Non-Null Count  Dtype \n",
            "---  ------       --------------  ----- \n",
            " 0   Unnamed: 0   17849 non-null  int64 \n",
            " 1   No           17849 non-null  int64 \n",
            " 2   Cartype      17849 non-null  object\n",
            " 3   Receipttime  17849 non-null  object\n",
            " 4   Settime      17849 non-null  object\n",
            " 5   Ridetime     17849 non-null  object\n",
            " 6   Startpos1    17849 non-null  object\n",
            " 7   Startpos2    17849 non-null  object\n",
            " 8   Endpos1      17849 non-null  object\n",
            " 9   Endpos2      17849 non-null  object\n",
            "dtypes: int64(2), object(8)\n",
            "memory usage: 1.4+ MB\n",
            "None\n",
            "----------결측치 확인-----------\n",
            "Unnamed: 0     0\n",
            "No             0\n",
            "Cartype        0\n",
            "Receipttime    0\n",
            "Settime        0\n",
            "Ridetime       0\n",
            "Startpos1      0\n",
            "Startpos2      0\n",
            "Endpos1        0\n",
            "Endpos2        0\n",
            "dtype: int64\n",
            "----------데이터 정보-----------\n",
            "<class 'pandas.core.frame.DataFrame'>\n",
            "RangeIndex: 19769 entries, 0 to 19768\n",
            "Data columns (total 10 columns):\n",
            " #   Column       Non-Null Count  Dtype \n",
            "---  ------       --------------  ----- \n",
            " 0   Unnamed: 0   19769 non-null  int64 \n",
            " 1   No           19769 non-null  int64 \n",
            " 2   Cartype      19769 non-null  object\n",
            " 3   Receipttime  19769 non-null  object\n",
            " 4   Settime      19769 non-null  object\n",
            " 5   Ridetime     19769 non-null  object\n",
            " 6   Startpos1    19766 non-null  object\n",
            " 7   Startpos2    19766 non-null  object\n",
            " 8   Endpos1      19766 non-null  object\n",
            " 9   Endpos2      19766 non-null  object\n",
            "dtypes: int64(2), object(8)\n",
            "memory usage: 1.5+ MB\n",
            "None\n",
            "----------결측치 확인-----------\n",
            "Unnamed: 0     0\n",
            "No             0\n",
            "Cartype        0\n",
            "Receipttime    0\n",
            "Settime        0\n",
            "Ridetime       0\n",
            "Startpos1      3\n",
            "Startpos2      3\n",
            "Endpos1        3\n",
            "Endpos2        3\n",
            "dtype: int64\n",
            "----------데이터 정보-----------\n",
            "<class 'pandas.core.frame.DataFrame'>\n",
            "RangeIndex: 23356 entries, 0 to 23355\n",
            "Data columns (total 10 columns):\n",
            " #   Column       Non-Null Count  Dtype \n",
            "---  ------       --------------  ----- \n",
            " 0   Unnamed: 0   23356 non-null  int64 \n",
            " 1   No           23356 non-null  int64 \n",
            " 2   Cartype      23356 non-null  object\n",
            " 3   Receipttime  23356 non-null  object\n",
            " 4   Settime      23354 non-null  object\n",
            " 5   Ridetime     23356 non-null  object\n",
            " 6   Startpos1    23355 non-null  object\n",
            " 7   Startpos2    23355 non-null  object\n",
            " 8   Endpos1      23355 non-null  object\n",
            " 9   Endpos2      23355 non-null  object\n",
            "dtypes: int64(2), object(8)\n",
            "memory usage: 1.8+ MB\n",
            "None\n",
            "----------결측치 확인-----------\n",
            "Unnamed: 0     0\n",
            "No             0\n",
            "Cartype        0\n",
            "Receipttime    0\n",
            "Settime        2\n",
            "Ridetime       0\n",
            "Startpos1      1\n",
            "Startpos2      1\n",
            "Endpos1        1\n",
            "Endpos2        1\n",
            "dtype: int64\n",
            "----------데이터 정보-----------\n",
            "<class 'pandas.core.frame.DataFrame'>\n",
            "RangeIndex: 19293 entries, 0 to 19292\n",
            "Data columns (total 10 columns):\n",
            " #   Column       Non-Null Count  Dtype \n",
            "---  ------       --------------  ----- \n",
            " 0   Unnamed: 0   19293 non-null  int64 \n",
            " 1   No           19293 non-null  int64 \n",
            " 2   Cartype      19293 non-null  object\n",
            " 3   Receipttime  19293 non-null  object\n",
            " 4   Settime      19292 non-null  object\n",
            " 5   Ridetime     19293 non-null  object\n",
            " 6   Startpos1    19293 non-null  object\n",
            " 7   Startpos2    19293 non-null  object\n",
            " 8   Endpos1      19293 non-null  object\n",
            " 9   Endpos2      19293 non-null  object\n",
            "dtypes: int64(2), object(8)\n",
            "memory usage: 1.5+ MB\n",
            "None\n",
            "----------결측치 확인-----------\n",
            "Unnamed: 0     0\n",
            "No             0\n",
            "Cartype        0\n",
            "Receipttime    0\n",
            "Settime        1\n",
            "Ridetime       0\n",
            "Startpos1      0\n",
            "Startpos2      0\n",
            "Endpos1        0\n",
            "Endpos2        0\n",
            "dtype: int64\n",
            "----------데이터 정보-----------\n",
            "<class 'pandas.core.frame.DataFrame'>\n",
            "RangeIndex: 3103 entries, 0 to 3102\n",
            "Data columns (total 9 columns):\n",
            " #   Column         Non-Null Count  Dtype \n",
            "---  ------         --------------  ----- \n",
            " 0   시설명            3103 non-null   object\n",
            " 1   시설코드           3103 non-null   object\n",
            " 2   시설종류명(시설유형)    3103 non-null   object\n",
            " 3   시설종류상세명(시설종류)  3103 non-null   object\n",
            " 4   자치구(시)구분       3103 non-null   object\n",
            " 5   시설장명           3098 non-null   object\n",
            " 6   시군구코드          3103 non-null   int64 \n",
            " 7   시군구명           3103 non-null   object\n",
            " 8   시설주소           3097 non-null   object\n",
            "dtypes: int64(1), object(8)\n",
            "memory usage: 218.3+ KB\n",
            "None\n",
            "----------결측치 확인-----------\n",
            "시설명              0\n",
            "시설코드             0\n",
            "시설종류명(시설유형)      0\n",
            "시설종류상세명(시설종류)    0\n",
            "자치구(시)구분         0\n",
            "시설장명             5\n",
            "시군구코드            0\n",
            "시군구명             0\n",
            "시설주소             6\n",
            "dtype: int64\n",
            "----------데이터 정보-----------\n",
            "<class 'pandas.core.frame.DataFrame'>\n",
            "RangeIndex: 74364 entries, 0 to 74363\n",
            "Data columns (total 29 columns):\n",
            " #   Column      Non-Null Count  Dtype  \n",
            "---  ------      --------------  -----  \n",
            " 0   암호화YKIHO코드  74364 non-null  object \n",
            " 1   요양기관명       74364 non-null  object \n",
            " 2   종별코드        74364 non-null  int64  \n",
            " 3   종별코드명       74364 non-null  object \n",
            " 4   시도코드        74364 non-null  int64  \n",
            " 5   시도코드명       74364 non-null  object \n",
            " 6   시군구코드       74364 non-null  int64  \n",
            " 7   시군구코드명      74364 non-null  object \n",
            " 8   읍면동         31281 non-null  object \n",
            " 9   우편번호        74364 non-null  int64  \n",
            " 10  주소          74364 non-null  object \n",
            " 11  전화번호        74055 non-null  object \n",
            " 12  병원URL       9099 non-null   object \n",
            " 13  개설일자        74348 non-null  float64\n",
            " 14  총의사수        74364 non-null  int64  \n",
            " 15  의과일반의 인원수   74364 non-null  int64  \n",
            " 16  의과인턴 인원수    74364 non-null  int64  \n",
            " 17  의과레지던트 인원수  74364 non-null  int64  \n",
            " 18  의과전문의 인원수   74364 non-null  int64  \n",
            " 19  치과일반의 인원수   74364 non-null  int64  \n",
            " 20  치과인턴 인원수    74364 non-null  int64  \n",
            " 21  치과레지던트 인원수  74364 non-null  int64  \n",
            " 22  치과전문의 인원수   74364 non-null  int64  \n",
            " 23  한방일반의 인원수   74364 non-null  int64  \n",
            " 24  한방인턴 인원수    74364 non-null  int64  \n",
            " 25  한방레지던트 인원수  74364 non-null  int64  \n",
            " 26  한방전문의 인원수   74364 non-null  int64  \n",
            " 27  x좌표         70914 non-null  float64\n",
            " 28  y좌표         70914 non-null  float64\n",
            "dtypes: float64(3), int64(17), object(9)\n",
            "memory usage: 16.5+ MB\n",
            "None\n",
            "----------결측치 확인-----------\n",
            "암호화YKIHO코드        0\n",
            "요양기관명             0\n",
            "종별코드              0\n",
            "종별코드명             0\n",
            "시도코드              0\n",
            "시도코드명             0\n",
            "시군구코드             0\n",
            "시군구코드명            0\n",
            "읍면동           43083\n",
            "우편번호              0\n",
            "주소                0\n",
            "전화번호            309\n",
            "병원URL         65265\n",
            "개설일자             16\n",
            "총의사수              0\n",
            "의과일반의 인원수         0\n",
            "의과인턴 인원수          0\n",
            "의과레지던트 인원수        0\n",
            "의과전문의 인원수         0\n",
            "치과일반의 인원수         0\n",
            "치과인턴 인원수          0\n",
            "치과레지던트 인원수        0\n",
            "치과전문의 인원수         0\n",
            "한방일반의 인원수         0\n",
            "한방인턴 인원수          0\n",
            "한방레지던트 인원수        0\n",
            "한방전문의 인원수         0\n",
            "x좌표            3450\n",
            "y좌표            3450\n",
            "dtype: int64\n",
            "----------데이터 정보-----------\n",
            "<class 'pandas.core.frame.DataFrame'>\n",
            "RangeIndex: 84 entries, 0 to 83\n",
            "Data columns (total 7 columns):\n",
            " #   Column  Non-Null Count  Dtype  \n",
            "---  ------  --------------  -----  \n",
            " 0   기준일     84 non-null     object \n",
            " 1   차량운행    84 non-null     int64  \n",
            " 2   희망건     84 non-null     int64  \n",
            " 3   탑승건     84 non-null     int64  \n",
            " 4   평균대기시간  84 non-null     float64\n",
            " 5   평균요금    84 non-null     int64  \n",
            " 6   평균승차거리  84 non-null     int64  \n",
            "dtypes: float64(1), int64(5), object(1)\n",
            "memory usage: 4.7+ KB\n",
            "None\n",
            "----------결측치 확인-----------\n",
            "기준일       0\n",
            "차량운행      0\n",
            "희망건       0\n",
            "탑승건       0\n",
            "평균대기시간    0\n",
            "평균요금      0\n",
            "평균승차거리    0\n",
            "dtype: int64\n"
          ],
          "name": "stdout"
        }
      ]
    },
    {
      "cell_type": "markdown",
      "metadata": {
        "id": "l8leXwnu0DIw"
      },
      "source": [
        "### 월 별 장애인 택시 이용량 데이터 병합"
      ]
    },
    {
      "cell_type": "code",
      "metadata": {
        "id": "5Hd75vQ24xQ7"
      },
      "source": [
        "# 1월부터 12월까지 장애인 콜택시 이용량을 YEAR에 병합\n",
        "YEAR = pd.concat([JAN, FEB, MAR, APR, MAY, JUN, JUL, AUG, SEP, OCT, NOV, DEC])"
      ],
      "execution_count": null,
      "outputs": []
    },
    {
      "cell_type": "code",
      "metadata": {
        "colab": {
          "base_uri": "https://localhost:8080/",
          "height": 419
        },
        "id": "9rWIHJoW9_Yi",
        "outputId": "cb54d12d-e2cc-4010-dcf3-c789564017e5"
      },
      "source": [
        "YEAR"
      ],
      "execution_count": null,
      "outputs": [
        {
          "output_type": "execute_result",
          "data": {
            "text/html": [
              "<div>\n",
              "<style scoped>\n",
              "    .dataframe tbody tr th:only-of-type {\n",
              "        vertical-align: middle;\n",
              "    }\n",
              "\n",
              "    .dataframe tbody tr th {\n",
              "        vertical-align: top;\n",
              "    }\n",
              "\n",
              "    .dataframe thead th {\n",
              "        text-align: right;\n",
              "    }\n",
              "</style>\n",
              "<table border=\"1\" class=\"dataframe\">\n",
              "  <thead>\n",
              "    <tr style=\"text-align: right;\">\n",
              "      <th></th>\n",
              "      <th>Unnamed: 0</th>\n",
              "      <th>No</th>\n",
              "      <th>Cartype</th>\n",
              "      <th>Receipttime</th>\n",
              "      <th>Settime</th>\n",
              "      <th>Ridetime</th>\n",
              "      <th>Startpos1</th>\n",
              "      <th>Startpos2</th>\n",
              "      <th>Endpos1</th>\n",
              "      <th>Endpos2</th>\n",
              "    </tr>\n",
              "  </thead>\n",
              "  <tbody>\n",
              "    <tr>\n",
              "      <th>0</th>\n",
              "      <td>0</td>\n",
              "      <td>3551</td>\n",
              "      <td>중형 승합</td>\n",
              "      <td>2021-01-11 AM 12:02:48</td>\n",
              "      <td>2021-01-11 AM 12:03:56</td>\n",
              "      <td>2021-01-11 AM 12:49:38</td>\n",
              "      <td>강서구</td>\n",
              "      <td>가양제3동</td>\n",
              "      <td>마포구</td>\n",
              "      <td>합정동</td>\n",
              "    </tr>\n",
              "    <tr>\n",
              "      <th>1</th>\n",
              "      <td>1</td>\n",
              "      <td>804</td>\n",
              "      <td>중형승합</td>\n",
              "      <td>2021-01-11 AM 12:58:00</td>\n",
              "      <td>2021-01-11 AM 1:04:20</td>\n",
              "      <td>2021-01-11 AM 1:19:47</td>\n",
              "      <td>강북구</td>\n",
              "      <td>번제3동</td>\n",
              "      <td>노원구</td>\n",
              "      <td>중계1동</td>\n",
              "    </tr>\n",
              "    <tr>\n",
              "      <th>2</th>\n",
              "      <td>2</td>\n",
              "      <td>5727</td>\n",
              "      <td>중형승합</td>\n",
              "      <td>2021-01-11 AM 1:20:00</td>\n",
              "      <td>2021-01-11 AM 1:27:25</td>\n",
              "      <td>2021-01-11 AM 1:43:43</td>\n",
              "      <td>중구</td>\n",
              "      <td>회현동</td>\n",
              "      <td>성동구</td>\n",
              "      <td>왕십리제2동</td>\n",
              "    </tr>\n",
              "    <tr>\n",
              "      <th>3</th>\n",
              "      <td>3</td>\n",
              "      <td>5725</td>\n",
              "      <td>중형승합</td>\n",
              "      <td>2021-01-11 AM 1:47:00</td>\n",
              "      <td>2021-01-11 AM 1:57:12</td>\n",
              "      <td>2021-01-11 AM 2:44:30</td>\n",
              "      <td>중랑구</td>\n",
              "      <td>면목제2동</td>\n",
              "      <td>서초구</td>\n",
              "      <td>서초1동</td>\n",
              "    </tr>\n",
              "    <tr>\n",
              "      <th>4</th>\n",
              "      <td>4</td>\n",
              "      <td>7846</td>\n",
              "      <td>중형 승합</td>\n",
              "      <td>2021-01-11 AM 2:10:00</td>\n",
              "      <td>2021-01-11 AM 2:18:38</td>\n",
              "      <td>2021-01-11 AM 2:39:32</td>\n",
              "      <td>성동구</td>\n",
              "      <td>금호1가동</td>\n",
              "      <td>중랑구</td>\n",
              "      <td>면목제3.8동</td>\n",
              "    </tr>\n",
              "    <tr>\n",
              "      <th>...</th>\n",
              "      <td>...</td>\n",
              "      <td>...</td>\n",
              "      <td>...</td>\n",
              "      <td>...</td>\n",
              "      <td>...</td>\n",
              "      <td>...</td>\n",
              "      <td>...</td>\n",
              "      <td>...</td>\n",
              "      <td>...</td>\n",
              "      <td>...</td>\n",
              "    </tr>\n",
              "    <tr>\n",
              "      <th>19288</th>\n",
              "      <td>19288</td>\n",
              "      <td>8267</td>\n",
              "      <td>중형승합</td>\n",
              "      <td>2020-12-13 PM 10:45:00</td>\n",
              "      <td>2020-12-13 PM 10:46:42</td>\n",
              "      <td>2020-12-13 PM 10:54:00</td>\n",
              "      <td>중랑구</td>\n",
              "      <td>면목제4동</td>\n",
              "      <td>노원구</td>\n",
              "      <td>상계1동</td>\n",
              "    </tr>\n",
              "    <tr>\n",
              "      <th>19289</th>\n",
              "      <td>19289</td>\n",
              "      <td>5787</td>\n",
              "      <td>중형승합</td>\n",
              "      <td>2020-12-13 PM 11:08:10</td>\n",
              "      <td>2020-12-13 PM 11:17:14</td>\n",
              "      <td>2020-12-13 PM 11:50:23</td>\n",
              "      <td>강서구</td>\n",
              "      <td>가양제3동</td>\n",
              "      <td>마포구</td>\n",
              "      <td>합정동</td>\n",
              "    </tr>\n",
              "    <tr>\n",
              "      <th>19290</th>\n",
              "      <td>19290</td>\n",
              "      <td>5727</td>\n",
              "      <td>중형승합</td>\n",
              "      <td>2020-12-13 PM 11:22:00</td>\n",
              "      <td>2020-12-13 PM 11:29:45</td>\n",
              "      <td>2020-12-13 PM 11:53:12</td>\n",
              "      <td>강남구</td>\n",
              "      <td>역삼1동</td>\n",
              "      <td>동작구</td>\n",
              "      <td>사당제1동</td>\n",
              "    </tr>\n",
              "    <tr>\n",
              "      <th>19291</th>\n",
              "      <td>19291</td>\n",
              "      <td>4744</td>\n",
              "      <td>중형 승합</td>\n",
              "      <td>2020-12-13 PM 11:36:00</td>\n",
              "      <td>2020-12-13 PM 11:43:47</td>\n",
              "      <td>2020-12-13 PM 11:56:50</td>\n",
              "      <td>동대문구</td>\n",
              "      <td>장안제2동</td>\n",
              "      <td>동대문구</td>\n",
              "      <td>답십리제4동</td>\n",
              "    </tr>\n",
              "    <tr>\n",
              "      <th>19292</th>\n",
              "      <td>19292</td>\n",
              "      <td>1572</td>\n",
              "      <td>중형 승합</td>\n",
              "      <td>2020-12-13 PM 11:52:00</td>\n",
              "      <td>2020-12-13 PM 11:52:37</td>\n",
              "      <td>2020-12-14 AM 12:23:55</td>\n",
              "      <td>용산구</td>\n",
              "      <td>청파동</td>\n",
              "      <td>금천구</td>\n",
              "      <td>시흥제1동</td>\n",
              "    </tr>\n",
              "  </tbody>\n",
              "</table>\n",
              "<p>263893 rows × 10 columns</p>\n",
              "</div>"
            ],
            "text/plain": [
              "       Unnamed: 0    No Cartype  ... Startpos2 Endpos1  Endpos2\n",
              "0               0  3551   중형 승합  ...     가양제3동     마포구      합정동\n",
              "1               1   804    중형승합  ...      번제3동     노원구     중계1동\n",
              "2               2  5727    중형승합  ...       회현동     성동구   왕십리제2동\n",
              "3               3  5725    중형승합  ...     면목제2동     서초구     서초1동\n",
              "4               4  7846   중형 승합  ...     금호1가동     중랑구  면목제3.8동\n",
              "...           ...   ...     ...  ...       ...     ...      ...\n",
              "19288       19288  8267    중형승합  ...     면목제4동     노원구     상계1동\n",
              "19289       19289  5787    중형승합  ...     가양제3동     마포구      합정동\n",
              "19290       19290  5727    중형승합  ...      역삼1동     동작구    사당제1동\n",
              "19291       19291  4744   중형 승합  ...     장안제2동    동대문구   답십리제4동\n",
              "19292       19292  1572   중형 승합  ...       청파동     금천구    시흥제1동\n",
              "\n",
              "[263893 rows x 10 columns]"
            ]
          },
          "metadata": {
            "tags": []
          },
          "execution_count": 7
        }
      ]
    },
    {
      "cell_type": "markdown",
      "metadata": {
        "id": "fFnD-hQWxX68"
      },
      "source": [
        "# 각 데이터 분석"
      ]
    },
    {
      "cell_type": "markdown",
      "metadata": {
        "id": "LUjpTY3IyJY2"
      },
      "source": [
        "### 1월달 장애인 택시 이용량"
      ]
    },
    {
      "cell_type": "code",
      "metadata": {
        "colab": {
          "base_uri": "https://localhost:8080/",
          "height": 204
        },
        "id": "D4T2r6fLxzka",
        "outputId": "ca99ae37-9bc0-4049-c1d6-0ef2d6e75391"
      },
      "source": [
        "JAN.head(5)"
      ],
      "execution_count": null,
      "outputs": [
        {
          "output_type": "execute_result",
          "data": {
            "text/html": [
              "<div>\n",
              "<style scoped>\n",
              "    .dataframe tbody tr th:only-of-type {\n",
              "        vertical-align: middle;\n",
              "    }\n",
              "\n",
              "    .dataframe tbody tr th {\n",
              "        vertical-align: top;\n",
              "    }\n",
              "\n",
              "    .dataframe thead th {\n",
              "        text-align: right;\n",
              "    }\n",
              "</style>\n",
              "<table border=\"1\" class=\"dataframe\">\n",
              "  <thead>\n",
              "    <tr style=\"text-align: right;\">\n",
              "      <th></th>\n",
              "      <th>Unnamed: 0</th>\n",
              "      <th>No</th>\n",
              "      <th>Cartype</th>\n",
              "      <th>Receipttime</th>\n",
              "      <th>Settime</th>\n",
              "      <th>Ridetime</th>\n",
              "      <th>Startpos1</th>\n",
              "      <th>Startpos2</th>\n",
              "      <th>Endpos1</th>\n",
              "      <th>Endpos2</th>\n",
              "    </tr>\n",
              "  </thead>\n",
              "  <tbody>\n",
              "    <tr>\n",
              "      <th>0</th>\n",
              "      <td>0</td>\n",
              "      <td>3551</td>\n",
              "      <td>중형 승합</td>\n",
              "      <td>2021-01-11 AM 12:02:48</td>\n",
              "      <td>2021-01-11 AM 12:03:56</td>\n",
              "      <td>2021-01-11 AM 12:49:38</td>\n",
              "      <td>강서구</td>\n",
              "      <td>가양제3동</td>\n",
              "      <td>마포구</td>\n",
              "      <td>합정동</td>\n",
              "    </tr>\n",
              "    <tr>\n",
              "      <th>1</th>\n",
              "      <td>1</td>\n",
              "      <td>804</td>\n",
              "      <td>중형승합</td>\n",
              "      <td>2021-01-11 AM 12:58:00</td>\n",
              "      <td>2021-01-11 AM 1:04:20</td>\n",
              "      <td>2021-01-11 AM 1:19:47</td>\n",
              "      <td>강북구</td>\n",
              "      <td>번제3동</td>\n",
              "      <td>노원구</td>\n",
              "      <td>중계1동</td>\n",
              "    </tr>\n",
              "    <tr>\n",
              "      <th>2</th>\n",
              "      <td>2</td>\n",
              "      <td>5727</td>\n",
              "      <td>중형승합</td>\n",
              "      <td>2021-01-11 AM 1:20:00</td>\n",
              "      <td>2021-01-11 AM 1:27:25</td>\n",
              "      <td>2021-01-11 AM 1:43:43</td>\n",
              "      <td>중구</td>\n",
              "      <td>회현동</td>\n",
              "      <td>성동구</td>\n",
              "      <td>왕십리제2동</td>\n",
              "    </tr>\n",
              "    <tr>\n",
              "      <th>3</th>\n",
              "      <td>3</td>\n",
              "      <td>5725</td>\n",
              "      <td>중형승합</td>\n",
              "      <td>2021-01-11 AM 1:47:00</td>\n",
              "      <td>2021-01-11 AM 1:57:12</td>\n",
              "      <td>2021-01-11 AM 2:44:30</td>\n",
              "      <td>중랑구</td>\n",
              "      <td>면목제2동</td>\n",
              "      <td>서초구</td>\n",
              "      <td>서초1동</td>\n",
              "    </tr>\n",
              "    <tr>\n",
              "      <th>4</th>\n",
              "      <td>4</td>\n",
              "      <td>7846</td>\n",
              "      <td>중형 승합</td>\n",
              "      <td>2021-01-11 AM 2:10:00</td>\n",
              "      <td>2021-01-11 AM 2:18:38</td>\n",
              "      <td>2021-01-11 AM 2:39:32</td>\n",
              "      <td>성동구</td>\n",
              "      <td>금호1가동</td>\n",
              "      <td>중랑구</td>\n",
              "      <td>면목제3.8동</td>\n",
              "    </tr>\n",
              "  </tbody>\n",
              "</table>\n",
              "</div>"
            ],
            "text/plain": [
              "   Unnamed: 0    No Cartype  ... Startpos2 Endpos1  Endpos2\n",
              "0           0  3551   중형 승합  ...     가양제3동     마포구      합정동\n",
              "1           1   804    중형승합  ...      번제3동     노원구     중계1동\n",
              "2           2  5727    중형승합  ...       회현동     성동구   왕십리제2동\n",
              "3           3  5725    중형승합  ...     면목제2동     서초구     서초1동\n",
              "4           4  7846   중형 승합  ...     금호1가동     중랑구  면목제3.8동\n",
              "\n",
              "[5 rows x 10 columns]"
            ]
          },
          "metadata": {
            "tags": []
          },
          "execution_count": 8
        }
      ]
    },
    {
      "cell_type": "markdown",
      "metadata": {
        "id": "iDnIqOiQyNlW"
      },
      "source": [
        "### 사회복지시설 현황"
      ]
    },
    {
      "cell_type": "code",
      "metadata": {
        "colab": {
          "base_uri": "https://localhost:8080/",
          "height": 204
        },
        "id": "NJWV_ONqxZQX",
        "outputId": "4a929e72-3942-4d4c-dd36-e92fcb834012"
      },
      "source": [
        "welfare.head(5)"
      ],
      "execution_count": null,
      "outputs": [
        {
          "output_type": "execute_result",
          "data": {
            "text/html": [
              "<div>\n",
              "<style scoped>\n",
              "    .dataframe tbody tr th:only-of-type {\n",
              "        vertical-align: middle;\n",
              "    }\n",
              "\n",
              "    .dataframe tbody tr th {\n",
              "        vertical-align: top;\n",
              "    }\n",
              "\n",
              "    .dataframe thead th {\n",
              "        text-align: right;\n",
              "    }\n",
              "</style>\n",
              "<table border=\"1\" class=\"dataframe\">\n",
              "  <thead>\n",
              "    <tr style=\"text-align: right;\">\n",
              "      <th></th>\n",
              "      <th>시설명</th>\n",
              "      <th>시설코드</th>\n",
              "      <th>시설종류명(시설유형)</th>\n",
              "      <th>시설종류상세명(시설종류)</th>\n",
              "      <th>자치구(시)구분</th>\n",
              "      <th>시설장명</th>\n",
              "      <th>시군구코드</th>\n",
              "      <th>시군구명</th>\n",
              "      <th>시설주소</th>\n",
              "    </tr>\n",
              "  </thead>\n",
              "  <tbody>\n",
              "    <tr>\n",
              "      <th>0</th>\n",
              "      <td>서울꽃동네신내노인요양원</td>\n",
              "      <td>A0001</td>\n",
              "      <td>(노인) 노인요양시설</td>\n",
              "      <td>노인의료복지시설</td>\n",
              "      <td>자치구</td>\n",
              "      <td>최은숙</td>\n",
              "      <td>1126000000</td>\n",
              "      <td>중랑구</td>\n",
              "      <td>서울특별시 중랑구 신내로 194</td>\n",
              "    </tr>\n",
              "    <tr>\n",
              "      <th>1</th>\n",
              "      <td>청운양로원</td>\n",
              "      <td>A0002</td>\n",
              "      <td>(노인) 양로시설</td>\n",
              "      <td>노인주거복지시설</td>\n",
              "      <td>자치구</td>\n",
              "      <td>이종명</td>\n",
              "      <td>1111000000</td>\n",
              "      <td>종로구</td>\n",
              "      <td>서울특별시 종로구 비봉길 76 (구기동)</td>\n",
              "    </tr>\n",
              "    <tr>\n",
              "      <th>2</th>\n",
              "      <td>청운노인요양원</td>\n",
              "      <td>A0003</td>\n",
              "      <td>(노인) 노인요양시설</td>\n",
              "      <td>노인의료복지시설</td>\n",
              "      <td>자치구</td>\n",
              "      <td>이종후</td>\n",
              "      <td>1111000000</td>\n",
              "      <td>종로구</td>\n",
              "      <td>서울특별시 종로구 비봉길 76 (구기동)</td>\n",
              "    </tr>\n",
              "    <tr>\n",
              "      <th>3</th>\n",
              "      <td>홍파양로원</td>\n",
              "      <td>A0004</td>\n",
              "      <td>(노인) 양로시설</td>\n",
              "      <td>노인주거복지시설</td>\n",
              "      <td>자치구</td>\n",
              "      <td>김우리</td>\n",
              "      <td>1135000000</td>\n",
              "      <td>노원구</td>\n",
              "      <td>서울특별시 노원구 동일로248길 30 (상계동)</td>\n",
              "    </tr>\n",
              "    <tr>\n",
              "      <th>4</th>\n",
              "      <td>천사노인요양원</td>\n",
              "      <td>A0007</td>\n",
              "      <td>(노인) 노인요양시설</td>\n",
              "      <td>노인의료복지시설</td>\n",
              "      <td>자치구</td>\n",
              "      <td>김샛별</td>\n",
              "      <td>1150000000</td>\n",
              "      <td>강서구</td>\n",
              "      <td>서울특별시 강서구 강서로45다길 30-22</td>\n",
              "    </tr>\n",
              "  </tbody>\n",
              "</table>\n",
              "</div>"
            ],
            "text/plain": [
              "            시설명   시설코드  ... 시군구명                        시설주소\n",
              "0  서울꽃동네신내노인요양원  A0001  ...  중랑구          서울특별시 중랑구 신내로 194 \n",
              "1         청운양로원  A0002  ...  종로구      서울특별시 종로구 비봉길 76 (구기동)\n",
              "2       청운노인요양원  A0003  ...  종로구      서울특별시 종로구 비봉길 76 (구기동)\n",
              "3         홍파양로원  A0004  ...  노원구  서울특별시 노원구 동일로248길 30 (상계동)\n",
              "4       천사노인요양원  A0007  ...  강서구     서울특별시 강서구 강서로45다길 30-22\n",
              "\n",
              "[5 rows x 9 columns]"
            ]
          },
          "metadata": {
            "tags": []
          },
          "execution_count": 9
        }
      ]
    },
    {
      "cell_type": "markdown",
      "metadata": {
        "id": "Fc6JQY0ByR3Z"
      },
      "source": [
        "### 의료시설 현황"
      ]
    },
    {
      "cell_type": "code",
      "metadata": {
        "colab": {
          "base_uri": "https://localhost:8080/"
        },
        "id": "DRIuB_HxyDcE",
        "outputId": "78432a5d-f9b7-4abb-faa4-1fd5296d16a9"
      },
      "source": [
        "hospital.head(5)"
      ],
      "execution_count": null,
      "outputs": [
        {
          "output_type": "execute_result",
          "data": {
            "text/html": [
              "<div>\n",
              "<style scoped>\n",
              "    .dataframe tbody tr th:only-of-type {\n",
              "        vertical-align: middle;\n",
              "    }\n",
              "\n",
              "    .dataframe tbody tr th {\n",
              "        vertical-align: top;\n",
              "    }\n",
              "\n",
              "    .dataframe thead th {\n",
              "        text-align: right;\n",
              "    }\n",
              "</style>\n",
              "<table border=\"1\" class=\"dataframe\">\n",
              "  <thead>\n",
              "    <tr style=\"text-align: right;\">\n",
              "      <th></th>\n",
              "      <th>암호화YKIHO코드</th>\n",
              "      <th>요양기관명</th>\n",
              "      <th>종별코드</th>\n",
              "      <th>종별코드명</th>\n",
              "      <th>시도코드</th>\n",
              "      <th>시도코드명</th>\n",
              "      <th>시군구코드</th>\n",
              "      <th>시군구코드명</th>\n",
              "      <th>읍면동</th>\n",
              "      <th>우편번호</th>\n",
              "      <th>주소</th>\n",
              "      <th>전화번호</th>\n",
              "      <th>병원URL</th>\n",
              "      <th>개설일자</th>\n",
              "      <th>총의사수</th>\n",
              "      <th>의과일반의 인원수</th>\n",
              "      <th>의과인턴 인원수</th>\n",
              "      <th>의과레지던트 인원수</th>\n",
              "      <th>의과전문의 인원수</th>\n",
              "      <th>치과일반의 인원수</th>\n",
              "      <th>치과인턴 인원수</th>\n",
              "      <th>치과레지던트 인원수</th>\n",
              "      <th>치과전문의 인원수</th>\n",
              "      <th>한방일반의 인원수</th>\n",
              "      <th>한방인턴 인원수</th>\n",
              "      <th>한방레지던트 인원수</th>\n",
              "      <th>한방전문의 인원수</th>\n",
              "      <th>x좌표</th>\n",
              "      <th>y좌표</th>\n",
              "    </tr>\n",
              "  </thead>\n",
              "  <tbody>\n",
              "    <tr>\n",
              "      <th>0</th>\n",
              "      <td>JDQ4MTYyMiM1MSMkMSMkMCMkODkkMzgxMzUxIzExIyQxIy...</td>\n",
              "      <td>가톨릭대학교인천성모병원</td>\n",
              "      <td>1</td>\n",
              "      <td>상급종합</td>\n",
              "      <td>220000</td>\n",
              "      <td>인천</td>\n",
              "      <td>220003</td>\n",
              "      <td>인천부평구</td>\n",
              "      <td>NaN</td>\n",
              "      <td>21431</td>\n",
              "      <td>인천광역시 부평구 동수로 56 (부평동)</td>\n",
              "      <td>032-1544-9004</td>\n",
              "      <td>http://www.cmcism.or.kr/</td>\n",
              "      <td>19810806.0</td>\n",
              "      <td>324</td>\n",
              "      <td>3</td>\n",
              "      <td>20</td>\n",
              "      <td>68</td>\n",
              "      <td>230</td>\n",
              "      <td>1</td>\n",
              "      <td>0</td>\n",
              "      <td>0</td>\n",
              "      <td>2</td>\n",
              "      <td>0</td>\n",
              "      <td>0</td>\n",
              "      <td>0</td>\n",
              "      <td>0</td>\n",
              "      <td>126.724899</td>\n",
              "      <td>37.484831</td>\n",
              "    </tr>\n",
              "    <tr>\n",
              "      <th>1</th>\n",
              "      <td>JDQ4MTYyMiM1MSMkMSMkNCMkODkkMzgxMzUxIzExIyQxIy...</td>\n",
              "      <td>강릉아산병원</td>\n",
              "      <td>1</td>\n",
              "      <td>상급종합</td>\n",
              "      <td>320000</td>\n",
              "      <td>강원</td>\n",
              "      <td>320100</td>\n",
              "      <td>강릉시</td>\n",
              "      <td>NaN</td>\n",
              "      <td>25440</td>\n",
              "      <td>강원도 강릉시 사천면 방동길 38 ()</td>\n",
              "      <td>033-610-3114</td>\n",
              "      <td>http://www.gnah.co.kr</td>\n",
              "      <td>19960730.0</td>\n",
              "      <td>203</td>\n",
              "      <td>1</td>\n",
              "      <td>0</td>\n",
              "      <td>41</td>\n",
              "      <td>159</td>\n",
              "      <td>0</td>\n",
              "      <td>0</td>\n",
              "      <td>0</td>\n",
              "      <td>2</td>\n",
              "      <td>0</td>\n",
              "      <td>0</td>\n",
              "      <td>0</td>\n",
              "      <td>0</td>\n",
              "      <td>128.857841</td>\n",
              "      <td>37.818433</td>\n",
              "    </tr>\n",
              "    <tr>\n",
              "      <th>2</th>\n",
              "      <td>JDQ4MTg4MSM1MSMkMSMkMCMkODkkMzgxMzUxIzExIyQxIy...</td>\n",
              "      <td>강북삼성병원</td>\n",
              "      <td>1</td>\n",
              "      <td>상급종합</td>\n",
              "      <td>110000</td>\n",
              "      <td>서울</td>\n",
              "      <td>110016</td>\n",
              "      <td>종로구</td>\n",
              "      <td>NaN</td>\n",
              "      <td>3181</td>\n",
              "      <td>서울특별시 종로구 새문안로 29 (평동)</td>\n",
              "      <td>02-2001-2001</td>\n",
              "      <td>http://www.kbsmc.co.kr</td>\n",
              "      <td>19790324.0</td>\n",
              "      <td>403</td>\n",
              "      <td>3</td>\n",
              "      <td>26</td>\n",
              "      <td>134</td>\n",
              "      <td>233</td>\n",
              "      <td>3</td>\n",
              "      <td>0</td>\n",
              "      <td>0</td>\n",
              "      <td>4</td>\n",
              "      <td>0</td>\n",
              "      <td>0</td>\n",
              "      <td>0</td>\n",
              "      <td>0</td>\n",
              "      <td>126.967750</td>\n",
              "      <td>37.568408</td>\n",
              "    </tr>\n",
              "    <tr>\n",
              "      <th>3</th>\n",
              "      <td>JDQ4MTg4MSM1MSMkMSMkMCMkODkkMzgxMzUxIzExIyQxIy...</td>\n",
              "      <td>건국대학교병원</td>\n",
              "      <td>1</td>\n",
              "      <td>상급종합</td>\n",
              "      <td>110000</td>\n",
              "      <td>서울</td>\n",
              "      <td>110023</td>\n",
              "      <td>광진구</td>\n",
              "      <td>NaN</td>\n",
              "      <td>5030</td>\n",
              "      <td>서울특별시 광진구 능동로 120-1 (화양동)</td>\n",
              "      <td>1588-1533</td>\n",
              "      <td>http://www.kuh.ac.kr</td>\n",
              "      <td>19821116.0</td>\n",
              "      <td>442</td>\n",
              "      <td>8</td>\n",
              "      <td>36</td>\n",
              "      <td>155</td>\n",
              "      <td>240</td>\n",
              "      <td>0</td>\n",
              "      <td>0</td>\n",
              "      <td>0</td>\n",
              "      <td>3</td>\n",
              "      <td>0</td>\n",
              "      <td>0</td>\n",
              "      <td>0</td>\n",
              "      <td>0</td>\n",
              "      <td>127.071828</td>\n",
              "      <td>37.540376</td>\n",
              "    </tr>\n",
              "    <tr>\n",
              "      <th>4</th>\n",
              "      <td>JDQ4MTYyMiM4MSMkMSMkMCMkODkkMzgxMzUxIzExIyQxIy...</td>\n",
              "      <td>경북대학교병원</td>\n",
              "      <td>1</td>\n",
              "      <td>상급종합</td>\n",
              "      <td>230000</td>\n",
              "      <td>대구</td>\n",
              "      <td>230006</td>\n",
              "      <td>대구중구</td>\n",
              "      <td>NaN</td>\n",
              "      <td>41944</td>\n",
              "      <td>대구광역시 중구 동덕로 130 (삼덕동2가, 경북대학교병원)</td>\n",
              "      <td>053-200-5114</td>\n",
              "      <td>http://knumc.knu.ac.kr</td>\n",
              "      <td>19100907.0</td>\n",
              "      <td>487</td>\n",
              "      <td>5</td>\n",
              "      <td>66</td>\n",
              "      <td>195</td>\n",
              "      <td>220</td>\n",
              "      <td>0</td>\n",
              "      <td>0</td>\n",
              "      <td>0</td>\n",
              "      <td>1</td>\n",
              "      <td>0</td>\n",
              "      <td>0</td>\n",
              "      <td>0</td>\n",
              "      <td>0</td>\n",
              "      <td>128.604125</td>\n",
              "      <td>35.866774</td>\n",
              "    </tr>\n",
              "  </tbody>\n",
              "</table>\n",
              "</div>"
            ],
            "text/plain": [
              "                                          암호화YKIHO코드  ...        y좌표\n",
              "0  JDQ4MTYyMiM1MSMkMSMkMCMkODkkMzgxMzUxIzExIyQxIy...  ...  37.484831\n",
              "1  JDQ4MTYyMiM1MSMkMSMkNCMkODkkMzgxMzUxIzExIyQxIy...  ...  37.818433\n",
              "2  JDQ4MTg4MSM1MSMkMSMkMCMkODkkMzgxMzUxIzExIyQxIy...  ...  37.568408\n",
              "3  JDQ4MTg4MSM1MSMkMSMkMCMkODkkMzgxMzUxIzExIyQxIy...  ...  37.540376\n",
              "4  JDQ4MTYyMiM4MSMkMSMkMCMkODkkMzgxMzUxIzExIyQxIy...  ...  35.866774\n",
              "\n",
              "[5 rows x 29 columns]"
            ]
          },
          "metadata": {
            "tags": []
          },
          "execution_count": 16
        }
      ]
    },
    {
      "cell_type": "markdown",
      "metadata": {
        "id": "mZYNIgPlDKjk"
      },
      "source": [
        "### use_data (일별 차량운행 희망건, 탑승건, 대기시간, 요금, 승차거리)"
      ]
    },
    {
      "cell_type": "code",
      "metadata": {
        "colab": {
          "base_uri": "https://localhost:8080/"
        },
        "id": "7SdSErSGDNZn",
        "outputId": "f40f6a09-3dae-4f4d-abe6-fb3eaedce74a"
      },
      "source": [
        "use_data"
      ],
      "execution_count": null,
      "outputs": [
        {
          "output_type": "execute_result",
          "data": {
            "text/html": [
              "<div>\n",
              "<style scoped>\n",
              "    .dataframe tbody tr th:only-of-type {\n",
              "        vertical-align: middle;\n",
              "    }\n",
              "\n",
              "    .dataframe tbody tr th {\n",
              "        vertical-align: top;\n",
              "    }\n",
              "\n",
              "    .dataframe thead th {\n",
              "        text-align: right;\n",
              "    }\n",
              "</style>\n",
              "<table border=\"1\" class=\"dataframe\">\n",
              "  <thead>\n",
              "    <tr style=\"text-align: right;\">\n",
              "      <th></th>\n",
              "      <th>기준일</th>\n",
              "      <th>차량운행</th>\n",
              "      <th>희망건</th>\n",
              "      <th>탑승건</th>\n",
              "      <th>평균대기시간</th>\n",
              "      <th>평균요금</th>\n",
              "      <th>평균승차거리</th>\n",
              "    </tr>\n",
              "  </thead>\n",
              "  <tbody>\n",
              "    <tr>\n",
              "      <th>0</th>\n",
              "      <td>2020-08-10</td>\n",
              "      <td>500</td>\n",
              "      <td>4758</td>\n",
              "      <td>3914</td>\n",
              "      <td>37.6</td>\n",
              "      <td>2209</td>\n",
              "      <td>8210</td>\n",
              "    </tr>\n",
              "    <tr>\n",
              "      <th>1</th>\n",
              "      <td>2020-08-11</td>\n",
              "      <td>518</td>\n",
              "      <td>4516</td>\n",
              "      <td>3722</td>\n",
              "      <td>32.0</td>\n",
              "      <td>2220</td>\n",
              "      <td>8330</td>\n",
              "    </tr>\n",
              "    <tr>\n",
              "      <th>2</th>\n",
              "      <td>2020-08-12</td>\n",
              "      <td>543</td>\n",
              "      <td>4795</td>\n",
              "      <td>4079</td>\n",
              "      <td>32.3</td>\n",
              "      <td>2249</td>\n",
              "      <td>8684</td>\n",
              "    </tr>\n",
              "    <tr>\n",
              "      <th>3</th>\n",
              "      <td>2020-08-13</td>\n",
              "      <td>528</td>\n",
              "      <td>4581</td>\n",
              "      <td>3913</td>\n",
              "      <td>33.7</td>\n",
              "      <td>2276</td>\n",
              "      <td>8804</td>\n",
              "    </tr>\n",
              "    <tr>\n",
              "      <th>4</th>\n",
              "      <td>2020-08-14</td>\n",
              "      <td>528</td>\n",
              "      <td>4299</td>\n",
              "      <td>3639</td>\n",
              "      <td>27.6</td>\n",
              "      <td>2262</td>\n",
              "      <td>8763</td>\n",
              "    </tr>\n",
              "    <tr>\n",
              "      <th>...</th>\n",
              "      <td>...</td>\n",
              "      <td>...</td>\n",
              "      <td>...</td>\n",
              "      <td>...</td>\n",
              "      <td>...</td>\n",
              "      <td>...</td>\n",
              "      <td>...</td>\n",
              "    </tr>\n",
              "    <tr>\n",
              "      <th>79</th>\n",
              "      <td>2021-07-07</td>\n",
              "      <td>565</td>\n",
              "      <td>5101</td>\n",
              "      <td>4491</td>\n",
              "      <td>34.0</td>\n",
              "      <td>2217</td>\n",
              "      <td>8394</td>\n",
              "    </tr>\n",
              "    <tr>\n",
              "      <th>80</th>\n",
              "      <td>2021-07-08</td>\n",
              "      <td>571</td>\n",
              "      <td>5097</td>\n",
              "      <td>4467</td>\n",
              "      <td>31.2</td>\n",
              "      <td>2179</td>\n",
              "      <td>8123</td>\n",
              "    </tr>\n",
              "    <tr>\n",
              "      <th>81</th>\n",
              "      <td>2021-07-09</td>\n",
              "      <td>567</td>\n",
              "      <td>4963</td>\n",
              "      <td>4337</td>\n",
              "      <td>31.3</td>\n",
              "      <td>2201</td>\n",
              "      <td>8314</td>\n",
              "    </tr>\n",
              "    <tr>\n",
              "      <th>82</th>\n",
              "      <td>2021-07-10</td>\n",
              "      <td>299</td>\n",
              "      <td>1808</td>\n",
              "      <td>1643</td>\n",
              "      <td>25.0</td>\n",
              "      <td>2337</td>\n",
              "      <td>9297</td>\n",
              "    </tr>\n",
              "    <tr>\n",
              "      <th>83</th>\n",
              "      <td>2021-07-11</td>\n",
              "      <td>248</td>\n",
              "      <td>1154</td>\n",
              "      <td>1084</td>\n",
              "      <td>21.1</td>\n",
              "      <td>2483</td>\n",
              "      <td>10730</td>\n",
              "    </tr>\n",
              "  </tbody>\n",
              "</table>\n",
              "<p>84 rows × 7 columns</p>\n",
              "</div>"
            ],
            "text/plain": [
              "           기준일  차량운행   희망건   탑승건  평균대기시간  평균요금  평균승차거리\n",
              "0   2020-08-10   500  4758  3914    37.6  2209    8210\n",
              "1   2020-08-11   518  4516  3722    32.0  2220    8330\n",
              "2   2020-08-12   543  4795  4079    32.3  2249    8684\n",
              "3   2020-08-13   528  4581  3913    33.7  2276    8804\n",
              "4   2020-08-14   528  4299  3639    27.6  2262    8763\n",
              "..         ...   ...   ...   ...     ...   ...     ...\n",
              "79  2021-07-07   565  5101  4491    34.0  2217    8394\n",
              "80  2021-07-08   571  5097  4467    31.2  2179    8123\n",
              "81  2021-07-09   567  4963  4337    31.3  2201    8314\n",
              "82  2021-07-10   299  1808  1643    25.0  2337    9297\n",
              "83  2021-07-11   248  1154  1084    21.1  2483   10730\n",
              "\n",
              "[84 rows x 7 columns]"
            ]
          },
          "metadata": {
            "tags": []
          },
          "execution_count": 17
        }
      ]
    },
    {
      "cell_type": "markdown",
      "metadata": {
        "id": "8DJaVgJYyxVF"
      },
      "source": [
        "# 필요한 칼럼 추가"
      ]
    },
    {
      "cell_type": "code",
      "metadata": {
        "id": "b4f6AcWRK6d7"
      },
      "source": [
        "YEAR['Receipttime'] = pd.to_datetime(YEAR['Receipttime'], format='%Y-%m-%d %p %I:%M:%S').dt.strftime('%Y-%m-%d %H:%M:%S')\n",
        "YEAR['Settime'] = pd.to_datetime(YEAR['Settime'], format='%Y-%m-%d %p %I:%M:%S').dt.strftime('%Y-%m-%d %H:%M:%S')\n",
        "YEAR['Ridetime'] = pd.to_datetime(YEAR['Ridetime'], format='%Y-%m-%d %p %I:%M:%S').dt.strftime('%Y-%m-%d %H:%M:%S')"
      ],
      "execution_count": null,
      "outputs": []
    },
    {
      "cell_type": "code",
      "metadata": {
        "colab": {
          "base_uri": "https://localhost:8080/",
          "height": 419
        },
        "id": "8x687U11MfB4",
        "outputId": "bf263064-8f77-4f1f-b388-13260b3d001d"
      },
      "source": [
        "YEAR"
      ],
      "execution_count": null,
      "outputs": [
        {
          "output_type": "execute_result",
          "data": {
            "text/html": [
              "<div>\n",
              "<style scoped>\n",
              "    .dataframe tbody tr th:only-of-type {\n",
              "        vertical-align: middle;\n",
              "    }\n",
              "\n",
              "    .dataframe tbody tr th {\n",
              "        vertical-align: top;\n",
              "    }\n",
              "\n",
              "    .dataframe thead th {\n",
              "        text-align: right;\n",
              "    }\n",
              "</style>\n",
              "<table border=\"1\" class=\"dataframe\">\n",
              "  <thead>\n",
              "    <tr style=\"text-align: right;\">\n",
              "      <th></th>\n",
              "      <th>Unnamed: 0</th>\n",
              "      <th>No</th>\n",
              "      <th>Cartype</th>\n",
              "      <th>Receipttime</th>\n",
              "      <th>Settime</th>\n",
              "      <th>Ridetime</th>\n",
              "      <th>Startpos1</th>\n",
              "      <th>Startpos2</th>\n",
              "      <th>Endpos1</th>\n",
              "      <th>Endpos2</th>\n",
              "    </tr>\n",
              "  </thead>\n",
              "  <tbody>\n",
              "    <tr>\n",
              "      <th>0</th>\n",
              "      <td>0</td>\n",
              "      <td>3551</td>\n",
              "      <td>중형 승합</td>\n",
              "      <td>2021-01-11 00:02:48</td>\n",
              "      <td>2021-01-11 00:03:56</td>\n",
              "      <td>2021-01-11 00:49:38</td>\n",
              "      <td>강서구</td>\n",
              "      <td>가양제3동</td>\n",
              "      <td>마포구</td>\n",
              "      <td>합정동</td>\n",
              "    </tr>\n",
              "    <tr>\n",
              "      <th>1</th>\n",
              "      <td>1</td>\n",
              "      <td>804</td>\n",
              "      <td>중형승합</td>\n",
              "      <td>2021-01-11 00:58:00</td>\n",
              "      <td>2021-01-11 01:04:20</td>\n",
              "      <td>2021-01-11 01:19:47</td>\n",
              "      <td>강북구</td>\n",
              "      <td>번제3동</td>\n",
              "      <td>노원구</td>\n",
              "      <td>중계1동</td>\n",
              "    </tr>\n",
              "    <tr>\n",
              "      <th>2</th>\n",
              "      <td>2</td>\n",
              "      <td>5727</td>\n",
              "      <td>중형승합</td>\n",
              "      <td>2021-01-11 01:20:00</td>\n",
              "      <td>2021-01-11 01:27:25</td>\n",
              "      <td>2021-01-11 01:43:43</td>\n",
              "      <td>중구</td>\n",
              "      <td>회현동</td>\n",
              "      <td>성동구</td>\n",
              "      <td>왕십리제2동</td>\n",
              "    </tr>\n",
              "    <tr>\n",
              "      <th>3</th>\n",
              "      <td>3</td>\n",
              "      <td>5725</td>\n",
              "      <td>중형승합</td>\n",
              "      <td>2021-01-11 01:47:00</td>\n",
              "      <td>2021-01-11 01:57:12</td>\n",
              "      <td>2021-01-11 02:44:30</td>\n",
              "      <td>중랑구</td>\n",
              "      <td>면목제2동</td>\n",
              "      <td>서초구</td>\n",
              "      <td>서초1동</td>\n",
              "    </tr>\n",
              "    <tr>\n",
              "      <th>4</th>\n",
              "      <td>4</td>\n",
              "      <td>7846</td>\n",
              "      <td>중형 승합</td>\n",
              "      <td>2021-01-11 02:10:00</td>\n",
              "      <td>2021-01-11 02:18:38</td>\n",
              "      <td>2021-01-11 02:39:32</td>\n",
              "      <td>성동구</td>\n",
              "      <td>금호1가동</td>\n",
              "      <td>중랑구</td>\n",
              "      <td>면목제3.8동</td>\n",
              "    </tr>\n",
              "    <tr>\n",
              "      <th>...</th>\n",
              "      <td>...</td>\n",
              "      <td>...</td>\n",
              "      <td>...</td>\n",
              "      <td>...</td>\n",
              "      <td>...</td>\n",
              "      <td>...</td>\n",
              "      <td>...</td>\n",
              "      <td>...</td>\n",
              "      <td>...</td>\n",
              "      <td>...</td>\n",
              "    </tr>\n",
              "    <tr>\n",
              "      <th>19288</th>\n",
              "      <td>19288</td>\n",
              "      <td>8267</td>\n",
              "      <td>중형승합</td>\n",
              "      <td>2020-12-13 22:45:00</td>\n",
              "      <td>2020-12-13 22:46:42</td>\n",
              "      <td>2020-12-13 22:54:00</td>\n",
              "      <td>중랑구</td>\n",
              "      <td>면목제4동</td>\n",
              "      <td>노원구</td>\n",
              "      <td>상계1동</td>\n",
              "    </tr>\n",
              "    <tr>\n",
              "      <th>19289</th>\n",
              "      <td>19289</td>\n",
              "      <td>5787</td>\n",
              "      <td>중형승합</td>\n",
              "      <td>2020-12-13 23:08:10</td>\n",
              "      <td>2020-12-13 23:17:14</td>\n",
              "      <td>2020-12-13 23:50:23</td>\n",
              "      <td>강서구</td>\n",
              "      <td>가양제3동</td>\n",
              "      <td>마포구</td>\n",
              "      <td>합정동</td>\n",
              "    </tr>\n",
              "    <tr>\n",
              "      <th>19290</th>\n",
              "      <td>19290</td>\n",
              "      <td>5727</td>\n",
              "      <td>중형승합</td>\n",
              "      <td>2020-12-13 23:22:00</td>\n",
              "      <td>2020-12-13 23:29:45</td>\n",
              "      <td>2020-12-13 23:53:12</td>\n",
              "      <td>강남구</td>\n",
              "      <td>역삼1동</td>\n",
              "      <td>동작구</td>\n",
              "      <td>사당제1동</td>\n",
              "    </tr>\n",
              "    <tr>\n",
              "      <th>19291</th>\n",
              "      <td>19291</td>\n",
              "      <td>4744</td>\n",
              "      <td>중형 승합</td>\n",
              "      <td>2020-12-13 23:36:00</td>\n",
              "      <td>2020-12-13 23:43:47</td>\n",
              "      <td>2020-12-13 23:56:50</td>\n",
              "      <td>동대문구</td>\n",
              "      <td>장안제2동</td>\n",
              "      <td>동대문구</td>\n",
              "      <td>답십리제4동</td>\n",
              "    </tr>\n",
              "    <tr>\n",
              "      <th>19292</th>\n",
              "      <td>19292</td>\n",
              "      <td>1572</td>\n",
              "      <td>중형 승합</td>\n",
              "      <td>2020-12-13 23:52:00</td>\n",
              "      <td>2020-12-13 23:52:37</td>\n",
              "      <td>2020-12-14 00:23:55</td>\n",
              "      <td>용산구</td>\n",
              "      <td>청파동</td>\n",
              "      <td>금천구</td>\n",
              "      <td>시흥제1동</td>\n",
              "    </tr>\n",
              "  </tbody>\n",
              "</table>\n",
              "<p>263893 rows × 10 columns</p>\n",
              "</div>"
            ],
            "text/plain": [
              "       Unnamed: 0    No Cartype  ... Startpos2 Endpos1  Endpos2\n",
              "0               0  3551   중형 승합  ...     가양제3동     마포구      합정동\n",
              "1               1   804    중형승합  ...      번제3동     노원구     중계1동\n",
              "2               2  5727    중형승합  ...       회현동     성동구   왕십리제2동\n",
              "3               3  5725    중형승합  ...     면목제2동     서초구     서초1동\n",
              "4               4  7846   중형 승합  ...     금호1가동     중랑구  면목제3.8동\n",
              "...           ...   ...     ...  ...       ...     ...      ...\n",
              "19288       19288  8267    중형승합  ...     면목제4동     노원구     상계1동\n",
              "19289       19289  5787    중형승합  ...     가양제3동     마포구      합정동\n",
              "19290       19290  5727    중형승합  ...      역삼1동     동작구    사당제1동\n",
              "19291       19291  4744   중형 승합  ...     장안제2동    동대문구   답십리제4동\n",
              "19292       19292  1572   중형 승합  ...       청파동     금천구    시흥제1동\n",
              "\n",
              "[263893 rows x 10 columns]"
            ]
          },
          "metadata": {
            "tags": []
          },
          "execution_count": 11
        }
      ]
    },
    {
      "cell_type": "markdown",
      "metadata": {
        "id": "n-V0z0SGB5X7"
      },
      "source": [
        "### 승차일시 - 배차일시 (set_to_ride)"
      ]
    },
    {
      "cell_type": "code",
      "metadata": {
        "id": "wM1aP_TgSWG2"
      },
      "source": [
        "# 배차가 되고 승차를 하기까지 걸린 시간 계산하여 set_to_ride 칼럼에 추가\n",
        "\n",
        "YEAR['Settime'] = pd.to_datetime(YEAR['Settime'], format='%Y-%m-%d %H:%M:%S')\n",
        "YEAR['Ridetime'] = pd.to_datetime(YEAR['Ridetime'], format='%Y-%m-%d %H:%M:%S')\n",
        "YEAR['set_to_ride'] = YEAR['Ridetime'] - YEAR['Settime']"
      ],
      "execution_count": null,
      "outputs": []
    },
    {
      "cell_type": "code",
      "metadata": {
        "colab": {
          "base_uri": "https://localhost:8080/",
          "height": 374
        },
        "id": "Fx3uUwsb-PJV",
        "outputId": "43791bba-a5a6-4c3e-9d41-6a3b19bdfd63"
      },
      "source": [
        "YEAR.head(5)"
      ],
      "execution_count": null,
      "outputs": [
        {
          "output_type": "execute_result",
          "data": {
            "text/html": [
              "<div>\n",
              "<style scoped>\n",
              "    .dataframe tbody tr th:only-of-type {\n",
              "        vertical-align: middle;\n",
              "    }\n",
              "\n",
              "    .dataframe tbody tr th {\n",
              "        vertical-align: top;\n",
              "    }\n",
              "\n",
              "    .dataframe thead th {\n",
              "        text-align: right;\n",
              "    }\n",
              "</style>\n",
              "<table border=\"1\" class=\"dataframe\">\n",
              "  <thead>\n",
              "    <tr style=\"text-align: right;\">\n",
              "      <th></th>\n",
              "      <th>Unnamed: 0</th>\n",
              "      <th>No</th>\n",
              "      <th>Cartype</th>\n",
              "      <th>Receipttime</th>\n",
              "      <th>Settime</th>\n",
              "      <th>Ridetime</th>\n",
              "      <th>Startpos1</th>\n",
              "      <th>Startpos2</th>\n",
              "      <th>Endpos1</th>\n",
              "      <th>Endpos2</th>\n",
              "      <th>set_to_ride</th>\n",
              "    </tr>\n",
              "  </thead>\n",
              "  <tbody>\n",
              "    <tr>\n",
              "      <th>0</th>\n",
              "      <td>0</td>\n",
              "      <td>3551</td>\n",
              "      <td>중형 승합</td>\n",
              "      <td>2021-01-11 00:02:48</td>\n",
              "      <td>2021-01-11 00:03:56</td>\n",
              "      <td>2021-01-11 00:49:38</td>\n",
              "      <td>강서구</td>\n",
              "      <td>가양제3동</td>\n",
              "      <td>마포구</td>\n",
              "      <td>합정동</td>\n",
              "      <td>0 days 00:45:42</td>\n",
              "    </tr>\n",
              "    <tr>\n",
              "      <th>1</th>\n",
              "      <td>1</td>\n",
              "      <td>804</td>\n",
              "      <td>중형승합</td>\n",
              "      <td>2021-01-11 00:58:00</td>\n",
              "      <td>2021-01-11 01:04:20</td>\n",
              "      <td>2021-01-11 01:19:47</td>\n",
              "      <td>강북구</td>\n",
              "      <td>번제3동</td>\n",
              "      <td>노원구</td>\n",
              "      <td>중계1동</td>\n",
              "      <td>0 days 00:15:27</td>\n",
              "    </tr>\n",
              "    <tr>\n",
              "      <th>2</th>\n",
              "      <td>2</td>\n",
              "      <td>5727</td>\n",
              "      <td>중형승합</td>\n",
              "      <td>2021-01-11 01:20:00</td>\n",
              "      <td>2021-01-11 01:27:25</td>\n",
              "      <td>2021-01-11 01:43:43</td>\n",
              "      <td>중구</td>\n",
              "      <td>회현동</td>\n",
              "      <td>성동구</td>\n",
              "      <td>왕십리제2동</td>\n",
              "      <td>0 days 00:16:18</td>\n",
              "    </tr>\n",
              "    <tr>\n",
              "      <th>3</th>\n",
              "      <td>3</td>\n",
              "      <td>5725</td>\n",
              "      <td>중형승합</td>\n",
              "      <td>2021-01-11 01:47:00</td>\n",
              "      <td>2021-01-11 01:57:12</td>\n",
              "      <td>2021-01-11 02:44:30</td>\n",
              "      <td>중랑구</td>\n",
              "      <td>면목제2동</td>\n",
              "      <td>서초구</td>\n",
              "      <td>서초1동</td>\n",
              "      <td>0 days 00:47:18</td>\n",
              "    </tr>\n",
              "    <tr>\n",
              "      <th>4</th>\n",
              "      <td>4</td>\n",
              "      <td>7846</td>\n",
              "      <td>중형 승합</td>\n",
              "      <td>2021-01-11 02:10:00</td>\n",
              "      <td>2021-01-11 02:18:38</td>\n",
              "      <td>2021-01-11 02:39:32</td>\n",
              "      <td>성동구</td>\n",
              "      <td>금호1가동</td>\n",
              "      <td>중랑구</td>\n",
              "      <td>면목제3.8동</td>\n",
              "      <td>0 days 00:20:54</td>\n",
              "    </tr>\n",
              "  </tbody>\n",
              "</table>\n",
              "</div>"
            ],
            "text/plain": [
              "   Unnamed: 0    No Cartype  ... Endpos1  Endpos2     set_to_ride\n",
              "0           0  3551   중형 승합  ...     마포구      합정동 0 days 00:45:42\n",
              "1           1   804    중형승합  ...     노원구     중계1동 0 days 00:15:27\n",
              "2           2  5727    중형승합  ...     성동구   왕십리제2동 0 days 00:16:18\n",
              "3           3  5725    중형승합  ...     서초구     서초1동 0 days 00:47:18\n",
              "4           4  7846   중형 승합  ...     중랑구  면목제3.8동 0 days 00:20:54\n",
              "\n",
              "[5 rows x 11 columns]"
            ]
          },
          "metadata": {
            "tags": []
          },
          "execution_count": 12
        }
      ]
    },
    {
      "cell_type": "markdown",
      "metadata": {
        "id": "vRQRcCIOCBrg"
      },
      "source": [
        "### 배차일시 - 예정일시 (receipt_to_set)"
      ]
    },
    {
      "cell_type": "code",
      "metadata": {
        "id": "3n-S0wgoCFMo"
      },
      "source": [
        "# 승차 예약을 하고 배차가 되기까지 걸린 시간 계산하여 receipt_to_set 칼럼에 추가\n",
        "YEAR['Receipttime'] = pd.to_datetime(YEAR['Receipttime'], format='%Y-%m-%d %H:%M:%S')\n",
        "YEAR['receipt_to_set'] = YEAR['Settime'] - YEAR['Receipttime']"
      ],
      "execution_count": null,
      "outputs": []
    },
    {
      "cell_type": "code",
      "metadata": {
        "colab": {
          "base_uri": "https://localhost:8080/",
          "height": 411
        },
        "id": "ZMGj2IfQ-npi",
        "outputId": "937347e3-ba1c-4877-f4c8-4f020b09bbe5"
      },
      "source": [
        "YEAR.head(5)"
      ],
      "execution_count": null,
      "outputs": [
        {
          "output_type": "execute_result",
          "data": {
            "text/html": [
              "<div>\n",
              "<style scoped>\n",
              "    .dataframe tbody tr th:only-of-type {\n",
              "        vertical-align: middle;\n",
              "    }\n",
              "\n",
              "    .dataframe tbody tr th {\n",
              "        vertical-align: top;\n",
              "    }\n",
              "\n",
              "    .dataframe thead th {\n",
              "        text-align: right;\n",
              "    }\n",
              "</style>\n",
              "<table border=\"1\" class=\"dataframe\">\n",
              "  <thead>\n",
              "    <tr style=\"text-align: right;\">\n",
              "      <th></th>\n",
              "      <th>Unnamed: 0</th>\n",
              "      <th>No</th>\n",
              "      <th>Cartype</th>\n",
              "      <th>Receipttime</th>\n",
              "      <th>Settime</th>\n",
              "      <th>Ridetime</th>\n",
              "      <th>Startpos1</th>\n",
              "      <th>Startpos2</th>\n",
              "      <th>Endpos1</th>\n",
              "      <th>Endpos2</th>\n",
              "      <th>set_to_ride</th>\n",
              "      <th>receipt_to_set</th>\n",
              "    </tr>\n",
              "  </thead>\n",
              "  <tbody>\n",
              "    <tr>\n",
              "      <th>0</th>\n",
              "      <td>0</td>\n",
              "      <td>3551</td>\n",
              "      <td>중형 승합</td>\n",
              "      <td>2021-01-11 00:02:48</td>\n",
              "      <td>2021-01-11 00:03:56</td>\n",
              "      <td>2021-01-11 00:49:38</td>\n",
              "      <td>강서구</td>\n",
              "      <td>가양제3동</td>\n",
              "      <td>마포구</td>\n",
              "      <td>합정동</td>\n",
              "      <td>0 days 00:45:42</td>\n",
              "      <td>0 days 00:01:08</td>\n",
              "    </tr>\n",
              "    <tr>\n",
              "      <th>1</th>\n",
              "      <td>1</td>\n",
              "      <td>804</td>\n",
              "      <td>중형승합</td>\n",
              "      <td>2021-01-11 00:58:00</td>\n",
              "      <td>2021-01-11 01:04:20</td>\n",
              "      <td>2021-01-11 01:19:47</td>\n",
              "      <td>강북구</td>\n",
              "      <td>번제3동</td>\n",
              "      <td>노원구</td>\n",
              "      <td>중계1동</td>\n",
              "      <td>0 days 00:15:27</td>\n",
              "      <td>0 days 00:06:20</td>\n",
              "    </tr>\n",
              "    <tr>\n",
              "      <th>2</th>\n",
              "      <td>2</td>\n",
              "      <td>5727</td>\n",
              "      <td>중형승합</td>\n",
              "      <td>2021-01-11 01:20:00</td>\n",
              "      <td>2021-01-11 01:27:25</td>\n",
              "      <td>2021-01-11 01:43:43</td>\n",
              "      <td>중구</td>\n",
              "      <td>회현동</td>\n",
              "      <td>성동구</td>\n",
              "      <td>왕십리제2동</td>\n",
              "      <td>0 days 00:16:18</td>\n",
              "      <td>0 days 00:07:25</td>\n",
              "    </tr>\n",
              "    <tr>\n",
              "      <th>3</th>\n",
              "      <td>3</td>\n",
              "      <td>5725</td>\n",
              "      <td>중형승합</td>\n",
              "      <td>2021-01-11 01:47:00</td>\n",
              "      <td>2021-01-11 01:57:12</td>\n",
              "      <td>2021-01-11 02:44:30</td>\n",
              "      <td>중랑구</td>\n",
              "      <td>면목제2동</td>\n",
              "      <td>서초구</td>\n",
              "      <td>서초1동</td>\n",
              "      <td>0 days 00:47:18</td>\n",
              "      <td>0 days 00:10:12</td>\n",
              "    </tr>\n",
              "    <tr>\n",
              "      <th>4</th>\n",
              "      <td>4</td>\n",
              "      <td>7846</td>\n",
              "      <td>중형 승합</td>\n",
              "      <td>2021-01-11 02:10:00</td>\n",
              "      <td>2021-01-11 02:18:38</td>\n",
              "      <td>2021-01-11 02:39:32</td>\n",
              "      <td>성동구</td>\n",
              "      <td>금호1가동</td>\n",
              "      <td>중랑구</td>\n",
              "      <td>면목제3.8동</td>\n",
              "      <td>0 days 00:20:54</td>\n",
              "      <td>0 days 00:08:38</td>\n",
              "    </tr>\n",
              "  </tbody>\n",
              "</table>\n",
              "</div>"
            ],
            "text/plain": [
              "   Unnamed: 0    No Cartype  ...  Endpos2     set_to_ride  receipt_to_set\n",
              "0           0  3551   중형 승합  ...      합정동 0 days 00:45:42 0 days 00:01:08\n",
              "1           1   804    중형승합  ...     중계1동 0 days 00:15:27 0 days 00:06:20\n",
              "2           2  5727    중형승합  ...   왕십리제2동 0 days 00:16:18 0 days 00:07:25\n",
              "3           3  5725    중형승합  ...     서초1동 0 days 00:47:18 0 days 00:10:12\n",
              "4           4  7846   중형 승합  ...  면목제3.8동 0 days 00:20:54 0 days 00:08:38\n",
              "\n",
              "[5 rows x 12 columns]"
            ]
          },
          "metadata": {
            "tags": []
          },
          "execution_count": 14
        }
      ]
    },
    {
      "cell_type": "markdown",
      "metadata": {
        "id": "1OOJxpNxDzu4"
      },
      "source": [
        "### 예정일시 - 승차일시 (receipt_to_ride)"
      ]
    },
    {
      "cell_type": "code",
      "metadata": {
        "id": "w-473l6vEHyR"
      },
      "source": [
        "# 승차 예약을 하고 실제로 승차를 하기까지 걸린 시간을 계산하여 receipt_to_ride 칼럼에 추가\n",
        "YEAR['receipt_to_ride'] = YEAR['Ridetime'] - YEAR['Receipttime']"
      ],
      "execution_count": null,
      "outputs": []
    },
    {
      "cell_type": "code",
      "metadata": {
        "colab": {
          "base_uri": "https://localhost:8080/",
          "height": 357
        },
        "id": "rswRqpQBERGY",
        "outputId": "1efbd3b6-e466-46cb-8ea9-8cba958f887f"
      },
      "source": [
        "YEAR.head(5)"
      ],
      "execution_count": null,
      "outputs": [
        {
          "output_type": "execute_result",
          "data": {
            "text/html": [
              "<div>\n",
              "<style scoped>\n",
              "    .dataframe tbody tr th:only-of-type {\n",
              "        vertical-align: middle;\n",
              "    }\n",
              "\n",
              "    .dataframe tbody tr th {\n",
              "        vertical-align: top;\n",
              "    }\n",
              "\n",
              "    .dataframe thead th {\n",
              "        text-align: right;\n",
              "    }\n",
              "</style>\n",
              "<table border=\"1\" class=\"dataframe\">\n",
              "  <thead>\n",
              "    <tr style=\"text-align: right;\">\n",
              "      <th></th>\n",
              "      <th>Unnamed: 0</th>\n",
              "      <th>No</th>\n",
              "      <th>Cartype</th>\n",
              "      <th>Receipttime</th>\n",
              "      <th>Settime</th>\n",
              "      <th>Ridetime</th>\n",
              "      <th>Startpos1</th>\n",
              "      <th>Startpos2</th>\n",
              "      <th>Endpos1</th>\n",
              "      <th>Endpos2</th>\n",
              "      <th>set_to_ride</th>\n",
              "      <th>receipt_to_set</th>\n",
              "      <th>receipt_to_ride</th>\n",
              "    </tr>\n",
              "  </thead>\n",
              "  <tbody>\n",
              "    <tr>\n",
              "      <th>0</th>\n",
              "      <td>0</td>\n",
              "      <td>3551</td>\n",
              "      <td>중형 승합</td>\n",
              "      <td>2021-01-11 00:02:48</td>\n",
              "      <td>2021-01-11 00:03:56</td>\n",
              "      <td>2021-01-11 00:49:38</td>\n",
              "      <td>강서구</td>\n",
              "      <td>가양제3동</td>\n",
              "      <td>마포구</td>\n",
              "      <td>합정동</td>\n",
              "      <td>0 days 00:45:42</td>\n",
              "      <td>0 days 00:01:08</td>\n",
              "      <td>0 days 00:46:50</td>\n",
              "    </tr>\n",
              "    <tr>\n",
              "      <th>1</th>\n",
              "      <td>1</td>\n",
              "      <td>804</td>\n",
              "      <td>중형승합</td>\n",
              "      <td>2021-01-11 00:58:00</td>\n",
              "      <td>2021-01-11 01:04:20</td>\n",
              "      <td>2021-01-11 01:19:47</td>\n",
              "      <td>강북구</td>\n",
              "      <td>번제3동</td>\n",
              "      <td>노원구</td>\n",
              "      <td>중계1동</td>\n",
              "      <td>0 days 00:15:27</td>\n",
              "      <td>0 days 00:06:20</td>\n",
              "      <td>0 days 00:21:47</td>\n",
              "    </tr>\n",
              "    <tr>\n",
              "      <th>2</th>\n",
              "      <td>2</td>\n",
              "      <td>5727</td>\n",
              "      <td>중형승합</td>\n",
              "      <td>2021-01-11 01:20:00</td>\n",
              "      <td>2021-01-11 01:27:25</td>\n",
              "      <td>2021-01-11 01:43:43</td>\n",
              "      <td>중구</td>\n",
              "      <td>회현동</td>\n",
              "      <td>성동구</td>\n",
              "      <td>왕십리제2동</td>\n",
              "      <td>0 days 00:16:18</td>\n",
              "      <td>0 days 00:07:25</td>\n",
              "      <td>0 days 00:23:43</td>\n",
              "    </tr>\n",
              "    <tr>\n",
              "      <th>3</th>\n",
              "      <td>3</td>\n",
              "      <td>5725</td>\n",
              "      <td>중형승합</td>\n",
              "      <td>2021-01-11 01:47:00</td>\n",
              "      <td>2021-01-11 01:57:12</td>\n",
              "      <td>2021-01-11 02:44:30</td>\n",
              "      <td>중랑구</td>\n",
              "      <td>면목제2동</td>\n",
              "      <td>서초구</td>\n",
              "      <td>서초1동</td>\n",
              "      <td>0 days 00:47:18</td>\n",
              "      <td>0 days 00:10:12</td>\n",
              "      <td>0 days 00:57:30</td>\n",
              "    </tr>\n",
              "    <tr>\n",
              "      <th>4</th>\n",
              "      <td>4</td>\n",
              "      <td>7846</td>\n",
              "      <td>중형 승합</td>\n",
              "      <td>2021-01-11 02:10:00</td>\n",
              "      <td>2021-01-11 02:18:38</td>\n",
              "      <td>2021-01-11 02:39:32</td>\n",
              "      <td>성동구</td>\n",
              "      <td>금호1가동</td>\n",
              "      <td>중랑구</td>\n",
              "      <td>면목제3.8동</td>\n",
              "      <td>0 days 00:20:54</td>\n",
              "      <td>0 days 00:08:38</td>\n",
              "      <td>0 days 00:29:32</td>\n",
              "    </tr>\n",
              "  </tbody>\n",
              "</table>\n",
              "</div>"
            ],
            "text/plain": [
              "   Unnamed: 0    No Cartype  ...     set_to_ride  receipt_to_set receipt_to_ride\n",
              "0           0  3551   중형 승합  ... 0 days 00:45:42 0 days 00:01:08 0 days 00:46:50\n",
              "1           1   804    중형승합  ... 0 days 00:15:27 0 days 00:06:20 0 days 00:21:47\n",
              "2           2  5727    중형승합  ... 0 days 00:16:18 0 days 00:07:25 0 days 00:23:43\n",
              "3           3  5725    중형승합  ... 0 days 00:47:18 0 days 00:10:12 0 days 00:57:30\n",
              "4           4  7846   중형 승합  ... 0 days 00:20:54 0 days 00:08:38 0 days 00:29:32\n",
              "\n",
              "[5 rows x 13 columns]"
            ]
          },
          "metadata": {
            "tags": []
          },
          "execution_count": 15
        }
      ]
    },
    {
      "cell_type": "markdown",
      "metadata": {
        "id": "i3kYVcC0hQe0"
      },
      "source": [
        "#데이터 시각화"
      ]
    },
    {
      "cell_type": "markdown",
      "metadata": {
        "id": "TnbAqb1M1JPK"
      },
      "source": [
        "### 월 별 차량운행수, 희망건수, 탑승건수, 탑승건/희망건"
      ]
    },
    {
      "cell_type": "code",
      "metadata": {
        "id": "NK1fwt4GhaAR"
      },
      "source": [
        "#월별 차량운행수, 희망건수, 탑승건수, 탑승건/희망건 \n",
        "#데이터 불러오기\n",
        "import warnings\n",
        "warnings.filterwarnings(action='ignore')\n",
        "use_data['기준일'] = pd.to_datetime(use_data['기준일'])\n",
        "use_data['y-m'] = use_data['기준일'].dt.strftime('%Y-%m')\n",
        "\n",
        "per_month = pd.DataFrame({'y-m':['2020-08','2020-09','2020-10','2020-11','2020-12','2021-01','2021-02','2021-03','2021-04','2021-05','2021-06','2021-07']})\n",
        "per_month['y-m'] = pd.to_datetime(per_month['y-m'])\n",
        "per_month['y-m'] = per_month['y-m'].dt.strftime('%Y-%m')\n",
        "per_month.set_index(\"y-m\", inplace = True )\n",
        "\n",
        "per_month['차량운행'] = use_data.groupby(by =['y-m']).sum()['차량운행']\n",
        "per_month['희망건'] = use_data.groupby(by =['y-m']).sum()['희망건']\n",
        "per_month['탑승건'] = use_data.groupby(by =['y-m']).sum()['탑승건']\n",
        "per_month['탑승건/희망건'] = per_month['탑승건']/ per_month['희망건']\n",
        "\n",
        "use_data.groupby(by =['y-m']).sum()['희망건']\n",
        "per_month = per_month.reset_index()\n"
      ],
      "execution_count": null,
      "outputs": []
    },
    {
      "cell_type": "markdown",
      "metadata": {
        "id": "JV5XEtmdWLBV"
      },
      "source": [
        "### 월 별 차량운행 수"
      ]
    },
    {
      "cell_type": "code",
      "metadata": {
        "colab": {
          "base_uri": "https://localhost:8080/",
          "height": 405
        },
        "id": "I1mHB74tWPgx",
        "outputId": "ea79bce6-f5f2-4802-fa6f-75c9785b0b47"
      },
      "source": [
        "# 매 달 차량운행 수는 크게 차이를 보이지 않았지만 2월달에 운행 수가 적은 것으로 확인\n",
        "plt.figure(figsize =[9,6])\n",
        "sns.barplot(x = 'y-m',y = '차량운행', data = per_month)"
      ],
      "execution_count": null,
      "outputs": [
        {
          "output_type": "execute_result",
          "data": {
            "text/plain": [
              "<matplotlib.axes._subplots.AxesSubplot at 0x7f78c8094e90>"
            ]
          },
          "metadata": {
            "tags": []
          },
          "execution_count": 18
        },
        {
          "output_type": "display_data",
          "data": {
            "image/png": "[encoded data removed]",
            "text/plain": [
              "<Figure size 648x432 with 1 Axes>"
            ]
          },
          "metadata": {
            "tags": [],
            "needs_background": "light"
          }
        }
      ]
    },
    {
      "cell_type": "markdown",
      "metadata": {
        "id": "HrunnNb_WW8d"
      },
      "source": [
        "### 월 별 희망건수"
      ]
    },
    {
      "cell_type": "code",
      "metadata": {
        "colab": {
          "base_uri": "https://localhost:8080/",
          "height": 405
        },
        "id": "MWvLa6FrWYb_",
        "outputId": "af812014-4a35-482a-b4b9-5fc4fcb4d104"
      },
      "source": [
        "# 상반기에 희망건수가 많았으며, 2월달에는 희망 건수가 적은 것을 확인\n",
        "plt.figure(figsize =[9,6])\n",
        "sns.barplot(x = 'y-m',y = '희망건', data = per_month)"
      ],
      "execution_count": null,
      "outputs": [
        {
          "output_type": "execute_result",
          "data": {
            "text/plain": [
              "<matplotlib.axes._subplots.AxesSubplot at 0x7f78c8123050>"
            ]
          },
          "metadata": {
            "tags": []
          },
          "execution_count": 19
        },
        {
          "output_type": "display_data",
          "data": {
            "image/png": "[encoded data removed]",
            "text/plain": [
              "<Figure size 648x432 with 1 Axes>"
            ]
          },
          "metadata": {
            "tags": [],
            "needs_background": "light"
          }
        }
      ]
    },
    {
      "cell_type": "markdown",
      "metadata": {
        "id": "A1XqyIwJWe6b"
      },
      "source": [
        "### 월 별 탑승건수"
      ]
    },
    {
      "cell_type": "code",
      "metadata": {
        "colab": {
          "base_uri": "https://localhost:8080/",
          "height": 405
        },
        "id": "tnxJD_miWgx8",
        "outputId": "3180e98c-4d1c-48f4-b9dc-74054dddd5ec"
      },
      "source": [
        "# 월 별 실제 탑승 건수는 2월이 가장 적고 상반기가 하반기에 비해 많은 것을 확인\n",
        "plt.figure(figsize =[9,6])\n",
        "sns.barplot(x = 'y-m',y = '탑승건', data = per_month)"
      ],
      "execution_count": null,
      "outputs": [
        {
          "output_type": "execute_result",
          "data": {
            "text/plain": [
              "<matplotlib.axes._subplots.AxesSubplot at 0x7f78c81a04d0>"
            ]
          },
          "metadata": {
            "tags": []
          },
          "execution_count": 20
        },
        {
          "output_type": "display_data",
          "data": {
            "image/png": "[encoded data removed]",
            "text/plain": [
              "<Figure size 648x432 with 1 Axes>"
            ]
          },
          "metadata": {
            "tags": [],
            "needs_background": "light"
          }
        }
      ]
    },
    {
      "cell_type": "markdown",
      "metadata": {
        "id": "myd4TtbiWlKL"
      },
      "source": [
        "### 월 별 탑승건/희망건"
      ]
    },
    {
      "cell_type": "code",
      "metadata": {
        "colab": {
          "base_uri": "https://localhost:8080/",
          "height": 405
        },
        "id": "IicGqz4vWm_X",
        "outputId": "3717811c-f904-4c76-f131-a236e63208b3"
      },
      "source": [
        "# 월 별 탑승권/희망건의 수는 매 달 거의 비슷한 것으로 보아 \n",
        "# 탑승을 희망하는 사람들 중 실제 탑승을 하는 사람들의 비율은 거의 비슷한 것을 확인\n",
        "plt.figure(figsize =[9,6])\n",
        "sns.barplot(x = 'y-m',y = '탑승건/희망건', data = per_month)"
      ],
      "execution_count": null,
      "outputs": [
        {
          "output_type": "execute_result",
          "data": {
            "text/plain": [
              "<matplotlib.axes._subplots.AxesSubplot at 0x7f78c822c050>"
            ]
          },
          "metadata": {
            "tags": []
          },
          "execution_count": 21
        },
        {
          "output_type": "display_data",
          "data": {
            "image/png": "[encoded data removed]",
            "text/plain": [
              "<Figure size 648x432 with 1 Axes>"
            ]
          },
          "metadata": {
            "tags": [],
            "needs_background": "light"
          }
        }
      ]
    },
    {
      "cell_type": "markdown",
      "metadata": {
        "id": "nZxZKIQa1B2s"
      },
      "source": [
        "### 출발지 별 이용자 수"
      ]
    },
    {
      "cell_type": "code",
      "metadata": {
        "colab": {
          "base_uri": "https://localhost:8080/",
          "height": 485
        },
        "id": "xXhlpIB1TZ9v",
        "outputId": "79e94ab8-c8de-4841-9f0e-cfbf573912b2"
      },
      "source": [
        "#출발지 별 이용자는 노원구 > 강서구 > 은평구 > 서대문구 .. 순으로\n",
        "# 노원구가 가장 많고, 금천구가 가장 적은 것으로 확인\n",
        "plt.figure(figsize=(25,12))\n",
        "sns.countplot(data = YEAR, x=\"Startpos1\", order= combine['지역'].value_counts().index)\n",
        "plt.title('출발지 별 이용자 수')"
      ],
      "execution_count": null,
      "outputs": [
        {
          "output_type": "execute_result",
          "data": {
            "text/plain": [
              "Text(0.5, 1.0, '출발지 별 이용자 수')"
            ]
          },
          "metadata": {
            "tags": []
          },
          "execution_count": 23
        },
        {
          "output_type": "display_data",
          "data": {
            "image/png": "[encoded data removed]",
            "text/plain": [
              "<Figure size 1800x864 with 1 Axes>"
            ]
          },
          "metadata": {
            "tags": [],
            "needs_background": "light"
          }
        }
      ]
    },
    {
      "cell_type": "markdown",
      "metadata": {
        "id": "lfHJLwas0NZV"
      },
      "source": [
        "### 도착지 별 이용자 수"
      ]
    },
    {
      "cell_type": "code",
      "metadata": {
        "colab": {
          "base_uri": "https://localhost:8080/",
          "height": 279
        },
        "id": "h8MYOoCZTcHj",
        "outputId": "10a52720-6213-4abe-eee9-abaa5132e91b"
      },
      "source": [
        "# 도착지 별 이용자는 노원구 > 강서구 > 은평구 > 서대문구 > 마포구.. 순으로\n",
        "# 노원구가 가장 많고, 금천구가 가장 적은 것으로 확인\n",
        "# 강남구 출발보다 강남구 도착이 더 적은 것을 확인\n",
        "plt.figure(figsize=(25,6))\n",
        "sns.countplot(data = YEAR, x=\"Endpos1\", order= combine['지역'].value_counts().index)\n",
        "plt.title('도착지 별 이용자 수')"
      ],
      "execution_count": null,
      "outputs": [
        {
          "output_type": "execute_result",
          "data": {
            "text/plain": [
              "Text(0.5, 1.0, '도착지 별 이용자 수')"
            ]
          },
          "metadata": {
            "tags": []
          },
          "execution_count": 24
        },
        {
          "output_type": "display_data",
          "data": {
            "image/png": "[encoded data removed]",
            "text/plain": [
              "<Figure size 1800x432 with 1 Axes>"
            ]
          },
          "metadata": {
            "tags": [],
            "needs_background": "light"
          }
        }
      ]
    },
    {
      "cell_type": "markdown",
      "metadata": {
        "id": "vJh-dh5Czsv8"
      },
      "source": [
        "### 지역 별 병원 분포"
      ]
    },
    {
      "cell_type": "code",
      "metadata": {
        "colab": {
          "base_uri": "https://localhost:8080/",
          "height": 275
        },
        "id": "9vYAfjH-Tf_v",
        "outputId": "fb21f42b-3d99-434c-992e-9ffdad6a3819"
      },
      "source": [
        "# 강남구 > 서초구 > 송파구 > 강서구 > 강동구 순으로 지역 별 병원이 많은 것을 확인\n",
        "new_hospital = hospital[hospital['시도코드명'] == '서울']\n",
        "plt.figure(figsize=(18,4))\n",
        "sns.countplot(data = new_hospital , x=\"시군구코드명\", order= new_hospital['시군구코드명'].value_counts().index)\n",
        "plt.title('지역 별 병원 분포')"
      ],
      "execution_count": null,
      "outputs": [
        {
          "output_type": "execute_result",
          "data": {
            "text/plain": [
              "Text(0.5, 1.0, '지역 별 병원 분포')"
            ]
          },
          "metadata": {
            "tags": []
          },
          "execution_count": 25
        },
        {
          "output_type": "display_data",
          "data": {
            "image/png": "[encoded data removed]",
            "text/plain": [
              "<Figure size 1296x288 with 1 Axes>"
            ]
          },
          "metadata": {
            "tags": [],
            "needs_background": "light"
          }
        }
      ]
    },
    {
      "cell_type": "markdown",
      "metadata": {
        "id": "A4x3KUan0DvS"
      },
      "source": [
        "### 지역 별 복지시설 분포"
      ]
    },
    {
      "cell_type": "code",
      "metadata": {
        "colab": {
          "base_uri": "https://localhost:8080/",
          "height": 276
        },
        "id": "v-NOo7w5Tmmc",
        "outputId": "5ea88952-68ce-4e5d-9f50-f7a68a97c55d"
      },
      "source": [
        "# 노원구 > 강서구 > 송파구 > 은평구 순으로 지역 별 복지시설이 많은 것을 확인\n",
        "plt.figure(figsize=(18,4))\n",
        "sns.countplot(data = welfare , x=\"시군구명\", order= welfare['시군구명'].value_counts().index)\n",
        "plt.title('지역 별 복지시설 분포')"
      ],
      "execution_count": null,
      "outputs": [
        {
          "output_type": "execute_result",
          "data": {
            "text/plain": [
              "Text(0.5, 1.0, '지역 별 복지시설 분포')"
            ]
          },
          "metadata": {
            "tags": []
          },
          "execution_count": 26
        },
        {
          "output_type": "display_data",
          "data": {
            "image/png": "[encoded data removed]",
            "text/plain": [
              "<Figure size 1296x288 with 1 Axes>"
            ]
          },
          "metadata": {
            "tags": [],
            "needs_background": "light"
          }
        }
      ]
    },
    {
      "cell_type": "markdown",
      "metadata": {
        "id": "5LCl4f3T1Vga"
      },
      "source": [
        "### 장애인 복지관, 서울특별시 병원 분포"
      ]
    },
    {
      "cell_type": "code",
      "metadata": {
        "id": "84ynd6JIOw_k"
      },
      "source": [
        " # 장애인 복지관 데이터\n",
        "contain_welfare = welfare['시설종류명(시설유형)'].str.contains('(장애인)')    #장애인 복지관 데이터\n",
        "new_welfare = welfare[contain_welfare]\n",
        "\n",
        " # 서울특별시 병원 데이터\n",
        "drop_hospital = hospital.drop([62202])\n",
        "contain_hospital = drop_hospital['주소'].str.contains('서울특별시')\n",
        "new_hospital = drop_hospital[contain_hospital] \n",
        "\n",
        "# value_counts() 로 데이터 프레임 만들기 \n",
        "place1 = YEAR['Endpos1'].value_counts()\n",
        "place1_df = pd.DataFrame(place1)\n",
        "del_place1 = place1_df[place1_df['Endpos1'] > 1600]\n",
        "place1_df = del_place1\n",
        "place2 = new_hospital['시군구코드명'].value_counts()\n",
        "error = new_welfare[new_welfare['시군구명'] == '서울특별시'].index\n",
        "real_welfare = new_welfare.drop(error)\n",
        "place3 = real_welfare['시군구명'].value_counts()\n",
        "place2_df = pd.DataFrame(place2)\n",
        "place3_df = pd.DataFrame(place3)\n",
        "\n",
        "# 데이터 프레임들 조인하기\n",
        "combine1 = place1_df.join(place2_df, how ='left')\n",
        "combine = combine1.join(place3_df, how='left')\n",
        "\n",
        "# 지역 컬럼 추가\n",
        "combine['지역'] = ['노원구', '강서구', '은평구', '서대문구', '송파구', '마포구', '강동구', '중랑구', '동대문구', '강남구',\n",
        "       '영등포구', '종로구', '강북구', '도봉구', '관악구', '성북구', '양천구', '구로구', '서초구', '동작구',\n",
        "       '성동구', '광진구', '용산구', '중구', '금천구']"
      ],
      "execution_count": null,
      "outputs": []
    },
    {
      "cell_type": "code",
      "metadata": {
        "id": "VxAq89eaUZ52",
        "colab": {
          "base_uri": "https://localhost:8080/",
          "height": 544
        },
        "outputId": "839d71d7-30e5-4f7c-fcee-244cea232ce4"
      },
      "source": [
        "# 그래프 그리기    \n",
        "fig,(ax1, ax2, ax3) = plt.subplots(nrows=3)\n",
        "fig.set_size_inches(18,10)\n",
        "\n",
        "sns.pointplot(data = combine , x = '지역', y = 'Endpos1', ax=ax1)  # 목적지 통계\n",
        "sns.pointplot(data = combine , x = '지역', y = '시군구코드명',ax=ax2)  # 지역별 병원 수 \n",
        "sns.pointplot(data = combine , x = '지역', y = '시군구명', ax=ax3)  # 지역별 장애인 시설 수"
      ],
      "execution_count": null,
      "outputs": [
        {
          "output_type": "execute_result",
          "data": {
            "text/plain": [
              "<matplotlib.axes._subplots.AxesSubplot at 0x7f78c84a9690>"
            ]
          },
          "metadata": {
            "tags": []
          },
          "execution_count": 27
        },
        {
          "output_type": "display_data",
          "data": {
            "image/png": "[encoded data removed]",
            "text/plain": [
              "<Figure size 1296x720 with 3 Axes>"
            ]
          },
          "metadata": {
            "tags": [],
            "needs_background": "light"
          }
        }
      ]
    },
    {
      "cell_type": "markdown",
      "metadata": {
        "id": "Cxp2yxf74Lu_"
      },
      "source": [
        "### 장소별 대기시간 평균"
      ]
    },
    {
      "cell_type": "code",
      "metadata": {
        "id": "78Lj_p7K4TBP"
      },
      "source": [
        "avg = pd.DataFrame(year[['receipt_to_ride', 'Startpos1']])\n",
        "avg = avg.sort_values('Startpos1', ascending=True)\n",
        "drop_list = ['구리시', '김포시',\n",
        "       '성남시중원구', '양주시', '광명시', '남양주시', '부천시오정구', '부천시소사구', '안양시만안구',\n",
        "       '하남시', '의정부시', '과천시', '부천시원미구', '고양시일산동구', '성남시수정구', '부평구',\n",
        "       '고양시덕양구', '성남시분당구', '안양시동안구', '고양시일산서구', '양평군', '수원시팔달구', '수원시권선구', '용인시수지구']\n",
        "\n",
        "for i in drop_list:\n",
        "  idx = avg[avg['Startpos1'] == i].index\n",
        "  avg.drop(idx, inplace=True)\n",
        "\n",
        "avg = avg.dropna()"
      ],
      "execution_count": null,
      "outputs": []
    },
    {
      "cell_type": "code",
      "metadata": {
        "colab": {
          "base_uri": "https://localhost:8080/",
          "height": 419
        },
        "id": "PdINGvNFJ7XL",
        "outputId": "9b5438ba-e47b-407e-d284-c868e13ac939"
      },
      "source": [
        "avg"
      ],
      "execution_count": null,
      "outputs": [
        {
          "output_type": "execute_result",
          "data": {
            "text/html": [
              "<div>\n",
              "<style scoped>\n",
              "    .dataframe tbody tr th:only-of-type {\n",
              "        vertical-align: middle;\n",
              "    }\n",
              "\n",
              "    .dataframe tbody tr th {\n",
              "        vertical-align: top;\n",
              "    }\n",
              "\n",
              "    .dataframe thead th {\n",
              "        text-align: right;\n",
              "    }\n",
              "</style>\n",
              "<table border=\"1\" class=\"dataframe\">\n",
              "  <thead>\n",
              "    <tr style=\"text-align: right;\">\n",
              "      <th></th>\n",
              "      <th>receipt_to_ride</th>\n",
              "      <th>Startpos1</th>\n",
              "    </tr>\n",
              "  </thead>\n",
              "  <tbody>\n",
              "    <tr>\n",
              "      <th>253136</th>\n",
              "      <td>0 days 00:36:46</td>\n",
              "      <td>강남구</td>\n",
              "    </tr>\n",
              "    <tr>\n",
              "      <th>247792</th>\n",
              "      <td>0 days 00:28:08</td>\n",
              "      <td>강남구</td>\n",
              "    </tr>\n",
              "    <tr>\n",
              "      <th>151794</th>\n",
              "      <td>0 days 00:42:22</td>\n",
              "      <td>강남구</td>\n",
              "    </tr>\n",
              "    <tr>\n",
              "      <th>31833</th>\n",
              "      <td>0 days 00:23:25</td>\n",
              "      <td>강남구</td>\n",
              "    </tr>\n",
              "    <tr>\n",
              "      <th>151795</th>\n",
              "      <td>0 days 00:10:17</td>\n",
              "      <td>강남구</td>\n",
              "    </tr>\n",
              "    <tr>\n",
              "      <th>...</th>\n",
              "      <td>...</td>\n",
              "      <td>...</td>\n",
              "    </tr>\n",
              "    <tr>\n",
              "      <th>155744</th>\n",
              "      <td>0 days 01:03:11</td>\n",
              "      <td>중랑구</td>\n",
              "    </tr>\n",
              "    <tr>\n",
              "      <th>155657</th>\n",
              "      <td>0 days 01:01:16</td>\n",
              "      <td>중랑구</td>\n",
              "    </tr>\n",
              "    <tr>\n",
              "      <th>58138</th>\n",
              "      <td>0 days 00:12:37</td>\n",
              "      <td>중랑구</td>\n",
              "    </tr>\n",
              "    <tr>\n",
              "      <th>252032</th>\n",
              "      <td>0 days 00:36:39</td>\n",
              "      <td>중랑구</td>\n",
              "    </tr>\n",
              "    <tr>\n",
              "      <th>58149</th>\n",
              "      <td>0 days 00:09:13</td>\n",
              "      <td>중랑구</td>\n",
              "    </tr>\n",
              "  </tbody>\n",
              "</table>\n",
              "<p>262649 rows × 2 columns</p>\n",
              "</div>"
            ],
            "text/plain": [
              "        receipt_to_ride Startpos1\n",
              "253136  0 days 00:36:46       강남구\n",
              "247792  0 days 00:28:08       강남구\n",
              "151794  0 days 00:42:22       강남구\n",
              "31833   0 days 00:23:25       강남구\n",
              "151795  0 days 00:10:17       강남구\n",
              "...                 ...       ...\n",
              "155744  0 days 01:03:11       중랑구\n",
              "155657  0 days 01:01:16       중랑구\n",
              "58138   0 days 00:12:37       중랑구\n",
              "252032  0 days 00:36:39       중랑구\n",
              "58149   0 days 00:09:13       중랑구\n",
              "\n",
              "[262649 rows x 2 columns]"
            ]
          },
          "metadata": {
            "tags": []
          },
          "execution_count": 46
        }
      ]
    },
    {
      "cell_type": "code",
      "metadata": {
        "id": "xE9hffJYbXIq",
        "colab": {
          "base_uri": "https://localhost:8080/",
          "height": 329
        },
        "outputId": "9af75fb6-9038-44f6-c7c3-dc153c38d750"
      },
      "source": [
        "# 0 days 삭제\n",
        "avg['receipt_to_ride'] = avg['receipt_to_ride'].str.replace('0 days ','' )\n",
        "#-1days => 대기시간 0으로 처리\n",
        "condition = (avg['receipt_to_ride'].str.contains('-1 days'))\n",
        "condition = avg[condition == True].index\n",
        "avg.loc[condition,'receipt_to_ride'] = '00:00:00'\n",
        "\n",
        "#대기 시간 분단위로 계산하여 컬럼 생성\n",
        "avg['time_receipt_to_ride'] =  pd.DatetimeIndex(avg['receipt_to_ride']).hour * 60 + pd.DatetimeIndex(avg['receipt_to_ride']).minute\n",
        "\n",
        "plt.figure(figsize =[20,6])\n",
        "sns.barplot(x =avg.groupby(by =['Startpos1']).mean().index , y = avg.groupby(by =['Startpos1']).mean()['time_receipt_to_ride'], data = avg)"
      ],
      "execution_count": null,
      "outputs": [
        {
          "output_type": "execute_result",
          "data": {
            "text/plain": [
              "<matplotlib.axes._subplots.AxesSubplot at 0x7f78c85a0150>"
            ]
          },
          "metadata": {
            "tags": []
          },
          "execution_count": 29
        },
        {
          "output_type": "display_data",
          "data": {
            "image/png": "[encoded data removed]",
            "text/plain": [
              "<Figure size 1440x432 with 1 Axes>"
            ]
          },
          "metadata": {
            "tags": [],
            "needs_background": "light"
          }
        }
      ]
    },
    {
      "cell_type": "markdown",
      "metadata": {
        "id": "GWA6syyH-K-E"
      },
      "source": [
        "### 월 별 장애인 택시 이용량 (YEAR[Ridetime] 데이터 기준)"
      ]
    },
    {
      "cell_type": "code",
      "metadata": {
        "colab": {
          "base_uri": "https://localhost:8080/",
          "height": 265
        },
        "id": "q3pf5Trf-ESk",
        "outputId": "554b803a-b895-425f-870f-8770e4197ab6"
      },
      "source": [
        "# 월 별 장애인 택시 이용량은 2월에 가장 적고, 6월에 가장 많은 것을 확인\n",
        "YEAR['month'] = YEAR['Ridetime'].dt.strftime('%m')\n",
        "\n",
        "YEAR_08 = YEAR[YEAR['month'] == '08']\n",
        "YEAR_09 = YEAR[YEAR['month'] == '09']\n",
        "YEAR_10 = YEAR[YEAR['month'] == '10']\n",
        "YEAR_11 = YEAR[YEAR['month'] == '11']\n",
        "YEAR_12 = YEAR[YEAR['month'] == '12']\n",
        "YEAR_01 = YEAR[YEAR['month'] == '01']\n",
        "YEAR_02 = YEAR[YEAR['month'] == '02']\n",
        "YEAR_03 = YEAR[YEAR['month'] == '03']\n",
        "YEAR_04 = YEAR[YEAR['month'] == '04']\n",
        "YEAR_05 = YEAR[YEAR['month'] == '05']\n",
        "YEAR_06 = YEAR[YEAR['month'] == '06']\n",
        "YEAR_07 = YEAR[YEAR['month'] == '07']\n",
        "\n",
        "user = [len(YEAR_08),len(YEAR_09),len(YEAR_10),len(YEAR_11),len(YEAR_12),len(YEAR_01),len(YEAR_02),len(YEAR_03),len(YEAR_04),len(YEAR_05),len(YEAR_06),len(YEAR_07)]\n",
        "x=['08','09','10','11','12','01','02','03','04','05','06','07']\n",
        "plt.figure(figsize=(10,4))\n",
        "plt.plot(x, user)\n",
        "plt.xlim('08','07')\n",
        "plt.show()"
      ],
      "execution_count": null,
      "outputs": [
        {
          "output_type": "display_data",
          "data": {
            "image/png": "[encoded data removed]",
            "text/plain": [
              "<Figure size 720x288 with 1 Axes>"
            ]
          },
          "metadata": {
            "tags": [],
            "needs_background": "light"
          }
        }
      ]
    },
    {
      "cell_type": "markdown",
      "metadata": {
        "id": "tXZfjJTTM0A6"
      },
      "source": [
        "### 시간대 별 배차 대기시간(receipt_to_set)"
      ]
    },
    {
      "cell_type": "code",
      "metadata": {
        "id": "XXveQuyTM6La",
        "colab": {
          "base_uri": "https://localhost:8080/",
          "height": 405
        },
        "outputId": "71614941-3e7e-47ad-f58a-9fd62e9d2189"
      },
      "source": [
        "#시간대 별 배차 대기 시간의 경우 16시에 가장 길었고, 5시에 가장 짧은 것으로 확인\n",
        "\n",
        "#시간 컬럼 생성\n",
        "year['hour'] = pd.DatetimeIndex(year['Receipttime']).hour\n",
        "\n",
        "#'0 days' 삭제\n",
        "year['receipt_to_set'] = year['receipt_to_set'].str.replace('0 days ','' )\n",
        "\n",
        "#-1days => 대기시간 0으로 처리\n",
        "condition = (year['receipt_to_set'].str.contains('-1 days'))\n",
        "condition = year[condition == True].index\n",
        "year.loc[condition,'receipt_to_set'] = '00:00:00'\n",
        "\n",
        "#대기 시간 분단위로 계산하여 컬럼 생성\n",
        "year['time_receipt_to_set'] =  pd.DatetimeIndex(year['receipt_to_set']).hour * 60 + pd.DatetimeIndex(year['receipt_to_set']).minute\n",
        "\n",
        "#시간대별 df 생성\n",
        "per_hour = pd.DataFrame({'hour': [0,1,2,3,4,5,6,7,8,9,10,11,12,13,14,15,16,17,18,19,20,21,22,23]})\n",
        "per_hour['receipt_to_set'] = year.groupby(by =['hour']).mean()['time_receipt_to_set']\n",
        "\n",
        "#그래프\n",
        "plt.figure(figsize =[8,6])\n",
        "sns.barplot(x= 'hour', y = 'receipt_to_set', data = per_hour)\n"
      ],
      "execution_count": null,
      "outputs": [
        {
          "output_type": "execute_result",
          "data": {
            "text/plain": [
              "<matplotlib.axes._subplots.AxesSubplot at 0x7f42020915d0>"
            ]
          },
          "metadata": {
            "tags": []
          },
          "execution_count": 19
        },
        {
          "output_type": "display_data",
          "data": {
            "image/png": "[encoded data removed]",
            "text/plain": [
              "<Figure size 576x432 with 1 Axes>"
            ]
          },
          "metadata": {
            "tags": [],
            "needs_background": "light"
          }
        }
      ]
    },
    {
      "cell_type": "markdown",
      "metadata": {
        "id": "Oj6PTtsHSOCa"
      },
      "source": [
        "###시간대 별 승차 대기 시간(set_to_ride)"
      ]
    },
    {
      "cell_type": "code",
      "metadata": {
        "id": "Q7J6dKJZSIZu",
        "colab": {
          "base_uri": "https://localhost:8080/",
          "height": 405
        },
        "outputId": "af029e40-5aa2-42b3-a63c-69d9cf1113ae"
      },
      "source": [
        "#시간대 별 승차 대기 시간은 13시에 가장 짧고, 5시에 가장 긴 것을 확인\n",
        "\n",
        "#'0 days' 삭제\n",
        "year['set_to_ride'] = year['set_to_ride'].str.replace('0 days ','' )\n",
        "#-1days => 대기시간 0으로 처리\n",
        "condition = (year['set_to_ride'].str.contains('-1 days'))\n",
        "condition = year[condition == True].index\n",
        "year.loc[condition,'set_to_ride'] = '00:00:00'\n",
        "\n",
        "#대기 시간 분단위로 계산하여 컬럼 생성\n",
        "year['time_set_to_ride'] =  pd.DatetimeIndex(year['set_to_ride']).hour * 60 + pd.DatetimeIndex(year['set_to_ride']).minute\n",
        "\n",
        "#시간대별 df 생성\n",
        "per_hour = pd.DataFrame({'hour': [0,1,2,3,4,5,6,7,8,9,10,11,12,13,14,15,16,17,18,19,20,21,22,23]})\n",
        "per_hour['set_to_ride'] = year.groupby(by =['hour']).mean()['time_set_to_ride']\n",
        "\n",
        "#그래프\n",
        "plt.figure(figsize =[8,6])\n",
        "sns.barplot(x= 'hour', y = 'set_to_ride', data = per_hour)\n"
      ],
      "execution_count": null,
      "outputs": [
        {
          "output_type": "execute_result",
          "data": {
            "text/plain": [
              "<matplotlib.axes._subplots.AxesSubplot at 0x7f78c81a7c50>"
            ]
          },
          "metadata": {
            "tags": []
          },
          "execution_count": 32
        },
        {
          "output_type": "display_data",
          "data": {
            "image/png": "[encoded data removed]",
            "text/plain": [
              "<Figure size 576x432 with 1 Axes>"
            ]
          },
          "metadata": {
            "tags": [],
            "needs_background": "light"
          }
        }
      ]
    },
    {
      "cell_type": "markdown",
      "metadata": {
        "id": "HW_Wd2ttyLGE"
      },
      "source": [
        "### 시간대별 평균 이용량"
      ]
    },
    {
      "cell_type": "code",
      "metadata": {
        "colab": {
          "base_uri": "https://localhost:8080/",
          "height": 296
        },
        "id": "FaklM5rHyPlw",
        "outputId": "10efb48f-5e0f-4188-8091-aaa9bf33d670"
      },
      "source": [
        "df =pd.DataFrame(train_year.groupby(by =['hour']).count()['Startpos1'])\n",
        "\n",
        "df.rename(columns={'Startpos1':'counts'}, inplace=True)\n",
        "#84일로 나눠서 평균냄\n",
        "df = df/84\n",
        "\n",
        "sns.lineplot(x = 'hour', y = 'counts', data = df)"
      ],
      "execution_count": null,
      "outputs": [
        {
          "output_type": "execute_result",
          "data": {
            "text/plain": [
              "<matplotlib.axes._subplots.AxesSubplot at 0x7f78c801e590>"
            ]
          },
          "metadata": {
            "tags": []
          },
          "execution_count": 36
        },
        {
          "output_type": "display_data",
          "data": {
            "image/png": "[encoded data removed]",
            "text/plain": [
              "<Figure size 432x288 with 1 Axes>"
            ]
          },
          "metadata": {
            "tags": [],
            "needs_background": "light"
          }
        }
      ]
    },
    {
      "cell_type": "markdown",
      "metadata": {
        "id": "84hyT2EdUhy9"
      },
      "source": [
        "# 전처리"
      ]
    },
    {
      "cell_type": "markdown",
      "metadata": {
        "id": "vb1qE7QaUkWV"
      },
      "source": [
        "### 트레인 데이터"
      ]
    },
    {
      "cell_type": "code",
      "metadata": {
        "id": "AAJqLeLjUqYM"
      },
      "source": [
        "train_year = year.copy()\n",
        "del train_year['Endpos2']\n",
        "del train_year['Unnamed: 0']\n",
        "del train_year['Unnamed: 0.1']\n",
        "del train_year['No']\n",
        "del train_year['Cartype']"
      ],
      "execution_count": null,
      "outputs": []
    },
    {
      "cell_type": "code",
      "metadata": {
        "colab": {
          "base_uri": "https://localhost:8080/",
          "height": 779
        },
        "id": "SKZ5-Gtuq-EU",
        "outputId": "2b9435be-02e9-4be4-f5c1-e4dc510c4a3c"
      },
      "source": [
        "train_year"
      ],
      "execution_count": null,
      "outputs": [
        {
          "output_type": "execute_result",
          "data": {
            "text/html": [
              "<div>\n",
              "<style scoped>\n",
              "    .dataframe tbody tr th:only-of-type {\n",
              "        vertical-align: middle;\n",
              "    }\n",
              "\n",
              "    .dataframe tbody tr th {\n",
              "        vertical-align: top;\n",
              "    }\n",
              "\n",
              "    .dataframe thead th {\n",
              "        text-align: right;\n",
              "    }\n",
              "</style>\n",
              "<table border=\"1\" class=\"dataframe\">\n",
              "  <thead>\n",
              "    <tr style=\"text-align: right;\">\n",
              "      <th></th>\n",
              "      <th>Receipttime</th>\n",
              "      <th>Settime</th>\n",
              "      <th>Ridetime</th>\n",
              "      <th>Startpos1</th>\n",
              "      <th>Startpos2</th>\n",
              "      <th>Endpos1</th>\n",
              "      <th>set_to_ride</th>\n",
              "      <th>receipt_to_set</th>\n",
              "      <th>receipt_to_ride</th>\n",
              "      <th>hour</th>\n",
              "      <th>time_receipt_to_set</th>\n",
              "    </tr>\n",
              "  </thead>\n",
              "  <tbody>\n",
              "    <tr>\n",
              "      <th>0</th>\n",
              "      <td>2021-01-11 00:02:48</td>\n",
              "      <td>2021-01-11 00:03:56</td>\n",
              "      <td>2021-01-11 00:49:38</td>\n",
              "      <td>강서구</td>\n",
              "      <td>가양제3동</td>\n",
              "      <td>마포구</td>\n",
              "      <td>0 days 00:45:42</td>\n",
              "      <td>00:01:08</td>\n",
              "      <td>0 days 00:46:50</td>\n",
              "      <td>0</td>\n",
              "      <td>1.0</td>\n",
              "    </tr>\n",
              "    <tr>\n",
              "      <th>1</th>\n",
              "      <td>2021-01-11 00:58:00</td>\n",
              "      <td>2021-01-11 01:04:20</td>\n",
              "      <td>2021-01-11 01:19:47</td>\n",
              "      <td>강북구</td>\n",
              "      <td>번제3동</td>\n",
              "      <td>노원구</td>\n",
              "      <td>0 days 00:15:27</td>\n",
              "      <td>00:06:20</td>\n",
              "      <td>0 days 00:21:47</td>\n",
              "      <td>0</td>\n",
              "      <td>6.0</td>\n",
              "    </tr>\n",
              "    <tr>\n",
              "      <th>2</th>\n",
              "      <td>2021-01-11 01:20:00</td>\n",
              "      <td>2021-01-11 01:27:25</td>\n",
              "      <td>2021-01-11 01:43:43</td>\n",
              "      <td>중구</td>\n",
              "      <td>회현동</td>\n",
              "      <td>성동구</td>\n",
              "      <td>0 days 00:16:18</td>\n",
              "      <td>00:07:25</td>\n",
              "      <td>0 days 00:23:43</td>\n",
              "      <td>1</td>\n",
              "      <td>7.0</td>\n",
              "    </tr>\n",
              "    <tr>\n",
              "      <th>3</th>\n",
              "      <td>2021-01-11 01:47:00</td>\n",
              "      <td>2021-01-11 01:57:12</td>\n",
              "      <td>2021-01-11 02:44:30</td>\n",
              "      <td>중랑구</td>\n",
              "      <td>면목제2동</td>\n",
              "      <td>서초구</td>\n",
              "      <td>0 days 00:47:18</td>\n",
              "      <td>00:10:12</td>\n",
              "      <td>0 days 00:57:30</td>\n",
              "      <td>1</td>\n",
              "      <td>10.0</td>\n",
              "    </tr>\n",
              "    <tr>\n",
              "      <th>4</th>\n",
              "      <td>2021-01-11 02:10:00</td>\n",
              "      <td>2021-01-11 02:18:38</td>\n",
              "      <td>2021-01-11 02:39:32</td>\n",
              "      <td>성동구</td>\n",
              "      <td>금호1가동</td>\n",
              "      <td>중랑구</td>\n",
              "      <td>0 days 00:20:54</td>\n",
              "      <td>00:08:38</td>\n",
              "      <td>0 days 00:29:32</td>\n",
              "      <td>2</td>\n",
              "      <td>8.0</td>\n",
              "    </tr>\n",
              "    <tr>\n",
              "      <th>...</th>\n",
              "      <td>...</td>\n",
              "      <td>...</td>\n",
              "      <td>...</td>\n",
              "      <td>...</td>\n",
              "      <td>...</td>\n",
              "      <td>...</td>\n",
              "      <td>...</td>\n",
              "      <td>...</td>\n",
              "      <td>...</td>\n",
              "      <td>...</td>\n",
              "      <td>...</td>\n",
              "    </tr>\n",
              "    <tr>\n",
              "      <th>263888</th>\n",
              "      <td>2020-12-13 22:45:00</td>\n",
              "      <td>2020-12-13 22:46:42</td>\n",
              "      <td>2020-12-13 22:54:00</td>\n",
              "      <td>중랑구</td>\n",
              "      <td>면목제4동</td>\n",
              "      <td>노원구</td>\n",
              "      <td>0 days 00:07:18</td>\n",
              "      <td>00:01:42</td>\n",
              "      <td>0 days 00:09:00</td>\n",
              "      <td>22</td>\n",
              "      <td>1.0</td>\n",
              "    </tr>\n",
              "    <tr>\n",
              "      <th>263889</th>\n",
              "      <td>2020-12-13 23:08:10</td>\n",
              "      <td>2020-12-13 23:17:14</td>\n",
              "      <td>2020-12-13 23:50:23</td>\n",
              "      <td>강서구</td>\n",
              "      <td>가양제3동</td>\n",
              "      <td>마포구</td>\n",
              "      <td>0 days 00:33:09</td>\n",
              "      <td>00:09:04</td>\n",
              "      <td>0 days 00:42:13</td>\n",
              "      <td>23</td>\n",
              "      <td>9.0</td>\n",
              "    </tr>\n",
              "    <tr>\n",
              "      <th>263890</th>\n",
              "      <td>2020-12-13 23:22:00</td>\n",
              "      <td>2020-12-13 23:29:45</td>\n",
              "      <td>2020-12-13 23:53:12</td>\n",
              "      <td>강남구</td>\n",
              "      <td>역삼1동</td>\n",
              "      <td>동작구</td>\n",
              "      <td>0 days 00:23:27</td>\n",
              "      <td>00:07:45</td>\n",
              "      <td>0 days 00:31:12</td>\n",
              "      <td>23</td>\n",
              "      <td>7.0</td>\n",
              "    </tr>\n",
              "    <tr>\n",
              "      <th>263891</th>\n",
              "      <td>2020-12-13 23:36:00</td>\n",
              "      <td>2020-12-13 23:43:47</td>\n",
              "      <td>2020-12-13 23:56:50</td>\n",
              "      <td>동대문구</td>\n",
              "      <td>장안제2동</td>\n",
              "      <td>동대문구</td>\n",
              "      <td>0 days 00:13:03</td>\n",
              "      <td>00:07:47</td>\n",
              "      <td>0 days 00:20:50</td>\n",
              "      <td>23</td>\n",
              "      <td>7.0</td>\n",
              "    </tr>\n",
              "    <tr>\n",
              "      <th>263892</th>\n",
              "      <td>2020-12-13 23:52:00</td>\n",
              "      <td>2020-12-13 23:52:37</td>\n",
              "      <td>2020-12-14 00:23:55</td>\n",
              "      <td>용산구</td>\n",
              "      <td>청파동</td>\n",
              "      <td>금천구</td>\n",
              "      <td>0 days 00:31:18</td>\n",
              "      <td>00:00:37</td>\n",
              "      <td>0 days 00:31:55</td>\n",
              "      <td>23</td>\n",
              "      <td>0.0</td>\n",
              "    </tr>\n",
              "  </tbody>\n",
              "</table>\n",
              "<p>263893 rows × 11 columns</p>\n",
              "</div>"
            ],
            "text/plain": [
              "                Receipttime              Settime  ... hour time_receipt_to_set\n",
              "0       2021-01-11 00:02:48  2021-01-11 00:03:56  ...    0                 1.0\n",
              "1       2021-01-11 00:58:00  2021-01-11 01:04:20  ...    0                 6.0\n",
              "2       2021-01-11 01:20:00  2021-01-11 01:27:25  ...    1                 7.0\n",
              "3       2021-01-11 01:47:00  2021-01-11 01:57:12  ...    1                10.0\n",
              "4       2021-01-11 02:10:00  2021-01-11 02:18:38  ...    2                 8.0\n",
              "...                     ...                  ...  ...  ...                 ...\n",
              "263888  2020-12-13 22:45:00  2020-12-13 22:46:42  ...   22                 1.0\n",
              "263889  2020-12-13 23:08:10  2020-12-13 23:17:14  ...   23                 9.0\n",
              "263890  2020-12-13 23:22:00  2020-12-13 23:29:45  ...   23                 7.0\n",
              "263891  2020-12-13 23:36:00  2020-12-13 23:43:47  ...   23                 7.0\n",
              "263892  2020-12-13 23:52:00  2020-12-13 23:52:37  ...   23                 0.0\n",
              "\n",
              "[263893 rows x 11 columns]"
            ]
          },
          "metadata": {
            "tags": []
          },
          "execution_count": 21
        }
      ]
    },
    {
      "cell_type": "markdown",
      "metadata": {
        "id": "mnfm1avDyo6f"
      },
      "source": [
        "## 필요한 칼럼 추가"
      ]
    },
    {
      "cell_type": "markdown",
      "metadata": {
        "id": "wVz0VAAB99nC"
      },
      "source": [
        "### 평일인지 주말인지 구분하는 is_holiday 추가"
      ]
    },
    {
      "cell_type": "code",
      "metadata": {
        "id": "9FZng8O_rEw0"
      },
      "source": [
        "train_year['is_holiday'] = 0"
      ],
      "execution_count": null,
      "outputs": []
    },
    {
      "cell_type": "code",
      "metadata": {
        "id": "Tw43MYlfmG_4"
      },
      "source": [
        "for h in range(len(train_year['Receipttime'])):\n",
        "  if \"08-15\" in train_year['Receipttime'][h]:\n",
        "    train_year['is_holiday'][h]= 1 \n",
        "  if \"08-16\" in train_year['Receipttime'][h]:\n",
        "    train_year['is_holiday'][h]= 1 \n",
        "  if \"09-12\" in train_year['Receipttime'][h]:\n",
        "    train_year['is_holiday'][h]= 1 \n",
        "  if \"09-13\" in train_year['Receipttime'][h]:\n",
        "    train_year['is_holiday'][h]= 1\n",
        "  if \"10-09\" in train_year['Receipttime'][h]:\n",
        "    train_year['is_holiday'][h]= 1\n",
        "  if \"10-10\" in train_year['Receipttime'][h]:\n",
        "    train_year['is_holiday'][h]= 1\n",
        "  if \"10-11\" in train_year['Receipttime'][h]:\n",
        "    train_year['is_holiday'][h]= 1\n",
        "  if \"11-14\" in train_year['Receipttime'][h]:\n",
        "    train_year['is_holiday'][h]= 1\n",
        "  if \"11-15\" in train_year['Receipttime'][h]:\n",
        "    train_year['is_holiday'][h]= 1\n",
        "  if \"12-12\" in train_year['Receipttime'][h]:\n",
        "    train_year['is_holiday'][h]= 1\n",
        "  if \"12-13\" in train_year['Receipttime'][h]:\n",
        "    train_year['is_holiday'][h]= 1\n",
        "  if \"01-16\" in train_year['Receipttime'][h]:\n",
        "    train_year['is_holiday'][h]= 1\n",
        "  if \"01-17\" in train_year['Receipttime'][h]:\n",
        "    train_year['is_holiday'][h]= 1\n",
        "  if \"02-10\" in train_year['Receipttime'][h]:\n",
        "    train_year['is_holiday'][h]= 1\n",
        "  if \"02-11\" in train_year['Receipttime'][h]:\n",
        "    train_year['is_holiday'][h]= 1\n",
        "  if \"02-12\" in train_year['Receipttime'][h]:\n",
        "    train_year['is_holiday'][h]= 1\n",
        "  if \"02-13\" in train_year['Receipttime'][h]:\n",
        "    train_year['is_holiday'][h]= 1\n",
        "  if \"02-14\" in train_year['Receipttime'][h]:\n",
        "    train_year['is_holiday'][h]= 1\n",
        "  if \"03-13\" in train_year['Receipttime'][h]:\n",
        "    train_year['is_holiday'][h]= 1\n",
        "  if \"03-14\" in train_year['Receipttime'][h]:\n",
        "    train_year['is_holiday'][h]= 1\n",
        "  if \"04-10\" in train_year['Receipttime'][h]:\n",
        "    train_year['is_holiday'][h]= 1\n",
        "  if \"04-11\" in train_year['Receipttime'][h]:\n",
        "    train_year['is_holiday'][h]= 1\n",
        "  if \"05-15\" in train_year['Receipttime'][h]:\n",
        "    train_year['is_holiday'][h]= 1\n",
        "  if \"05-16\" in train_year['Receipttime'][h]:\n",
        "    train_year['is_holiday'][h]= 1\n",
        "  if \"06-12\" in train_year['Receipttime'][h]:\n",
        "    train_year['is_holiday'][h]= 1\n",
        "  if  \"06-13\" in train_year['Receipttime'][h]:\n",
        "    train_year['is_holiday'][h]= 1\n",
        "  if \"07-10\" in train_year['Receipttime'][h]:\n",
        "    train_year['is_holiday'][h]= 1\n",
        "  if \"07-11\" in train_year['Receipttime'][h]:\n",
        "    train_year['is_holiday'][h]= 1\n"
      ],
      "execution_count": null,
      "outputs": []
    },
    {
      "cell_type": "code",
      "metadata": {
        "colab": {
          "base_uri": "https://localhost:8080/",
          "height": 779
        },
        "id": "HcaGW_KtnJRj",
        "outputId": "4f1f8474-20e3-4e0f-9e14-880841fa517d"
      },
      "source": [
        "train_year"
      ],
      "execution_count": null,
      "outputs": [
        {
          "output_type": "execute_result",
          "data": {
            "text/html": [
              "<div>\n",
              "<style scoped>\n",
              "    .dataframe tbody tr th:only-of-type {\n",
              "        vertical-align: middle;\n",
              "    }\n",
              "\n",
              "    .dataframe tbody tr th {\n",
              "        vertical-align: top;\n",
              "    }\n",
              "\n",
              "    .dataframe thead th {\n",
              "        text-align: right;\n",
              "    }\n",
              "</style>\n",
              "<table border=\"1\" class=\"dataframe\">\n",
              "  <thead>\n",
              "    <tr style=\"text-align: right;\">\n",
              "      <th></th>\n",
              "      <th>Receipttime</th>\n",
              "      <th>Settime</th>\n",
              "      <th>Ridetime</th>\n",
              "      <th>Startpos1</th>\n",
              "      <th>Startpos2</th>\n",
              "      <th>Endpos1</th>\n",
              "      <th>set_to_ride</th>\n",
              "      <th>receipt_to_set</th>\n",
              "      <th>receipt_to_ride</th>\n",
              "      <th>hour</th>\n",
              "      <th>time_receipt_to_set</th>\n",
              "      <th>is_holiday</th>\n",
              "    </tr>\n",
              "  </thead>\n",
              "  <tbody>\n",
              "    <tr>\n",
              "      <th>0</th>\n",
              "      <td>2021-01-11 00:02:48</td>\n",
              "      <td>2021-01-11 00:03:56</td>\n",
              "      <td>2021-01-11 00:49:38</td>\n",
              "      <td>강서구</td>\n",
              "      <td>가양제3동</td>\n",
              "      <td>마포구</td>\n",
              "      <td>0 days 00:45:42</td>\n",
              "      <td>00:01:08</td>\n",
              "      <td>0 days 00:46:50</td>\n",
              "      <td>0</td>\n",
              "      <td>1.0</td>\n",
              "      <td>0</td>\n",
              "    </tr>\n",
              "    <tr>\n",
              "      <th>1</th>\n",
              "      <td>2021-01-11 00:58:00</td>\n",
              "      <td>2021-01-11 01:04:20</td>\n",
              "      <td>2021-01-11 01:19:47</td>\n",
              "      <td>강북구</td>\n",
              "      <td>번제3동</td>\n",
              "      <td>노원구</td>\n",
              "      <td>0 days 00:15:27</td>\n",
              "      <td>00:06:20</td>\n",
              "      <td>0 days 00:21:47</td>\n",
              "      <td>0</td>\n",
              "      <td>6.0</td>\n",
              "      <td>0</td>\n",
              "    </tr>\n",
              "    <tr>\n",
              "      <th>2</th>\n",
              "      <td>2021-01-11 01:20:00</td>\n",
              "      <td>2021-01-11 01:27:25</td>\n",
              "      <td>2021-01-11 01:43:43</td>\n",
              "      <td>중구</td>\n",
              "      <td>회현동</td>\n",
              "      <td>성동구</td>\n",
              "      <td>0 days 00:16:18</td>\n",
              "      <td>00:07:25</td>\n",
              "      <td>0 days 00:23:43</td>\n",
              "      <td>1</td>\n",
              "      <td>7.0</td>\n",
              "      <td>0</td>\n",
              "    </tr>\n",
              "    <tr>\n",
              "      <th>3</th>\n",
              "      <td>2021-01-11 01:47:00</td>\n",
              "      <td>2021-01-11 01:57:12</td>\n",
              "      <td>2021-01-11 02:44:30</td>\n",
              "      <td>중랑구</td>\n",
              "      <td>면목제2동</td>\n",
              "      <td>서초구</td>\n",
              "      <td>0 days 00:47:18</td>\n",
              "      <td>00:10:12</td>\n",
              "      <td>0 days 00:57:30</td>\n",
              "      <td>1</td>\n",
              "      <td>10.0</td>\n",
              "      <td>0</td>\n",
              "    </tr>\n",
              "    <tr>\n",
              "      <th>4</th>\n",
              "      <td>2021-01-11 02:10:00</td>\n",
              "      <td>2021-01-11 02:18:38</td>\n",
              "      <td>2021-01-11 02:39:32</td>\n",
              "      <td>성동구</td>\n",
              "      <td>금호1가동</td>\n",
              "      <td>중랑구</td>\n",
              "      <td>0 days 00:20:54</td>\n",
              "      <td>00:08:38</td>\n",
              "      <td>0 days 00:29:32</td>\n",
              "      <td>2</td>\n",
              "      <td>8.0</td>\n",
              "      <td>0</td>\n",
              "    </tr>\n",
              "    <tr>\n",
              "      <th>...</th>\n",
              "      <td>...</td>\n",
              "      <td>...</td>\n",
              "      <td>...</td>\n",
              "      <td>...</td>\n",
              "      <td>...</td>\n",
              "      <td>...</td>\n",
              "      <td>...</td>\n",
              "      <td>...</td>\n",
              "      <td>...</td>\n",
              "      <td>...</td>\n",
              "      <td>...</td>\n",
              "      <td>...</td>\n",
              "    </tr>\n",
              "    <tr>\n",
              "      <th>263888</th>\n",
              "      <td>2020-12-13 22:45:00</td>\n",
              "      <td>2020-12-13 22:46:42</td>\n",
              "      <td>2020-12-13 22:54:00</td>\n",
              "      <td>중랑구</td>\n",
              "      <td>면목제4동</td>\n",
              "      <td>노원구</td>\n",
              "      <td>0 days 00:07:18</td>\n",
              "      <td>00:01:42</td>\n",
              "      <td>0 days 00:09:00</td>\n",
              "      <td>22</td>\n",
              "      <td>1.0</td>\n",
              "      <td>1</td>\n",
              "    </tr>\n",
              "    <tr>\n",
              "      <th>263889</th>\n",
              "      <td>2020-12-13 23:08:10</td>\n",
              "      <td>2020-12-13 23:17:14</td>\n",
              "      <td>2020-12-13 23:50:23</td>\n",
              "      <td>강서구</td>\n",
              "      <td>가양제3동</td>\n",
              "      <td>마포구</td>\n",
              "      <td>0 days 00:33:09</td>\n",
              "      <td>00:09:04</td>\n",
              "      <td>0 days 00:42:13</td>\n",
              "      <td>23</td>\n",
              "      <td>9.0</td>\n",
              "      <td>1</td>\n",
              "    </tr>\n",
              "    <tr>\n",
              "      <th>263890</th>\n",
              "      <td>2020-12-13 23:22:00</td>\n",
              "      <td>2020-12-13 23:29:45</td>\n",
              "      <td>2020-12-13 23:53:12</td>\n",
              "      <td>강남구</td>\n",
              "      <td>역삼1동</td>\n",
              "      <td>동작구</td>\n",
              "      <td>0 days 00:23:27</td>\n",
              "      <td>00:07:45</td>\n",
              "      <td>0 days 00:31:12</td>\n",
              "      <td>23</td>\n",
              "      <td>7.0</td>\n",
              "      <td>1</td>\n",
              "    </tr>\n",
              "    <tr>\n",
              "      <th>263891</th>\n",
              "      <td>2020-12-13 23:36:00</td>\n",
              "      <td>2020-12-13 23:43:47</td>\n",
              "      <td>2020-12-13 23:56:50</td>\n",
              "      <td>동대문구</td>\n",
              "      <td>장안제2동</td>\n",
              "      <td>동대문구</td>\n",
              "      <td>0 days 00:13:03</td>\n",
              "      <td>00:07:47</td>\n",
              "      <td>0 days 00:20:50</td>\n",
              "      <td>23</td>\n",
              "      <td>7.0</td>\n",
              "      <td>1</td>\n",
              "    </tr>\n",
              "    <tr>\n",
              "      <th>263892</th>\n",
              "      <td>2020-12-13 23:52:00</td>\n",
              "      <td>2020-12-13 23:52:37</td>\n",
              "      <td>2020-12-14 00:23:55</td>\n",
              "      <td>용산구</td>\n",
              "      <td>청파동</td>\n",
              "      <td>금천구</td>\n",
              "      <td>0 days 00:31:18</td>\n",
              "      <td>00:00:37</td>\n",
              "      <td>0 days 00:31:55</td>\n",
              "      <td>23</td>\n",
              "      <td>0.0</td>\n",
              "      <td>1</td>\n",
              "    </tr>\n",
              "  </tbody>\n",
              "</table>\n",
              "<p>263893 rows × 12 columns</p>\n",
              "</div>"
            ],
            "text/plain": [
              "                Receipttime  ... is_holiday\n",
              "0       2021-01-11 00:02:48  ...          0\n",
              "1       2021-01-11 00:58:00  ...          0\n",
              "2       2021-01-11 01:20:00  ...          0\n",
              "3       2021-01-11 01:47:00  ...          0\n",
              "4       2021-01-11 02:10:00  ...          0\n",
              "...                     ...  ...        ...\n",
              "263888  2020-12-13 22:45:00  ...          1\n",
              "263889  2020-12-13 23:08:10  ...          1\n",
              "263890  2020-12-13 23:22:00  ...          1\n",
              "263891  2020-12-13 23:36:00  ...          1\n",
              "263892  2020-12-13 23:52:00  ...          1\n",
              "\n",
              "[263893 rows x 12 columns]"
            ]
          },
          "metadata": {
            "tags": []
          },
          "execution_count": 24
        }
      ]
    },
    {
      "cell_type": "markdown",
      "metadata": {
        "id": "xuS3u0bw-FGS"
      },
      "source": [
        "### 평일과 주말 이용량 비교"
      ]
    },
    {
      "cell_type": "code",
      "metadata": {
        "colab": {
          "base_uri": "https://localhost:8080/",
          "height": 391
        },
        "id": "HD9dk8Kr3_Gp",
        "outputId": "d6253440-c255-4293-9df1-992e66a3fcf6"
      },
      "source": [
        "# is_holiday \n",
        "# 평일과 주말 이용량 비교 \n",
        "groups = train_year.groupby('is_holiday')\n",
        "group_num = groups.size()\n",
        "weekday = int(group_num[0] / 5)\n",
        "weekend = int(group_num[1] / 2)\n",
        "\n",
        "day = []\n",
        "day.append(weekday)\n",
        "day.append(weekend)\n",
        "\n",
        "fig,ax1 = plt.subplots()\n",
        "fig.set_size_inches(6,6)\n",
        "IsHoliday=['weekday','weekend']\n",
        "sns.barplot( x = IsHoliday, y = day, ax=ax1)"
      ],
      "execution_count": null,
      "outputs": [
        {
          "output_type": "execute_result",
          "data": {
            "text/plain": [
              "<matplotlib.axes._subplots.AxesSubplot at 0x7f41ff51c090>"
            ]
          },
          "metadata": {
            "tags": []
          },
          "execution_count": 25
        },
        {
          "output_type": "display_data",
          "data": {
            "image/png": "[encoded data removed]",
            "text/plain": [
              "<Figure size 432x432 with 1 Axes>"
            ]
          },
          "metadata": {
            "tags": [],
            "needs_background": "light"
          }
        }
      ]
    },
    {
      "cell_type": "code",
      "metadata": {
        "colab": {
          "base_uri": "https://localhost:8080/",
          "height": 855
        },
        "id": "vi5_T2kPsuB1",
        "outputId": "da755652-25fe-4da9-95dc-01944dcf1f31"
      },
      "source": [
        "# 지역별 이용시간 평균 / 배차시간 평균 / 이용자수 / 복지시설 수 \n",
        "train_year1 = train_year[['Receipttime','Startpos1','set_to_ride','receipt_to_set','receipt_to_ride', 'time_receipt_to_set']]\n",
        "\n",
        "# 장애인 복지관 데이터\n",
        "contain_welfare = welfare['시설종류명(시설유형)'].str.contains('(장애인)')   \n",
        "new_welfare = welfare[contain_welfare]\n",
        "\n",
        "error = new_welfare[new_welfare['시군구명'] == '서울특별시'].index\n",
        "welfare1 = new_welfare.drop(error)\n",
        "\n",
        "\n",
        "# train_year1에서 경기도 지역 삭제\n",
        "drop_list = ['구리시', '김포시',\n",
        "       '성남시중원구', '양주시', '광명시', '남양주시', '부천시오정구', '부천시소사구', '안양시만안구',\n",
        "       '하남시', '의정부시', '과천시', '부천시원미구', '고양시일산동구', '성남시수정구', '부평구',\n",
        "       '고양시덕양구', '성남시분당구', '안양시동안구', '고양시일산서구', '양평군', '수원시팔달구', '수원시권선구', '용인시수지구', '계양구']\n",
        "\n",
        "for i in drop_list:\n",
        "  idx = train_year1[train_year1['Startpos1'] == i].index\n",
        "  train_year1.drop(idx, inplace=True)\n",
        "\n",
        "# 출발지역으로 그룹화\n",
        "group = train_year1.groupby(by=['Startpos1']).mean()\n",
        "group['startpos_counts'] = train_year1['Startpos1'].value_counts()\n",
        "group['welfare_counts'] = new_welfare['시군구명'].value_counts()\n",
        "\n",
        "group"
      ],
      "execution_count": null,
      "outputs": [
        {
          "output_type": "execute_result",
          "data": {
            "text/html": [
              "<div>\n",
              "<style scoped>\n",
              "    .dataframe tbody tr th:only-of-type {\n",
              "        vertical-align: middle;\n",
              "    }\n",
              "\n",
              "    .dataframe tbody tr th {\n",
              "        vertical-align: top;\n",
              "    }\n",
              "\n",
              "    .dataframe thead th {\n",
              "        text-align: right;\n",
              "    }\n",
              "</style>\n",
              "<table border=\"1\" class=\"dataframe\">\n",
              "  <thead>\n",
              "    <tr style=\"text-align: right;\">\n",
              "      <th></th>\n",
              "      <th>time_receipt_to_set</th>\n",
              "      <th>startpos_counts</th>\n",
              "      <th>welfare_counts</th>\n",
              "    </tr>\n",
              "    <tr>\n",
              "      <th>Startpos1</th>\n",
              "      <th></th>\n",
              "      <th></th>\n",
              "      <th></th>\n",
              "    </tr>\n",
              "  </thead>\n",
              "  <tbody>\n",
              "    <tr>\n",
              "      <th>강남구</th>\n",
              "      <td>14.096933</td>\n",
              "      <td>11577</td>\n",
              "      <td>55</td>\n",
              "    </tr>\n",
              "    <tr>\n",
              "      <th>강동구</th>\n",
              "      <td>12.875178</td>\n",
              "      <td>14052</td>\n",
              "      <td>49</td>\n",
              "    </tr>\n",
              "    <tr>\n",
              "      <th>강북구</th>\n",
              "      <td>10.763741</td>\n",
              "      <td>9515</td>\n",
              "      <td>30</td>\n",
              "    </tr>\n",
              "    <tr>\n",
              "      <th>강서구</th>\n",
              "      <td>12.297471</td>\n",
              "      <td>17716</td>\n",
              "      <td>59</td>\n",
              "    </tr>\n",
              "    <tr>\n",
              "      <th>관악구</th>\n",
              "      <td>13.814178</td>\n",
              "      <td>9536</td>\n",
              "      <td>25</td>\n",
              "    </tr>\n",
              "    <tr>\n",
              "      <th>광진구</th>\n",
              "      <td>10.538352</td>\n",
              "      <td>7040</td>\n",
              "      <td>14</td>\n",
              "    </tr>\n",
              "    <tr>\n",
              "      <th>구로구</th>\n",
              "      <td>13.081272</td>\n",
              "      <td>8615</td>\n",
              "      <td>30</td>\n",
              "    </tr>\n",
              "    <tr>\n",
              "      <th>금천구</th>\n",
              "      <td>15.196224</td>\n",
              "      <td>3919</td>\n",
              "      <td>23</td>\n",
              "    </tr>\n",
              "    <tr>\n",
              "      <th>노원구</th>\n",
              "      <td>10.385281</td>\n",
              "      <td>27720</td>\n",
              "      <td>60</td>\n",
              "    </tr>\n",
              "    <tr>\n",
              "      <th>도봉구</th>\n",
              "      <td>10.640042</td>\n",
              "      <td>9490</td>\n",
              "      <td>23</td>\n",
              "    </tr>\n",
              "    <tr>\n",
              "      <th>동대문구</th>\n",
              "      <td>11.252597</td>\n",
              "      <td>10396</td>\n",
              "      <td>9</td>\n",
              "    </tr>\n",
              "    <tr>\n",
              "      <th>동작구</th>\n",
              "      <td>13.239038</td>\n",
              "      <td>7526</td>\n",
              "      <td>20</td>\n",
              "    </tr>\n",
              "    <tr>\n",
              "      <th>마포구</th>\n",
              "      <td>13.986325</td>\n",
              "      <td>13090</td>\n",
              "      <td>23</td>\n",
              "    </tr>\n",
              "    <tr>\n",
              "      <th>서대문구</th>\n",
              "      <td>13.618104</td>\n",
              "      <td>14937</td>\n",
              "      <td>20</td>\n",
              "    </tr>\n",
              "    <tr>\n",
              "      <th>서초구</th>\n",
              "      <td>15.470209</td>\n",
              "      <td>7284</td>\n",
              "      <td>31</td>\n",
              "    </tr>\n",
              "    <tr>\n",
              "      <th>성동구</th>\n",
              "      <td>12.933599</td>\n",
              "      <td>6536</td>\n",
              "      <td>13</td>\n",
              "    </tr>\n",
              "    <tr>\n",
              "      <th>성북구</th>\n",
              "      <td>11.343524</td>\n",
              "      <td>8832</td>\n",
              "      <td>9</td>\n",
              "    </tr>\n",
              "    <tr>\n",
              "      <th>송파구</th>\n",
              "      <td>12.926739</td>\n",
              "      <td>11848</td>\n",
              "      <td>52</td>\n",
              "    </tr>\n",
              "    <tr>\n",
              "      <th>양천구</th>\n",
              "      <td>12.168430</td>\n",
              "      <td>8603</td>\n",
              "      <td>24</td>\n",
              "    </tr>\n",
              "    <tr>\n",
              "      <th>영등포구</th>\n",
              "      <td>13.824081</td>\n",
              "      <td>9709</td>\n",
              "      <td>22</td>\n",
              "    </tr>\n",
              "    <tr>\n",
              "      <th>용산구</th>\n",
              "      <td>13.748430</td>\n",
              "      <td>4460</td>\n",
              "      <td>13</td>\n",
              "    </tr>\n",
              "    <tr>\n",
              "      <th>은평구</th>\n",
              "      <td>14.285179</td>\n",
              "      <td>15222</td>\n",
              "      <td>35</td>\n",
              "    </tr>\n",
              "    <tr>\n",
              "      <th>종로구</th>\n",
              "      <td>14.752278</td>\n",
              "      <td>9220</td>\n",
              "      <td>13</td>\n",
              "    </tr>\n",
              "    <tr>\n",
              "      <th>중구</th>\n",
              "      <td>14.938102</td>\n",
              "      <td>4362</td>\n",
              "      <td>11</td>\n",
              "    </tr>\n",
              "    <tr>\n",
              "      <th>중랑구</th>\n",
              "      <td>10.743052</td>\n",
              "      <td>11442</td>\n",
              "      <td>13</td>\n",
              "    </tr>\n",
              "  </tbody>\n",
              "</table>\n",
              "</div>"
            ],
            "text/plain": [
              "           time_receipt_to_set  startpos_counts  welfare_counts\n",
              "Startpos1                                                      \n",
              "강남구                  14.096933            11577              55\n",
              "강동구                  12.875178            14052              49\n",
              "강북구                  10.763741             9515              30\n",
              "강서구                  12.297471            17716              59\n",
              "관악구                  13.814178             9536              25\n",
              "광진구                  10.538352             7040              14\n",
              "구로구                  13.081272             8615              30\n",
              "금천구                  15.196224             3919              23\n",
              "노원구                  10.385281            27720              60\n",
              "도봉구                  10.640042             9490              23\n",
              "동대문구                 11.252597            10396               9\n",
              "동작구                  13.239038             7526              20\n",
              "마포구                  13.986325            13090              23\n",
              "서대문구                 13.618104            14937              20\n",
              "서초구                  15.470209             7284              31\n",
              "성동구                  12.933599             6536              13\n",
              "성북구                  11.343524             8832               9\n",
              "송파구                  12.926739            11848              52\n",
              "양천구                  12.168430             8603              24\n",
              "영등포구                 13.824081             9709              22\n",
              "용산구                  13.748430             4460              13\n",
              "은평구                  14.285179            15222              35\n",
              "종로구                  14.752278             9220              13\n",
              "중구                   14.938102             4362              11\n",
              "중랑구                  10.743052            11442              13"
            ]
          },
          "metadata": {
            "tags": []
          },
          "execution_count": 26
        }
      ]
    },
    {
      "cell_type": "code",
      "metadata": {
        "colab": {
          "base_uri": "https://localhost:8080/"
        },
        "id": "WotiAM1mwhPC",
        "outputId": "bce7b834-318a-4892-f301-d8e34fc2aeb0"
      },
      "source": [
        "test = train_year.copy()\n",
        "\n",
        "drop_list = ['구리시', '김포시',\n",
        "       '성남시중원구', '양주시', '광명시', '남양주시', '부천시오정구', '부천시소사구', '안양시만안구',\n",
        "       '하남시', '의정부시', '과천시', '부천시원미구', '고양시일산동구', '성남시수정구', '부평구',\n",
        "       '고양시덕양구', '성남시분당구', '안양시동안구', '고양시일산서구', '양평군', '수원시팔달구', '수원시권선구', '용인시수지구']\n",
        "\n",
        "for i in drop_list:\n",
        "  idx = test[test['Startpos1']== i].index\n",
        "  test.drop(idx, inplace=True)\n",
        "#test.groupby(['month','hour','Startpos1']).count()['Receipttime']\n",
        "\n",
        "test.groupby(['hour','Startpos1']).count()['Receipttime']"
      ],
      "execution_count": null,
      "outputs": [
        {
          "output_type": "execute_result",
          "data": {
            "text/plain": [
              "hour  Startpos1\n",
              "0     강남구          13\n",
              "      강동구          25\n",
              "      강북구          45\n",
              "      강서구          20\n",
              "      관악구          12\n",
              "                   ..\n",
              "23    용산구          20\n",
              "      은평구          42\n",
              "      종로구          30\n",
              "      중구           44\n",
              "      중랑구          48\n",
              "Name: Receipttime, Length: 580, dtype: int64"
            ]
          },
          "metadata": {
            "tags": []
          },
          "execution_count": 27
        }
      ]
    },
    {
      "cell_type": "code",
      "metadata": {
        "colab": {
          "base_uri": "https://localhost:8080/",
          "height": 996
        },
        "id": "38Q6yU5zL9Yo",
        "outputId": "2c11cd32-1d9d-4a85-83fe-dc4f853c15cb"
      },
      "source": [
        "train_year1 = train_year[['Receipttime','Startpos1','hour','time_receipt_to_set','time_receipt_to_set','is_holiday']]\n",
        "train_강서 = train_year1[train_year1['Startpos1'] == '강서구']\n",
        "\n",
        "date_강서 = []\n",
        "for time in train_강서['Receipttime']: \n",
        "  date_강서.append(time[0:10])\n",
        "\n",
        "train_강서['date'] = date_강서\n",
        "group_강서 = train_강서.groupby(['date','hour'])\n",
        "\n",
        "df_강=pd.DataFrame(group_강서.count()['Receipttime'])\n",
        "\n",
        "new=group_강서.mean()\n",
        "new_강서 = new.join(df_강)\n",
        "\n",
        "new_강서.rename(columns={'Receipttime':'count'}, inplace=True)\n",
        "\n",
        "# 시계열데이터를 윈도우 단위로 자르는 함수\n",
        "seq = new_강서[['count']].to_numpy()\n",
        "def seq2dataset(seq, window, horizon):\n",
        "  X=[];Y=[]\n",
        "  for i in range(len(seq)-(window+horizon)+1):\n",
        "    x=seq[i:(i+window)]\n",
        "    y=(seq[i+window+horizon-1])\n",
        "    X.append(x);Y.append(y)\n",
        "  return np.array(X), np.array(Y)\n",
        "w=3 #윈도우사이즈 \n",
        "h=1\n",
        "X,Y=seq2dataset(seq,w,h)\n",
        "X,Y\n",
        "# Y : 1,2,3번째 데이터 3개로 4번째 예측, 2,3,4번째 데이터 3개로 5번째 예측...\n",
        "\n",
        "from tensorflow.keras.models import Sequential\n",
        "from tensorflow.keras.layers import Dense,LSTM,Dropout\n",
        "\n",
        "split = int(len(X)*0.7)\n",
        "x_train = X[0:split];y_train=Y[0:split]\n",
        "x_test = X[split:]; y_test = Y[split:]\n",
        "\n",
        "model = Sequential()\n",
        "model.add(LSTM(units=128, activation='relu', input_shape=x_train[0].shape))\n",
        "model.add(Dense(1))\n",
        "model.compile(loss='mae', optimizer='adam', metrics=['mae'])\n",
        "hist = model.fit(x_train, y_train, epochs=20, batch_size=1, validation_data=(x_test,y_test),verbose=2)\n",
        "\n",
        "\n",
        "#평가\n",
        "ev = model.evaluate(x_test,y_test, verbose=0)\n",
        "print('손실함수 : ', ev[0], 'mae : ', ev[1])\n",
        "\n",
        "\n",
        "#예측\n",
        "pred = model.predict(x_test)\n",
        "print('평균절댓값백분율오차(mape) : ', sum(abs(y_test-pred) / y_test) / len(x_test))\n",
        "\n",
        "\n",
        "x_range = range(len(y_test))\n",
        "plt.plot(x_range, y_test[x_range], color='red')\n",
        "plt.plot(x_range, pred[x_range], color='blue')\n",
        "plt.show\n"
      ],
      "execution_count": null,
      "outputs": [
        {
          "output_type": "stream",
          "text": [
            "Epoch 1/20\n",
            "1019/1019 - 4s - loss: 5.5954 - mae: 5.5954 - val_loss: 5.8630 - val_mae: 5.8630\n",
            "Epoch 2/20\n",
            "1019/1019 - 2s - loss: 4.9472 - mae: 4.9472 - val_loss: 5.5044 - val_mae: 5.5044\n",
            "Epoch 3/20\n",
            "1019/1019 - 2s - loss: 4.6970 - mae: 4.6970 - val_loss: 5.2323 - val_mae: 5.2323\n",
            "Epoch 4/20\n",
            "1019/1019 - 2s - loss: 4.6570 - mae: 4.6570 - val_loss: 5.4502 - val_mae: 5.4502\n",
            "Epoch 5/20\n",
            "1019/1019 - 2s - loss: 4.6114 - mae: 4.6114 - val_loss: 5.3228 - val_mae: 5.3228\n",
            "Epoch 6/20\n",
            "1019/1019 - 2s - loss: 4.6085 - mae: 4.6085 - val_loss: 5.3773 - val_mae: 5.3773\n",
            "Epoch 7/20\n",
            "1019/1019 - 2s - loss: 4.5817 - mae: 4.5817 - val_loss: 5.3334 - val_mae: 5.3334\n",
            "Epoch 8/20\n",
            "1019/1019 - 2s - loss: 4.5392 - mae: 4.5392 - val_loss: 5.3628 - val_mae: 5.3628\n",
            "Epoch 9/20\n",
            "1019/1019 - 2s - loss: 4.4837 - mae: 4.4837 - val_loss: 5.2340 - val_mae: 5.2340\n",
            "Epoch 10/20\n",
            "1019/1019 - 2s - loss: 4.5054 - mae: 4.5054 - val_loss: 5.0719 - val_mae: 5.0719\n",
            "Epoch 11/20\n",
            "1019/1019 - 2s - loss: 4.5513 - mae: 4.5513 - val_loss: 5.3847 - val_mae: 5.3847\n",
            "Epoch 12/20\n",
            "1019/1019 - 2s - loss: 4.5058 - mae: 4.5058 - val_loss: 5.2721 - val_mae: 5.2721\n",
            "Epoch 13/20\n",
            "1019/1019 - 2s - loss: 4.4793 - mae: 4.4793 - val_loss: 5.1619 - val_mae: 5.1619\n",
            "Epoch 14/20\n",
            "1019/1019 - 2s - loss: 4.4267 - mae: 4.4267 - val_loss: 5.0885 - val_mae: 5.0885\n",
            "Epoch 15/20\n",
            "1019/1019 - 2s - loss: 4.4339 - mae: 4.4339 - val_loss: 5.1327 - val_mae: 5.1327\n",
            "Epoch 16/20\n",
            "1019/1019 - 2s - loss: 4.4481 - mae: 4.4481 - val_loss: 5.2729 - val_mae: 5.2729\n",
            "Epoch 17/20\n",
            "1019/1019 - 2s - loss: 4.4418 - mae: 4.4418 - val_loss: 5.0635 - val_mae: 5.0635\n",
            "Epoch 18/20\n",
            "1019/1019 - 2s - loss: 4.4221 - mae: 4.4221 - val_loss: 5.2928 - val_mae: 5.2928\n",
            "Epoch 19/20\n",
            "1019/1019 - 2s - loss: 4.3879 - mae: 4.3879 - val_loss: 5.1223 - val_mae: 5.1223\n",
            "Epoch 20/20\n",
            "1019/1019 - 2s - loss: 4.4114 - mae: 4.4114 - val_loss: 5.0170 - val_mae: 5.0170\n",
            "손실함수 :  5.0169758796691895 mae :  5.0169758796691895\n",
            "평균절댓값백분율오차(mape) :  [0.72218055]\n"
          ],
          "name": "stdout"
        },
        {
          "output_type": "execute_result",
          "data": {
            "text/plain": [
              "<function matplotlib.pyplot.show>"
            ]
          },
          "metadata": {
            "tags": []
          },
          "execution_count": 28
        },
        {
          "output_type": "display_data",
          "data": {
            "image/png": "[encoded data removed]",
            "text/plain": [
              "<Figure size 432x288 with 1 Axes>"
            ]
          },
          "metadata": {
            "tags": [],
            "needs_background": "light"
          }
        }
      ]
    },
    {
      "cell_type": "markdown",
      "metadata": {
        "id": "bAlt_0tWTnNm"
      },
      "source": [
        "# 성능평가"
      ]
    },
    {
      "cell_type": "code",
      "metadata": {
        "colab": {
          "base_uri": "https://localhost:8080/",
          "height": 1000
        },
        "id": "UQ4O3bAGPc9m",
        "outputId": "2a0bb88b-86d3-4fb0-e30d-35723d078376"
      },
      "source": [
        "test_file_path = DATA_PATH +'all_data_08-07.csv'\n",
        "df = pd.read_csv(test_file_path)\n",
        "\n",
        "test_df = df[['기준일','탑승건']]\n",
        "test_df['기준일'] = pd.to_datetime(test_df['기준일'])\n",
        "\n",
        "# 시계열데이터를 윈도우 단위로 자르는 함수\n",
        "seq = test_df[['탑승건']].to_numpy()\n",
        "def seq2dataset(seq, window, horizon):\n",
        "  X=[];Y=[]\n",
        "  for i in range(len(seq)-(window+horizon)+1):\n",
        "    x=seq[i:(i+window)]\n",
        "    y=(seq[i+window+horizon-1])\n",
        "    X.append(x);Y.append(y)\n",
        "  return np.array(X), np.array(Y)\n",
        "w= 5 #윈도우사이즈 \n",
        "h=1\n",
        "X,Y=seq2dataset(seq,w,h)\n",
        "X,Y\n",
        "# Y : 1,2,3번째 데이터 3개로 4번째 예측, 2,3,4번째 데이터 3개로 5번째 예측...\n",
        "\n",
        "from tensorflow.keras.models import Sequential\n",
        "from tensorflow.keras.layers import Dense,LSTM,Dropout\n",
        "\n",
        "split = int(len(X)*0.7)\n",
        "x_train = X[0:split];y_train=Y[0:split]\n",
        "x_test = X[split:]; y_test = Y[split:]\n",
        "\n",
        "model = Sequential()\n",
        "model.add(LSTM(units=128, activation='relu', input_shape=x_train[0].shape))\n",
        "model.add(Dense(1))\n",
        "model.compile(loss='mae', optimizer='adam', metrics=['mae'])\n",
        "hist = model.fit(x_train, y_train, epochs=100, batch_size=1, validation_data=(x_test,y_test),verbose=2)\n",
        "\n",
        "\n",
        "#평가\n",
        "ev = model.evaluate(x_test,y_test, verbose=0)\n",
        "print('손실함수 : ', ev[0], 'mae : ', ev[1])\n",
        "\n",
        "\n",
        "#예측\n",
        "pred = model.predict(x_test)\n",
        "print('평균절댓값백분율오차(mape) : ', sum(abs(y_test-pred) / y_test) / len(x_test))\n",
        "total_pred = pred\n",
        "\n",
        "x_range = range(len(y_test))\n",
        "plt.plot(x_range, y_test[x_range], color='red') # 학습 데이터 \n",
        "plt.plot(x_range, pred[x_range], color='blue') # 예측 \n",
        "plt.show"
      ],
      "execution_count": null,
      "outputs": [
        {
          "output_type": "stream",
          "text": [
            "Epoch 1/100\n",
            "247/247 - 2s - loss: 1922.1339 - mae: 1922.1339 - val_loss: 1360.4932 - val_mae: 1360.4932\n",
            "Epoch 2/100\n",
            "247/247 - 1s - loss: 1273.6106 - mae: 1273.6106 - val_loss: 1364.0065 - val_mae: 1364.0065\n",
            "Epoch 3/100\n",
            "247/247 - 1s - loss: 1183.9242 - mae: 1183.9242 - val_loss: 1273.5996 - val_mae: 1273.5996\n",
            "Epoch 4/100\n",
            "247/247 - 1s - loss: 1134.0668 - mae: 1134.0668 - val_loss: 1233.9299 - val_mae: 1233.9299\n",
            "Epoch 5/100\n",
            "247/247 - 1s - loss: 1107.8755 - mae: 1107.8755 - val_loss: 1162.4934 - val_mae: 1162.4934\n",
            "Epoch 6/100\n",
            "247/247 - 1s - loss: 1052.5782 - mae: 1052.5782 - val_loss: 1070.6851 - val_mae: 1070.6851\n",
            "Epoch 7/100\n",
            "247/247 - 1s - loss: 824.3139 - mae: 824.3139 - val_loss: 885.4246 - val_mae: 885.4246\n",
            "Epoch 8/100\n",
            "247/247 - 1s - loss: 861.6954 - mae: 861.6954 - val_loss: 1261.2812 - val_mae: 1261.2812\n",
            "Epoch 9/100\n",
            "247/247 - 1s - loss: 977.0418 - mae: 977.0418 - val_loss: 1104.1482 - val_mae: 1104.1482\n",
            "Epoch 10/100\n",
            "247/247 - 1s - loss: 883.3802 - mae: 883.3802 - val_loss: 837.0399 - val_mae: 837.0399\n",
            "Epoch 11/100\n",
            "247/247 - 1s - loss: 714.8842 - mae: 714.8842 - val_loss: 978.8533 - val_mae: 978.8533\n",
            "Epoch 12/100\n",
            "247/247 - 1s - loss: 706.5222 - mae: 706.5222 - val_loss: 829.5204 - val_mae: 829.5204\n",
            "Epoch 13/100\n",
            "247/247 - 1s - loss: 691.2780 - mae: 691.2780 - val_loss: 698.1066 - val_mae: 698.1066\n",
            "Epoch 14/100\n",
            "247/247 - 1s - loss: 570.0972 - mae: 570.0972 - val_loss: 572.3615 - val_mae: 572.3615\n",
            "Epoch 15/100\n",
            "247/247 - 1s - loss: 528.2100 - mae: 528.2100 - val_loss: 550.0870 - val_mae: 550.0870\n",
            "Epoch 16/100\n",
            "247/247 - 1s - loss: 540.2191 - mae: 540.2191 - val_loss: 588.5447 - val_mae: 588.5447\n",
            "Epoch 17/100\n",
            "247/247 - 1s - loss: 476.6486 - mae: 476.6486 - val_loss: 364.0263 - val_mae: 364.0263\n",
            "Epoch 18/100\n",
            "247/247 - 1s - loss: 458.9902 - mae: 458.9902 - val_loss: 692.2587 - val_mae: 692.2587\n",
            "Epoch 19/100\n",
            "247/247 - 1s - loss: 480.9769 - mae: 480.9769 - val_loss: 339.9979 - val_mae: 339.9979\n",
            "Epoch 20/100\n",
            "247/247 - 1s - loss: 451.1398 - mae: 451.1398 - val_loss: 464.5654 - val_mae: 464.5654\n",
            "Epoch 21/100\n",
            "247/247 - 1s - loss: 470.8208 - mae: 470.8208 - val_loss: 358.6379 - val_mae: 358.6379\n",
            "Epoch 22/100\n",
            "247/247 - 1s - loss: 417.3087 - mae: 417.3087 - val_loss: 424.7116 - val_mae: 424.7116\n",
            "Epoch 23/100\n",
            "247/247 - 1s - loss: 416.3903 - mae: 416.3903 - val_loss: 386.5848 - val_mae: 386.5848\n",
            "Epoch 24/100\n",
            "247/247 - 1s - loss: 411.8706 - mae: 411.8706 - val_loss: 424.4152 - val_mae: 424.4152\n",
            "Epoch 25/100\n",
            "247/247 - 1s - loss: 387.6079 - mae: 387.6079 - val_loss: 369.9300 - val_mae: 369.9300\n",
            "Epoch 26/100\n",
            "247/247 - 1s - loss: 373.2163 - mae: 373.2163 - val_loss: 386.6428 - val_mae: 386.6428\n",
            "Epoch 27/100\n",
            "247/247 - 1s - loss: 377.0128 - mae: 377.0128 - val_loss: 339.3564 - val_mae: 339.3564\n",
            "Epoch 28/100\n",
            "247/247 - 1s - loss: 371.5559 - mae: 371.5559 - val_loss: 390.6434 - val_mae: 390.6434\n",
            "Epoch 29/100\n",
            "247/247 - 1s - loss: 379.2444 - mae: 379.2444 - val_loss: 401.3811 - val_mae: 401.3811\n",
            "Epoch 30/100\n",
            "247/247 - 1s - loss: 377.6574 - mae: 377.6574 - val_loss: 613.3069 - val_mae: 613.3069\n",
            "Epoch 31/100\n",
            "247/247 - 1s - loss: 429.1190 - mae: 429.1190 - val_loss: 376.4225 - val_mae: 376.4225\n",
            "Epoch 32/100\n",
            "247/247 - 1s - loss: 396.7650 - mae: 396.7650 - val_loss: 377.9133 - val_mae: 377.9133\n",
            "Epoch 33/100\n",
            "247/247 - 1s - loss: 387.5409 - mae: 387.5409 - val_loss: 322.0287 - val_mae: 322.0287\n",
            "Epoch 34/100\n",
            "247/247 - 1s - loss: 361.8176 - mae: 361.8176 - val_loss: 331.1306 - val_mae: 331.1306\n",
            "Epoch 35/100\n",
            "247/247 - 1s - loss: 348.2353 - mae: 348.2353 - val_loss: 367.3931 - val_mae: 367.3931\n",
            "Epoch 36/100\n",
            "247/247 - 1s - loss: 343.7756 - mae: 343.7756 - val_loss: 332.7084 - val_mae: 332.7084\n",
            "Epoch 37/100\n",
            "247/247 - 1s - loss: 358.8598 - mae: 358.8598 - val_loss: 346.3532 - val_mae: 346.3532\n",
            "Epoch 38/100\n",
            "247/247 - 1s - loss: 342.5910 - mae: 342.5910 - val_loss: 348.0490 - val_mae: 348.0490\n",
            "Epoch 39/100\n",
            "247/247 - 1s - loss: 364.4955 - mae: 364.4955 - val_loss: 315.9368 - val_mae: 315.9368\n",
            "Epoch 40/100\n",
            "247/247 - 1s - loss: 349.9581 - mae: 349.9581 - val_loss: 345.0821 - val_mae: 345.0821\n",
            "Epoch 41/100\n",
            "247/247 - 1s - loss: 351.2994 - mae: 351.2994 - val_loss: 367.4606 - val_mae: 367.4606\n",
            "Epoch 42/100\n",
            "247/247 - 1s - loss: 346.6547 - mae: 346.6547 - val_loss: 385.2038 - val_mae: 385.2038\n",
            "Epoch 43/100\n",
            "247/247 - 1s - loss: 331.9130 - mae: 331.9130 - val_loss: 320.5961 - val_mae: 320.5961\n",
            "Epoch 44/100\n",
            "247/247 - 1s - loss: 352.9768 - mae: 352.9768 - val_loss: 355.6779 - val_mae: 355.6779\n",
            "Epoch 45/100\n",
            "247/247 - 1s - loss: 334.0660 - mae: 334.0660 - val_loss: 384.4639 - val_mae: 384.4639\n",
            "Epoch 46/100\n",
            "247/247 - 1s - loss: 329.1016 - mae: 329.1016 - val_loss: 343.6822 - val_mae: 343.6822\n",
            "Epoch 47/100\n",
            "247/247 - 1s - loss: 329.7203 - mae: 329.7203 - val_loss: 508.0443 - val_mae: 508.0443\n",
            "Epoch 48/100\n",
            "247/247 - 1s - loss: 327.8134 - mae: 327.8134 - val_loss: 368.7707 - val_mae: 368.7707\n",
            "Epoch 49/100\n",
            "247/247 - 1s - loss: 331.3837 - mae: 331.3837 - val_loss: 308.3799 - val_mae: 308.3799\n",
            "Epoch 50/100\n",
            "247/247 - 1s - loss: 336.3605 - mae: 336.3605 - val_loss: 385.2115 - val_mae: 385.2115\n",
            "Epoch 51/100\n",
            "247/247 - 1s - loss: 362.7359 - mae: 362.7359 - val_loss: 359.8739 - val_mae: 359.8739\n",
            "Epoch 52/100\n",
            "247/247 - 1s - loss: 349.8961 - mae: 349.8961 - val_loss: 358.8369 - val_mae: 358.8369\n",
            "Epoch 53/100\n",
            "247/247 - 1s - loss: 351.5967 - mae: 351.5967 - val_loss: 344.1310 - val_mae: 344.1310\n",
            "Epoch 54/100\n",
            "247/247 - 1s - loss: 341.7285 - mae: 341.7285 - val_loss: 343.1604 - val_mae: 343.1604\n",
            "Epoch 55/100\n",
            "247/247 - 1s - loss: 342.8046 - mae: 342.8046 - val_loss: 328.2905 - val_mae: 328.2905\n",
            "Epoch 56/100\n",
            "247/247 - 1s - loss: 340.4897 - mae: 340.4897 - val_loss: 355.3163 - val_mae: 355.3163\n",
            "Epoch 57/100\n",
            "247/247 - 1s - loss: 326.2997 - mae: 326.2997 - val_loss: 358.2354 - val_mae: 358.2354\n",
            "Epoch 58/100\n",
            "247/247 - 1s - loss: 313.4728 - mae: 313.4728 - val_loss: 379.1103 - val_mae: 379.1103\n",
            "Epoch 59/100\n",
            "247/247 - 1s - loss: 340.8057 - mae: 340.8057 - val_loss: 467.2342 - val_mae: 467.2342\n",
            "Epoch 60/100\n",
            "247/247 - 1s - loss: 321.2697 - mae: 321.2697 - val_loss: 369.2261 - val_mae: 369.2261\n",
            "Epoch 61/100\n",
            "247/247 - 1s - loss: 334.8640 - mae: 334.8640 - val_loss: 347.1767 - val_mae: 347.1767\n",
            "Epoch 62/100\n",
            "247/247 - 1s - loss: 325.7809 - mae: 325.7809 - val_loss: 322.7262 - val_mae: 322.7262\n",
            "Epoch 63/100\n",
            "247/247 - 1s - loss: 320.5127 - mae: 320.5127 - val_loss: 345.6670 - val_mae: 345.6670\n",
            "Epoch 64/100\n",
            "247/247 - 1s - loss: 312.9273 - mae: 312.9273 - val_loss: 338.4374 - val_mae: 338.4374\n",
            "Epoch 65/100\n",
            "247/247 - 1s - loss: 307.2415 - mae: 307.2415 - val_loss: 406.9370 - val_mae: 406.9370\n",
            "Epoch 66/100\n",
            "247/247 - 1s - loss: 321.8163 - mae: 321.8163 - val_loss: 330.5956 - val_mae: 330.5956\n",
            "Epoch 67/100\n",
            "247/247 - 1s - loss: 314.4360 - mae: 314.4360 - val_loss: 352.6492 - val_mae: 352.6492\n",
            "Epoch 68/100\n",
            "247/247 - 1s - loss: 318.8358 - mae: 318.8358 - val_loss: 366.7379 - val_mae: 366.7379\n",
            "Epoch 69/100\n",
            "247/247 - 1s - loss: 307.3935 - mae: 307.3935 - val_loss: 395.8497 - val_mae: 395.8497\n",
            "Epoch 70/100\n",
            "247/247 - 1s - loss: 326.7002 - mae: 326.7002 - val_loss: 348.1165 - val_mae: 348.1165\n",
            "Epoch 71/100\n",
            "247/247 - 1s - loss: 324.5571 - mae: 324.5571 - val_loss: 350.5867 - val_mae: 350.5867\n",
            "Epoch 72/100\n",
            "247/247 - 1s - loss: 303.0217 - mae: 303.0217 - val_loss: 305.0672 - val_mae: 305.0672\n",
            "Epoch 73/100\n",
            "247/247 - 1s - loss: 305.5618 - mae: 305.5618 - val_loss: 341.3734 - val_mae: 341.3734\n",
            "Epoch 74/100\n",
            "247/247 - 1s - loss: 315.5752 - mae: 315.5752 - val_loss: 297.4386 - val_mae: 297.4386\n",
            "Epoch 75/100\n",
            "247/247 - 1s - loss: 307.7357 - mae: 307.7357 - val_loss: 317.5673 - val_mae: 317.5673\n",
            "Epoch 76/100\n",
            "247/247 - 1s - loss: 319.4968 - mae: 319.4968 - val_loss: 387.7258 - val_mae: 387.7258\n",
            "Epoch 77/100\n",
            "247/247 - 1s - loss: 315.1566 - mae: 315.1566 - val_loss: 363.2166 - val_mae: 363.2166\n",
            "Epoch 78/100\n",
            "247/247 - 1s - loss: 300.4294 - mae: 300.4294 - val_loss: 299.9521 - val_mae: 299.9521\n",
            "Epoch 79/100\n",
            "247/247 - 1s - loss: 300.3538 - mae: 300.3538 - val_loss: 402.1304 - val_mae: 402.1304\n",
            "Epoch 80/100\n",
            "247/247 - 1s - loss: 307.4134 - mae: 307.4134 - val_loss: 336.7759 - val_mae: 336.7759\n",
            "Epoch 81/100\n",
            "247/247 - 1s - loss: 303.2700 - mae: 303.2700 - val_loss: 359.0760 - val_mae: 359.0760\n",
            "Epoch 82/100\n",
            "247/247 - 1s - loss: 306.3366 - mae: 306.3366 - val_loss: 314.5806 - val_mae: 314.5806\n",
            "Epoch 83/100\n",
            "247/247 - 1s - loss: 299.5240 - mae: 299.5240 - val_loss: 377.7745 - val_mae: 377.7745\n",
            "Epoch 84/100\n",
            "247/247 - 1s - loss: 304.4017 - mae: 304.4017 - val_loss: 386.1813 - val_mae: 386.1813\n",
            "Epoch 85/100\n",
            "247/247 - 1s - loss: 313.7493 - mae: 313.7493 - val_loss: 319.8372 - val_mae: 319.8372\n",
            "Epoch 86/100\n",
            "247/247 - 1s - loss: 311.3580 - mae: 311.3580 - val_loss: 352.6044 - val_mae: 352.6044\n",
            "Epoch 87/100\n",
            "247/247 - 1s - loss: 309.2611 - mae: 309.2611 - val_loss: 355.5610 - val_mae: 355.5610\n",
            "Epoch 88/100\n",
            "247/247 - 1s - loss: 300.5702 - mae: 300.5702 - val_loss: 305.0465 - val_mae: 305.0465\n",
            "Epoch 89/100\n",
            "247/247 - 1s - loss: 302.0448 - mae: 302.0448 - val_loss: 351.3063 - val_mae: 351.3063\n",
            "Epoch 90/100\n",
            "247/247 - 1s - loss: 305.7610 - mae: 305.7610 - val_loss: 324.5104 - val_mae: 324.5104\n",
            "Epoch 91/100\n",
            "247/247 - 1s - loss: 314.9226 - mae: 314.9226 - val_loss: 350.4753 - val_mae: 350.4753\n",
            "Epoch 92/100\n",
            "247/247 - 1s - loss: 303.7470 - mae: 303.7470 - val_loss: 319.8062 - val_mae: 319.8062\n",
            "Epoch 93/100\n",
            "247/247 - 1s - loss: 300.4025 - mae: 300.4025 - val_loss: 348.9603 - val_mae: 348.9603\n",
            "Epoch 94/100\n",
            "247/247 - 1s - loss: 312.1267 - mae: 312.1267 - val_loss: 312.6442 - val_mae: 312.6442\n",
            "Epoch 95/100\n",
            "247/247 - 1s - loss: 311.0646 - mae: 311.0646 - val_loss: 323.5176 - val_mae: 323.5176\n",
            "Epoch 96/100\n",
            "247/247 - 1s - loss: 521.0904 - mae: 521.0904 - val_loss: 1656.3524 - val_mae: 1656.3524\n",
            "Epoch 97/100\n",
            "247/247 - 1s - loss: 783.6290 - mae: 783.6290 - val_loss: 369.3574 - val_mae: 369.3574\n",
            "Epoch 98/100\n",
            "247/247 - 1s - loss: 345.0367 - mae: 345.0367 - val_loss: 339.3085 - val_mae: 339.3085\n",
            "Epoch 99/100\n",
            "247/247 - 1s - loss: 313.6348 - mae: 313.6348 - val_loss: 330.0296 - val_mae: 330.0296\n",
            "Epoch 100/100\n",
            "247/247 - 1s - loss: 316.2017 - mae: 316.2017 - val_loss: 326.3276 - val_mae: 326.3276\n",
            "손실함수 :  326.3276062011719 mae :  326.3276062011719\n",
            "평균절댓값백분율오차(mape) :  [0.12845703]\n"
          ],
          "name": "stdout"
        },
        {
          "output_type": "execute_result",
          "data": {
            "text/plain": [
              "<function matplotlib.pyplot.show>"
            ]
          },
          "metadata": {
            "tags": []
          },
          "execution_count": 43
        },
        {
          "output_type": "display_data",
          "data": {
            "image/png": "[encoded data removed]",
            "text/plain": [
              "<Figure size 432x288 with 1 Axes>"
            ]
          },
          "metadata": {
            "tags": [],
            "needs_background": "light"
          }
        }
      ]
    },
    {
      "cell_type": "code",
      "metadata": {
        "colab": {
          "base_uri": "https://localhost:8080/",
          "height": 824
        },
        "id": "jQBHE4p-0Syu",
        "outputId": "3de04462-1e11-4b8a-a161-02ad30fecb67"
      },
      "source": [
        "train_year1 = train_year[['Receipttime','Startpos1','hour','time_receipt_to_set','is_holiday']]\n",
        "train_강서 = train_year1[train_year1['Startpos1'] == '강서구']\n",
        "\n",
        "date_강서 = []\n",
        "for time in train_강서['Receipttime']:\n",
        "  date_강서.append(time[0:10])\n",
        "\n",
        "train_강서['date'] = date_강서\n",
        "group_강서 = train_강서.groupby(['hour'])\n",
        "\n",
        "df_강=pd.DataFrame(group_강서.count()['Receipttime'])\n",
        "\n",
        "df_서 = pd.DataFrame(group_강서.sum()['is_holiday'])\n",
        "df_강 = df_강.join(df_서)\n",
        "\n",
        "new=group_강서['time_receipt_to_set','Receipttime'].mean()\n",
        "#new = group_강서.mean()\n",
        "new_강서 = new.join(df_강)\n",
        "\n",
        "\n",
        "new_강서.rename(columns={'Receipttime':'counts'}, inplace=True)\n",
        "new_강서"
      ],
      "execution_count": null,
      "outputs": [
        {
          "output_type": "execute_result",
          "data": {
            "text/html": [
              "<div>\n",
              "<style scoped>\n",
              "    .dataframe tbody tr th:only-of-type {\n",
              "        vertical-align: middle;\n",
              "    }\n",
              "\n",
              "    .dataframe tbody tr th {\n",
              "        vertical-align: top;\n",
              "    }\n",
              "\n",
              "    .dataframe thead th {\n",
              "        text-align: right;\n",
              "    }\n",
              "</style>\n",
              "<table border=\"1\" class=\"dataframe\">\n",
              "  <thead>\n",
              "    <tr style=\"text-align: right;\">\n",
              "      <th></th>\n",
              "      <th>time_receipt_to_set</th>\n",
              "      <th>counts</th>\n",
              "      <th>is_holiday</th>\n",
              "    </tr>\n",
              "    <tr>\n",
              "      <th>hour</th>\n",
              "      <th></th>\n",
              "      <th></th>\n",
              "      <th></th>\n",
              "    </tr>\n",
              "  </thead>\n",
              "  <tbody>\n",
              "    <tr>\n",
              "      <th>0</th>\n",
              "      <td>18.200000</td>\n",
              "      <td>20</td>\n",
              "      <td>8</td>\n",
              "    </tr>\n",
              "    <tr>\n",
              "      <th>1</th>\n",
              "      <td>12.388889</td>\n",
              "      <td>18</td>\n",
              "      <td>7</td>\n",
              "    </tr>\n",
              "    <tr>\n",
              "      <th>2</th>\n",
              "      <td>5.307692</td>\n",
              "      <td>13</td>\n",
              "      <td>4</td>\n",
              "    </tr>\n",
              "    <tr>\n",
              "      <th>3</th>\n",
              "      <td>6.444444</td>\n",
              "      <td>36</td>\n",
              "      <td>2</td>\n",
              "    </tr>\n",
              "    <tr>\n",
              "      <th>4</th>\n",
              "      <td>7.795455</td>\n",
              "      <td>44</td>\n",
              "      <td>17</td>\n",
              "    </tr>\n",
              "    <tr>\n",
              "      <th>5</th>\n",
              "      <td>3.058824</td>\n",
              "      <td>17</td>\n",
              "      <td>8</td>\n",
              "    </tr>\n",
              "    <tr>\n",
              "      <th>6</th>\n",
              "      <td>29.000000</td>\n",
              "      <td>1</td>\n",
              "      <td>1</td>\n",
              "    </tr>\n",
              "    <tr>\n",
              "      <th>7</th>\n",
              "      <td>17.404412</td>\n",
              "      <td>1768</td>\n",
              "      <td>219</td>\n",
              "    </tr>\n",
              "    <tr>\n",
              "      <th>8</th>\n",
              "      <td>25.845230</td>\n",
              "      <td>1415</td>\n",
              "      <td>175</td>\n",
              "    </tr>\n",
              "    <tr>\n",
              "      <th>9</th>\n",
              "      <td>18.765453</td>\n",
              "      <td>1181</td>\n",
              "      <td>281</td>\n",
              "    </tr>\n",
              "    <tr>\n",
              "      <th>10</th>\n",
              "      <td>6.881029</td>\n",
              "      <td>1555</td>\n",
              "      <td>339</td>\n",
              "    </tr>\n",
              "    <tr>\n",
              "      <th>11</th>\n",
              "      <td>8.211618</td>\n",
              "      <td>1928</td>\n",
              "      <td>328</td>\n",
              "    </tr>\n",
              "    <tr>\n",
              "      <th>12</th>\n",
              "      <td>6.545359</td>\n",
              "      <td>1896</td>\n",
              "      <td>361</td>\n",
              "    </tr>\n",
              "    <tr>\n",
              "      <th>13</th>\n",
              "      <td>5.350965</td>\n",
              "      <td>1399</td>\n",
              "      <td>236</td>\n",
              "    </tr>\n",
              "    <tr>\n",
              "      <th>14</th>\n",
              "      <td>5.834805</td>\n",
              "      <td>1586</td>\n",
              "      <td>228</td>\n",
              "    </tr>\n",
              "    <tr>\n",
              "      <th>15</th>\n",
              "      <td>12.160249</td>\n",
              "      <td>1766</td>\n",
              "      <td>210</td>\n",
              "    </tr>\n",
              "    <tr>\n",
              "      <th>16</th>\n",
              "      <td>20.451883</td>\n",
              "      <td>1195</td>\n",
              "      <td>193</td>\n",
              "    </tr>\n",
              "    <tr>\n",
              "      <th>17</th>\n",
              "      <td>19.494215</td>\n",
              "      <td>605</td>\n",
              "      <td>113</td>\n",
              "    </tr>\n",
              "    <tr>\n",
              "      <th>18</th>\n",
              "      <td>14.072886</td>\n",
              "      <td>343</td>\n",
              "      <td>98</td>\n",
              "    </tr>\n",
              "    <tr>\n",
              "      <th>19</th>\n",
              "      <td>8.435393</td>\n",
              "      <td>356</td>\n",
              "      <td>99</td>\n",
              "    </tr>\n",
              "    <tr>\n",
              "      <th>20</th>\n",
              "      <td>8.203922</td>\n",
              "      <td>255</td>\n",
              "      <td>86</td>\n",
              "    </tr>\n",
              "    <tr>\n",
              "      <th>21</th>\n",
              "      <td>13.390411</td>\n",
              "      <td>146</td>\n",
              "      <td>38</td>\n",
              "    </tr>\n",
              "    <tr>\n",
              "      <th>22</th>\n",
              "      <td>11.130081</td>\n",
              "      <td>123</td>\n",
              "      <td>38</td>\n",
              "    </tr>\n",
              "    <tr>\n",
              "      <th>23</th>\n",
              "      <td>8.180000</td>\n",
              "      <td>50</td>\n",
              "      <td>17</td>\n",
              "    </tr>\n",
              "  </tbody>\n",
              "</table>\n",
              "</div>"
            ],
            "text/plain": [
              "      time_receipt_to_set  counts  is_holiday\n",
              "hour                                         \n",
              "0               18.200000      20           8\n",
              "1               12.388889      18           7\n",
              "2                5.307692      13           4\n",
              "3                6.444444      36           2\n",
              "4                7.795455      44          17\n",
              "5                3.058824      17           8\n",
              "6               29.000000       1           1\n",
              "7               17.404412    1768         219\n",
              "8               25.845230    1415         175\n",
              "9               18.765453    1181         281\n",
              "10               6.881029    1555         339\n",
              "11               8.211618    1928         328\n",
              "12               6.545359    1896         361\n",
              "13               5.350965    1399         236\n",
              "14               5.834805    1586         228\n",
              "15              12.160249    1766         210\n",
              "16              20.451883    1195         193\n",
              "17              19.494215     605         113\n",
              "18              14.072886     343          98\n",
              "19               8.435393     356          99\n",
              "20               8.203922     255          86\n",
              "21              13.390411     146          38\n",
              "22              11.130081     123          38\n",
              "23               8.180000      50          17"
            ]
          },
          "metadata": {
            "tags": []
          },
          "execution_count": 29
        }
      ]
    },
    {
      "cell_type": "code",
      "metadata": {
        "id": "VA0opqrM1NGS"
      },
      "source": [
        "new_강서1 = new_강서.copy()"
      ],
      "execution_count": null,
      "outputs": []
    },
    {
      "cell_type": "markdown",
      "metadata": {
        "id": "Ugeu9fkaT8A8"
      },
      "source": [
        "# 예측"
      ]
    },
    {
      "cell_type": "markdown",
      "metadata": {
        "id": "ZC6uP9VcT9la"
      },
      "source": [
        "- 2021.07.26 ~ 2021.07.31 까지의 장애인 콜택시 이용량\n",
        "- data_0726to0731.csv "
      ]
    },
    {
      "cell_type": "code",
      "metadata": {
        "id": "AOSivwryUxS5",
        "colab": {
          "base_uri": "https://localhost:8080/",
          "height": 235
        },
        "outputId": "90bf3439-5416-4d7d-ac8b-45d12c39a4ef"
      },
      "source": [
        "data_0726to0731"
      ],
      "execution_count": null,
      "outputs": [
        {
          "output_type": "execute_result",
          "data": {
            "text/html": [
              "<div>\n",
              "<style scoped>\n",
              "    .dataframe tbody tr th:only-of-type {\n",
              "        vertical-align: middle;\n",
              "    }\n",
              "\n",
              "    .dataframe tbody tr th {\n",
              "        vertical-align: top;\n",
              "    }\n",
              "\n",
              "    .dataframe thead th {\n",
              "        text-align: right;\n",
              "    }\n",
              "</style>\n",
              "<table border=\"1\" class=\"dataframe\">\n",
              "  <thead>\n",
              "    <tr style=\"text-align: right;\">\n",
              "      <th></th>\n",
              "      <th>기준일</th>\n",
              "      <th>차량운행</th>\n",
              "      <th>희망건</th>\n",
              "      <th>탑승건</th>\n",
              "      <th>평균대기시간</th>\n",
              "      <th>평균요금</th>\n",
              "      <th>평균승차거리</th>\n",
              "    </tr>\n",
              "  </thead>\n",
              "  <tbody>\n",
              "    <tr>\n",
              "      <th>0</th>\n",
              "      <td>2021-07-26</td>\n",
              "      <td>536</td>\n",
              "      <td>4596</td>\n",
              "      <td>4179</td>\n",
              "      <td>27.9</td>\n",
              "      <td>2160</td>\n",
              "      <td>7940</td>\n",
              "    </tr>\n",
              "    <tr>\n",
              "      <th>1</th>\n",
              "      <td>2021-07-27</td>\n",
              "      <td>540</td>\n",
              "      <td>4604</td>\n",
              "      <td>4133</td>\n",
              "      <td>26.7</td>\n",
              "      <td>2181</td>\n",
              "      <td>8160</td>\n",
              "    </tr>\n",
              "    <tr>\n",
              "      <th>2</th>\n",
              "      <td>2021-07-28</td>\n",
              "      <td>534</td>\n",
              "      <td>4549</td>\n",
              "      <td>4071</td>\n",
              "      <td>27.7</td>\n",
              "      <td>2175</td>\n",
              "      <td>8062</td>\n",
              "    </tr>\n",
              "    <tr>\n",
              "      <th>3</th>\n",
              "      <td>2021-07-29</td>\n",
              "      <td>528</td>\n",
              "      <td>4424</td>\n",
              "      <td>3983</td>\n",
              "      <td>27.2</td>\n",
              "      <td>2202</td>\n",
              "      <td>8292</td>\n",
              "    </tr>\n",
              "    <tr>\n",
              "      <th>4</th>\n",
              "      <td>2021-07-30</td>\n",
              "      <td>528</td>\n",
              "      <td>4227</td>\n",
              "      <td>3827</td>\n",
              "      <td>26.7</td>\n",
              "      <td>2176</td>\n",
              "      <td>8098</td>\n",
              "    </tr>\n",
              "    <tr>\n",
              "      <th>5</th>\n",
              "      <td>2021-07-31</td>\n",
              "      <td>295</td>\n",
              "      <td>1680</td>\n",
              "      <td>1572</td>\n",
              "      <td>21.9</td>\n",
              "      <td>2257</td>\n",
              "      <td>8920</td>\n",
              "    </tr>\n",
              "  </tbody>\n",
              "</table>\n",
              "</div>"
            ],
            "text/plain": [
              "          기준일  차량운행   희망건   탑승건  평균대기시간  평균요금  평균승차거리\n",
              "0  2021-07-26   536  4596  4179    27.9  2160    7940\n",
              "1  2021-07-27   540  4604  4133    26.7  2181    8160\n",
              "2  2021-07-28   534  4549  4071    27.7  2175    8062\n",
              "3  2021-07-29   528  4424  3983    27.2  2202    8292\n",
              "4  2021-07-30   528  4227  3827    26.7  2176    8098\n",
              "5  2021-07-31   295  1680  1572    21.9  2257    8920"
            ]
          },
          "metadata": {
            "tags": []
          },
          "execution_count": 48
        }
      ]
    },
    {
      "cell_type": "code",
      "metadata": {
        "colab": {
          "base_uri": "https://localhost:8080/",
          "height": 282
        },
        "id": "mSQUUdwmXafx",
        "outputId": "c50f78d3-3a4e-4821-bec8-3519afd3cfd4"
      },
      "source": [
        "x_range = range(len(y_test))\n",
        "plt.plot(x_range, y_test[x_range], color='red') # 학습 데이터 \n",
        "plt.plot(x_range, pred[x_range], color='blue') # 예측 \n",
        "plt.show"
      ],
      "execution_count": null,
      "outputs": [
        {
          "output_type": "execute_result",
          "data": {
            "text/plain": [
              "<function matplotlib.pyplot.show>"
            ]
          },
          "metadata": {
            "tags": []
          },
          "execution_count": 34
        },
        {
          "output_type": "display_data",
          "data": {
            "image/png": "[encoded data removed]",
            "text/plain": [
              "<Figure size 432x288 with 1 Axes>"
            ]
          },
          "metadata": {
            "tags": [],
            "needs_background": "light"
          }
        }
      ]
    },
    {
      "cell_type": "markdown",
      "metadata": {
        "id": "ukqQkE3UZRVu"
      },
      "source": [
        "### 노원구"
      ]
    },
    {
      "cell_type": "code",
      "metadata": {
        "colab": {
          "base_uri": "https://localhost:8080/"
        },
        "id": "-OZ1SAerZSxs",
        "outputId": "f9a3cdc0-9503-4341-f911-c7a2bdca43d4"
      },
      "source": [
        "train_노원 = train_year1[train_year1['Startpos1'] == '노원구']\n",
        "\n",
        "date_노원 = []\n",
        "for time in train_노원['Receipttime']:\n",
        "  date_노원.append(time[0:10])\n",
        "\n",
        "train_노원['date'] = date_노원\n",
        "group_노원 = train_노원.groupby(['date'])\n",
        "\n",
        "df_노=pd.DataFrame(group_노원.count()['Receipttime'])\n",
        "\n",
        "new=group_노원.mean()\n",
        "new_노원 = new.join(df_노)\n",
        "\n",
        "new_노원.rename(columns={'Receipttime':'count'}, inplace=True)\n",
        "\n",
        "seq = new_노원[['count']].to_numpy()\n",
        "def seq2dataset(seq, window, horizon):\n",
        "  X=[];Y=[]\n",
        "  for i in range(len(seq)-(window+horizon)+1):\n",
        "    x=seq[i:(i+window)]\n",
        "    y=(seq[i+window+horizon-1])\n",
        "    X.append(x);Y.append(y)\n",
        "  return np.array(X), np.array(Y)\n",
        "w=7 # 윈도우사이즈 \n",
        "h=1\n",
        "X,Y=seq2dataset(seq,w,h)\n",
        "X,Y\n",
        "\n",
        "\n",
        "from tensorflow.keras.models import Sequential\n",
        "from tensorflow.keras.layers import Dense,LSTM,Dropout\n",
        "\n",
        "split = int(len(X)*0.7)\n",
        "x_train = X[0:split];y_train=Y[0:split]\n",
        "x_test = X[split:]; y_test = Y[split:]\n",
        "\n",
        "model = Sequential()\n",
        "model.add(LSTM(units=128, activation='relu', input_shape=x_train[0].shape))\n",
        "model.add(Dense(1))\n",
        "model.compile(loss='mae', optimizer='adam', metrics=['mae'])\n",
        "hist = model.fit(x_train, y_train, epochs=100, batch_size=1, validation_data=(x_test,y_test),verbose=2)\n",
        "\n",
        "\n",
        "#평가\n",
        "ev = model.evaluate(x_test,y_test, verbose=0)\n",
        "print('손실함수 : ', ev[0], 'mae : ', ev[1])\n",
        "\n",
        "\n",
        "#예측\n",
        "pred = model.predict(x_test)\n",
        "print('평균절댓값백분율오차(mape) : ', sum(abs(y_test-pred) / y_test) / len(x_test))\n"
      ],
      "execution_count": null,
      "outputs": [
        {
          "output_type": "stream",
          "text": [
            "Epoch 1/100\n",
            "53/53 - 1s - loss: 189.8853 - mae: 189.8853 - val_loss: 175.2528 - val_mae: 175.2528\n",
            "Epoch 2/100\n",
            "53/53 - 0s - loss: 118.2659 - mae: 118.2659 - val_loss: 152.6933 - val_mae: 152.6933\n",
            "Epoch 3/100\n",
            "53/53 - 0s - loss: 104.4451 - mae: 104.4451 - val_loss: 107.5671 - val_mae: 107.5671\n",
            "Epoch 4/100\n",
            "53/53 - 0s - loss: 104.6939 - mae: 104.6939 - val_loss: 94.6172 - val_mae: 94.6172\n",
            "Epoch 5/100\n",
            "53/53 - 0s - loss: 94.1789 - mae: 94.1789 - val_loss: 95.6445 - val_mae: 95.6445\n",
            "Epoch 6/100\n",
            "53/53 - 0s - loss: 97.8668 - mae: 97.8668 - val_loss: 107.0276 - val_mae: 107.0276\n",
            "Epoch 7/100\n",
            "53/53 - 0s - loss: 94.7342 - mae: 94.7342 - val_loss: 126.5808 - val_mae: 126.5808\n",
            "Epoch 8/100\n",
            "53/53 - 0s - loss: 110.3592 - mae: 110.3592 - val_loss: 155.6217 - val_mae: 155.6217\n",
            "Epoch 9/100\n",
            "53/53 - 0s - loss: 96.6503 - mae: 96.6503 - val_loss: 102.2354 - val_mae: 102.2354\n",
            "Epoch 10/100\n",
            "53/53 - 0s - loss: 97.0552 - mae: 97.0552 - val_loss: 80.5129 - val_mae: 80.5129\n",
            "Epoch 11/100\n",
            "53/53 - 0s - loss: 91.6807 - mae: 91.6807 - val_loss: 81.6486 - val_mae: 81.6486\n",
            "Epoch 12/100\n",
            "53/53 - 0s - loss: 91.9683 - mae: 91.9683 - val_loss: 72.7076 - val_mae: 72.7076\n",
            "Epoch 13/100\n",
            "53/53 - 0s - loss: 88.5613 - mae: 88.5613 - val_loss: 74.7062 - val_mae: 74.7062\n",
            "Epoch 14/100\n",
            "53/53 - 0s - loss: 81.5132 - mae: 81.5132 - val_loss: 67.6460 - val_mae: 67.6460\n",
            "Epoch 15/100\n",
            "53/53 - 0s - loss: 78.4648 - mae: 78.4648 - val_loss: 63.8870 - val_mae: 63.8870\n",
            "Epoch 16/100\n",
            "53/53 - 0s - loss: 81.6542 - mae: 81.6542 - val_loss: 43.0339 - val_mae: 43.0339\n",
            "Epoch 17/100\n",
            "53/53 - 0s - loss: 74.1388 - mae: 74.1388 - val_loss: 45.4467 - val_mae: 45.4467\n",
            "Epoch 18/100\n",
            "53/53 - 0s - loss: 71.6372 - mae: 71.6372 - val_loss: 36.7702 - val_mae: 36.7702\n",
            "Epoch 19/100\n",
            "53/53 - 0s - loss: 67.9858 - mae: 67.9858 - val_loss: 40.0864 - val_mae: 40.0864\n",
            "Epoch 20/100\n",
            "53/53 - 0s - loss: 70.8680 - mae: 70.8680 - val_loss: 53.6932 - val_mae: 53.6932\n",
            "Epoch 21/100\n",
            "53/53 - 0s - loss: 74.8514 - mae: 74.8514 - val_loss: 49.4210 - val_mae: 49.4210\n",
            "Epoch 22/100\n",
            "53/53 - 0s - loss: 70.7447 - mae: 70.7447 - val_loss: 71.9347 - val_mae: 71.9347\n",
            "Epoch 23/100\n",
            "53/53 - 0s - loss: 78.1318 - mae: 78.1318 - val_loss: 65.2368 - val_mae: 65.2368\n",
            "Epoch 24/100\n",
            "53/53 - 0s - loss: 71.6491 - mae: 71.6491 - val_loss: 37.4838 - val_mae: 37.4838\n",
            "Epoch 25/100\n",
            "53/53 - 0s - loss: 75.7946 - mae: 75.7946 - val_loss: 57.8988 - val_mae: 57.8988\n",
            "Epoch 26/100\n",
            "53/53 - 0s - loss: 73.1347 - mae: 73.1347 - val_loss: 36.0741 - val_mae: 36.0741\n",
            "Epoch 27/100\n",
            "53/53 - 0s - loss: 64.1753 - mae: 64.1753 - val_loss: 37.6188 - val_mae: 37.6188\n",
            "Epoch 28/100\n",
            "53/53 - 0s - loss: 67.4038 - mae: 67.4038 - val_loss: 55.2574 - val_mae: 55.2574\n",
            "Epoch 29/100\n",
            "53/53 - 0s - loss: 63.5404 - mae: 63.5404 - val_loss: 53.0121 - val_mae: 53.0121\n",
            "Epoch 30/100\n",
            "53/53 - 0s - loss: 69.7435 - mae: 69.7435 - val_loss: 63.3002 - val_mae: 63.3002\n",
            "Epoch 31/100\n",
            "53/53 - 0s - loss: 70.6705 - mae: 70.6705 - val_loss: 33.1834 - val_mae: 33.1834\n",
            "Epoch 32/100\n",
            "53/53 - 0s - loss: 67.0234 - mae: 67.0234 - val_loss: 52.9226 - val_mae: 52.9226\n",
            "Epoch 33/100\n",
            "53/53 - 0s - loss: 73.3199 - mae: 73.3199 - val_loss: 46.5204 - val_mae: 46.5204\n",
            "Epoch 34/100\n",
            "53/53 - 0s - loss: 61.1247 - mae: 61.1247 - val_loss: 39.2518 - val_mae: 39.2518\n",
            "Epoch 35/100\n",
            "53/53 - 0s - loss: 66.3066 - mae: 66.3066 - val_loss: 102.2036 - val_mae: 102.2036\n",
            "Epoch 36/100\n",
            "53/53 - 0s - loss: 65.5484 - mae: 65.5484 - val_loss: 37.7137 - val_mae: 37.7137\n",
            "Epoch 37/100\n",
            "53/53 - 0s - loss: 58.7202 - mae: 58.7202 - val_loss: 34.7435 - val_mae: 34.7435\n",
            "Epoch 38/100\n",
            "53/53 - 0s - loss: 57.3611 - mae: 57.3611 - val_loss: 36.5878 - val_mae: 36.5878\n",
            "Epoch 39/100\n",
            "53/53 - 0s - loss: 59.9188 - mae: 59.9188 - val_loss: 43.6236 - val_mae: 43.6236\n",
            "Epoch 40/100\n",
            "53/53 - 0s - loss: 65.2236 - mae: 65.2236 - val_loss: 49.2352 - val_mae: 49.2352\n",
            "Epoch 41/100\n",
            "53/53 - 0s - loss: 71.7903 - mae: 71.7903 - val_loss: 53.6725 - val_mae: 53.6725\n",
            "Epoch 42/100\n",
            "53/53 - 0s - loss: 73.3741 - mae: 73.3741 - val_loss: 33.4990 - val_mae: 33.4990\n",
            "Epoch 43/100\n",
            "53/53 - 0s - loss: 57.8620 - mae: 57.8620 - val_loss: 39.9815 - val_mae: 39.9815\n",
            "Epoch 44/100\n",
            "53/53 - 0s - loss: 59.8463 - mae: 59.8463 - val_loss: 64.3356 - val_mae: 64.3356\n",
            "Epoch 45/100\n",
            "53/53 - 0s - loss: 64.4528 - mae: 64.4528 - val_loss: 53.1965 - val_mae: 53.1965\n",
            "Epoch 46/100\n",
            "53/53 - 0s - loss: 58.1952 - mae: 58.1952 - val_loss: 58.3559 - val_mae: 58.3559\n",
            "Epoch 47/100\n",
            "53/53 - 0s - loss: 70.4564 - mae: 70.4564 - val_loss: 46.5157 - val_mae: 46.5157\n",
            "Epoch 48/100\n",
            "53/53 - 0s - loss: 61.2423 - mae: 61.2423 - val_loss: 34.2667 - val_mae: 34.2667\n",
            "Epoch 49/100\n",
            "53/53 - 0s - loss: 65.8481 - mae: 65.8481 - val_loss: 32.4747 - val_mae: 32.4747\n",
            "Epoch 50/100\n",
            "53/53 - 0s - loss: 64.2112 - mae: 64.2112 - val_loss: 46.3919 - val_mae: 46.3919\n",
            "Epoch 51/100\n",
            "53/53 - 0s - loss: 75.6446 - mae: 75.6446 - val_loss: 35.4484 - val_mae: 35.4484\n",
            "Epoch 52/100\n",
            "53/53 - 0s - loss: 64.2611 - mae: 64.2611 - val_loss: 42.8464 - val_mae: 42.8464\n",
            "Epoch 53/100\n",
            "53/53 - 0s - loss: 63.3260 - mae: 63.3260 - val_loss: 29.6548 - val_mae: 29.6548\n",
            "Epoch 54/100\n",
            "53/53 - 0s - loss: 65.8388 - mae: 65.8388 - val_loss: 68.7599 - val_mae: 68.7599\n",
            "Epoch 55/100\n",
            "53/53 - 0s - loss: 66.3984 - mae: 66.3984 - val_loss: 22.5239 - val_mae: 22.5239\n",
            "Epoch 56/100\n",
            "53/53 - 0s - loss: 58.4951 - mae: 58.4951 - val_loss: 30.8961 - val_mae: 30.8961\n",
            "Epoch 57/100\n",
            "53/53 - 0s - loss: 62.7865 - mae: 62.7865 - val_loss: 90.5461 - val_mae: 90.5461\n",
            "Epoch 58/100\n",
            "53/53 - 0s - loss: 62.6526 - mae: 62.6526 - val_loss: 38.2707 - val_mae: 38.2707\n",
            "Epoch 59/100\n",
            "53/53 - 0s - loss: 57.7272 - mae: 57.7272 - val_loss: 29.7196 - val_mae: 29.7196\n",
            "Epoch 60/100\n",
            "53/53 - 0s - loss: 65.4168 - mae: 65.4168 - val_loss: 57.1974 - val_mae: 57.1974\n",
            "Epoch 61/100\n",
            "53/53 - 0s - loss: 59.4786 - mae: 59.4786 - val_loss: 29.1071 - val_mae: 29.1071\n",
            "Epoch 62/100\n",
            "53/53 - 0s - loss: 67.6119 - mae: 67.6119 - val_loss: 28.9630 - val_mae: 28.9630\n",
            "Epoch 63/100\n",
            "53/53 - 0s - loss: 59.2519 - mae: 59.2519 - val_loss: 36.3654 - val_mae: 36.3654\n",
            "Epoch 64/100\n",
            "53/53 - 0s - loss: 57.8920 - mae: 57.8920 - val_loss: 29.6406 - val_mae: 29.6406\n",
            "Epoch 65/100\n",
            "53/53 - 0s - loss: 61.1444 - mae: 61.1444 - val_loss: 38.5821 - val_mae: 38.5821\n",
            "Epoch 66/100\n",
            "53/53 - 0s - loss: 57.0651 - mae: 57.0651 - val_loss: 25.1490 - val_mae: 25.1490\n",
            "Epoch 67/100\n",
            "53/53 - 0s - loss: 53.1542 - mae: 53.1542 - val_loss: 86.4717 - val_mae: 86.4717\n",
            "Epoch 68/100\n",
            "53/53 - 0s - loss: 60.2507 - mae: 60.2507 - val_loss: 27.5657 - val_mae: 27.5657\n",
            "Epoch 69/100\n",
            "53/53 - 0s - loss: 55.4809 - mae: 55.4809 - val_loss: 22.3562 - val_mae: 22.3562\n",
            "Epoch 70/100\n",
            "53/53 - 0s - loss: 52.0155 - mae: 52.0155 - val_loss: 49.3277 - val_mae: 49.3277\n",
            "Epoch 71/100\n",
            "53/53 - 0s - loss: 55.4268 - mae: 55.4268 - val_loss: 32.2311 - val_mae: 32.2311\n",
            "Epoch 72/100\n",
            "53/53 - 0s - loss: 60.4561 - mae: 60.4561 - val_loss: 24.3644 - val_mae: 24.3644\n",
            "Epoch 73/100\n",
            "53/53 - 0s - loss: 50.5546 - mae: 50.5546 - val_loss: 33.8314 - val_mae: 33.8314\n",
            "Epoch 74/100\n",
            "53/53 - 0s - loss: 53.3538 - mae: 53.3538 - val_loss: 26.3163 - val_mae: 26.3163\n",
            "Epoch 75/100\n",
            "53/53 - 0s - loss: 51.3800 - mae: 51.3800 - val_loss: 26.8955 - val_mae: 26.8955\n",
            "Epoch 76/100\n",
            "53/53 - 0s - loss: 58.7149 - mae: 58.7149 - val_loss: 47.6765 - val_mae: 47.6765\n",
            "Epoch 77/100\n",
            "53/53 - 0s - loss: 61.3048 - mae: 61.3048 - val_loss: 58.0646 - val_mae: 58.0646\n",
            "Epoch 78/100\n",
            "53/53 - 0s - loss: 48.7426 - mae: 48.7426 - val_loss: 37.1746 - val_mae: 37.1746\n",
            "Epoch 79/100\n",
            "53/53 - 0s - loss: 48.3030 - mae: 48.3030 - val_loss: 27.0147 - val_mae: 27.0147\n",
            "Epoch 80/100\n",
            "53/53 - 0s - loss: 52.5535 - mae: 52.5535 - val_loss: 28.5115 - val_mae: 28.5115\n",
            "Epoch 81/100\n",
            "53/53 - 0s - loss: 55.6216 - mae: 55.6216 - val_loss: 30.9497 - val_mae: 30.9497\n",
            "Epoch 82/100\n",
            "53/53 - 0s - loss: 51.5040 - mae: 51.5040 - val_loss: 40.6470 - val_mae: 40.6470\n",
            "Epoch 83/100\n",
            "53/53 - 0s - loss: 55.8955 - mae: 55.8955 - val_loss: 30.3825 - val_mae: 30.3825\n",
            "Epoch 84/100\n",
            "53/53 - 0s - loss: 45.4719 - mae: 45.4719 - val_loss: 25.1299 - val_mae: 25.1299\n",
            "Epoch 85/100\n",
            "53/53 - 0s - loss: 48.0249 - mae: 48.0249 - val_loss: 28.6644 - val_mae: 28.6644\n",
            "Epoch 86/100\n",
            "53/53 - 0s - loss: 47.7249 - mae: 47.7249 - val_loss: 34.3275 - val_mae: 34.3275\n",
            "Epoch 87/100\n",
            "53/53 - 0s - loss: 46.2010 - mae: 46.2010 - val_loss: 65.9839 - val_mae: 65.9839\n",
            "Epoch 88/100\n",
            "53/53 - 0s - loss: 46.9717 - mae: 46.9717 - val_loss: 34.8407 - val_mae: 34.8407\n",
            "Epoch 89/100\n",
            "53/53 - 0s - loss: 45.0357 - mae: 45.0357 - val_loss: 22.1839 - val_mae: 22.1839\n",
            "Epoch 90/100\n",
            "53/53 - 0s - loss: 46.8874 - mae: 46.8874 - val_loss: 37.8064 - val_mae: 37.8064\n",
            "Epoch 91/100\n",
            "53/53 - 0s - loss: 44.3240 - mae: 44.3240 - val_loss: 30.7339 - val_mae: 30.7339\n",
            "Epoch 92/100\n",
            "53/53 - 0s - loss: 43.9930 - mae: 43.9930 - val_loss: 23.2306 - val_mae: 23.2306\n",
            "Epoch 93/100\n",
            "53/53 - 0s - loss: 44.6519 - mae: 44.6519 - val_loss: 28.3667 - val_mae: 28.3667\n",
            "Epoch 94/100\n",
            "53/53 - 0s - loss: 54.3886 - mae: 54.3886 - val_loss: 23.1178 - val_mae: 23.1178\n",
            "Epoch 95/100\n",
            "53/53 - 0s - loss: 44.6084 - mae: 44.6084 - val_loss: 24.3690 - val_mae: 24.3690\n",
            "Epoch 96/100\n",
            "53/53 - 0s - loss: 47.8703 - mae: 47.8703 - val_loss: 25.4381 - val_mae: 25.4381\n",
            "Epoch 97/100\n",
            "53/53 - 0s - loss: 56.7550 - mae: 56.7550 - val_loss: 43.8203 - val_mae: 43.8203\n",
            "Epoch 98/100\n",
            "53/53 - 0s - loss: 54.0616 - mae: 54.0616 - val_loss: 30.5080 - val_mae: 30.5080\n",
            "Epoch 99/100\n",
            "53/53 - 0s - loss: 44.5830 - mae: 44.5830 - val_loss: 19.8468 - val_mae: 19.8468\n",
            "Epoch 100/100\n",
            "53/53 - 0s - loss: 47.2004 - mae: 47.2004 - val_loss: 22.4166 - val_mae: 22.4166\n",
            "손실함수 :  22.41655921936035 mae :  22.41655921936035\n",
            "평균절댓값백분율오차(mape) :  [0.07115507]\n"
          ],
          "name": "stdout"
        }
      ]
    },
    {
      "cell_type": "code",
      "metadata": {
        "colab": {
          "base_uri": "https://localhost:8080/",
          "height": 282
        },
        "id": "GC59A1jVZ42m",
        "outputId": "6cb36688-5b03-4e54-fd85-dc1ce8c9aba3"
      },
      "source": [
        "x_range = range(len(y_test))\n",
        "plt.plot(x_range, y_test[x_range], color='red')\n",
        "plt.plot(x_range, pred[x_range], color='blue')\n",
        "plt.show"
      ],
      "execution_count": null,
      "outputs": [
        {
          "output_type": "execute_result",
          "data": {
            "text/plain": [
              "<function matplotlib.pyplot.show>"
            ]
          },
          "metadata": {
            "tags": []
          },
          "execution_count": 188
        },
        {
          "output_type": "display_data",
          "data": {
            "image/png": "[encoded data removed]",
            "text/plain": [
              "<Figure size 432x288 with 1 Axes>"
            ]
          },
          "metadata": {
            "tags": [],
            "needs_background": "light"
          }
        }
      ]
    },
    {
      "cell_type": "markdown",
      "metadata": {
        "id": "rrW761hKa2Nt"
      },
      "source": [
        "### 강서구"
      ]
    },
    {
      "cell_type": "code",
      "metadata": {
        "colab": {
          "base_uri": "https://localhost:8080/"
        },
        "id": "gv-M-O3ka3oa",
        "outputId": "43bf5850-bdda-4ad0-f04b-4f1d86ba552f"
      },
      "source": [
        "train_강서 = train_year1[train_year1['Startpos1'] == '강서구']\n",
        "\n",
        "date_강서 = []\n",
        "for time in train_강서['Receipttime']:\n",
        "  date_강서.append(time[0:10])\n",
        "\n",
        "train_강서['date'] = date_강서\n",
        "group_강서 = train_강서.groupby(['date'])\n",
        "\n",
        "df_강=pd.DataFrame(group_강서.count()['Receipttime'])\n",
        "\n",
        "new=group_강서.mean()\n",
        "new_강서 = new.join(df_강)\n",
        "\n",
        "new_강서.rename(columns={'Receipttime':'count'}, inplace=True)\n",
        "\n",
        "new_강서\n",
        "\n",
        "seq = new_강서[['count']].to_numpy()\n",
        "def seq2dataset(seq, window, horizon):\n",
        "  X=[];Y=[]\n",
        "  for i in range(len(seq)-(window+horizon)+1):\n",
        "    x=seq[i:(i+window)]\n",
        "    y=(seq[i+window+horizon-1])\n",
        "    X.append(x);Y.append(y)\n",
        "  return np.array(X), np.array(Y)\n",
        "w= 7 #윈도우사이즈 \n",
        "h=1\n",
        "X,Y=seq2dataset(seq,w,h)\n",
        "\n",
        "from tensorflow.keras.models import Sequential\n",
        "from tensorflow.keras.layers import Dense,LSTM,Dropout\n",
        "\n",
        "split = int(len(X)*0.7)\n",
        "x_train = X[0:split];y_train=Y[0:split]\n",
        "x_test = X[split:]; y_test = Y[split:]\n",
        "\n",
        "model = Sequential()\n",
        "model.add(LSTM(units=128, activation='relu', input_shape=x_train[0].shape))\n",
        "model.add(Dense(1))\n",
        "model.compile(loss='mae', optimizer='adam', metrics=['mae'])\n",
        "hist = model.fit(x_train, y_train, epochs=50, batch_size=1, validation_data=(x_test,y_test),verbose=2)\n",
        "\n",
        "\n",
        "#평가\n",
        "ev = model.evaluate(x_test,y_test, verbose=0)\n",
        "print('손실함수 : ', ev[0], 'mae : ', ev[1])\n",
        "\n",
        "\n",
        "#예측\n",
        "pred = model.predict(x_test)\n",
        "print('평균절댓값백분율오차(mape) : ', sum(abs(y_test-pred) / y_test) / len(x_test))\n"
      ],
      "execution_count": null,
      "outputs": [
        {
          "output_type": "stream",
          "text": [
            "Epoch 1/50\n",
            "53/53 - 2s - loss: 77.8405 - mae: 77.8405 - val_loss: 52.0777 - val_mae: 52.0777\n",
            "Epoch 2/50\n",
            "53/53 - 0s - loss: 56.0534 - mae: 56.0534 - val_loss: 51.2170 - val_mae: 51.2170\n",
            "Epoch 3/50\n",
            "53/53 - 0s - loss: 47.5032 - mae: 47.5032 - val_loss: 45.2376 - val_mae: 45.2376\n",
            "Epoch 4/50\n",
            "53/53 - 0s - loss: 53.7160 - mae: 53.7160 - val_loss: 56.9665 - val_mae: 56.9665\n",
            "Epoch 5/50\n",
            "53/53 - 0s - loss: 58.6162 - mae: 58.6162 - val_loss: 42.5488 - val_mae: 42.5488\n",
            "Epoch 6/50\n",
            "53/53 - 0s - loss: 62.0677 - mae: 62.0677 - val_loss: 37.8293 - val_mae: 37.8293\n",
            "Epoch 7/50\n",
            "53/53 - 0s - loss: 52.8682 - mae: 52.8682 - val_loss: 58.5644 - val_mae: 58.5644\n",
            "Epoch 8/50\n",
            "53/53 - 0s - loss: 46.6622 - mae: 46.6622 - val_loss: 39.0032 - val_mae: 39.0032\n",
            "Epoch 9/50\n",
            "53/53 - 0s - loss: 52.9383 - mae: 52.9383 - val_loss: 50.2004 - val_mae: 50.2004\n",
            "Epoch 10/50\n",
            "53/53 - 0s - loss: 50.2834 - mae: 50.2834 - val_loss: 36.8505 - val_mae: 36.8505\n",
            "Epoch 11/50\n",
            "53/53 - 0s - loss: 44.8656 - mae: 44.8656 - val_loss: 42.1120 - val_mae: 42.1120\n",
            "Epoch 12/50\n",
            "53/53 - 0s - loss: 50.1612 - mae: 50.1612 - val_loss: 36.9118 - val_mae: 36.9118\n",
            "Epoch 13/50\n",
            "53/53 - 0s - loss: 46.3373 - mae: 46.3373 - val_loss: 34.1063 - val_mae: 34.1063\n",
            "Epoch 14/50\n",
            "53/53 - 0s - loss: 44.2729 - mae: 44.2729 - val_loss: 28.4673 - val_mae: 28.4673\n",
            "Epoch 15/50\n",
            "53/53 - 0s - loss: 41.1251 - mae: 41.1251 - val_loss: 62.4817 - val_mae: 62.4817\n",
            "Epoch 16/50\n",
            "53/53 - 0s - loss: 45.3644 - mae: 45.3644 - val_loss: 31.9999 - val_mae: 31.9999\n",
            "Epoch 17/50\n",
            "53/53 - 0s - loss: 50.5724 - mae: 50.5724 - val_loss: 27.6095 - val_mae: 27.6095\n",
            "Epoch 18/50\n",
            "53/53 - 0s - loss: 39.4383 - mae: 39.4383 - val_loss: 49.5144 - val_mae: 49.5144\n",
            "Epoch 19/50\n",
            "53/53 - 0s - loss: 48.2994 - mae: 48.2994 - val_loss: 52.0923 - val_mae: 52.0923\n",
            "Epoch 20/50\n",
            "53/53 - 0s - loss: 45.7158 - mae: 45.7158 - val_loss: 34.3687 - val_mae: 34.3687\n",
            "Epoch 21/50\n",
            "53/53 - 0s - loss: 51.7208 - mae: 51.7208 - val_loss: 35.9074 - val_mae: 35.9074\n",
            "Epoch 22/50\n",
            "53/53 - 0s - loss: 46.8366 - mae: 46.8366 - val_loss: 23.1497 - val_mae: 23.1497\n",
            "Epoch 23/50\n",
            "53/53 - 0s - loss: 41.9058 - mae: 41.9058 - val_loss: 26.7375 - val_mae: 26.7375\n",
            "Epoch 24/50\n",
            "53/53 - 0s - loss: 41.9024 - mae: 41.9024 - val_loss: 41.6534 - val_mae: 41.6534\n",
            "Epoch 25/50\n",
            "53/53 - 0s - loss: 37.4635 - mae: 37.4635 - val_loss: 25.1333 - val_mae: 25.1333\n",
            "Epoch 26/50\n",
            "53/53 - 0s - loss: 41.0190 - mae: 41.0190 - val_loss: 28.4304 - val_mae: 28.4304\n",
            "Epoch 27/50\n",
            "53/53 - 0s - loss: 38.5568 - mae: 38.5568 - val_loss: 38.8451 - val_mae: 38.8451\n",
            "Epoch 28/50\n",
            "53/53 - 0s - loss: 41.7667 - mae: 41.7667 - val_loss: 29.0791 - val_mae: 29.0791\n",
            "Epoch 29/50\n",
            "53/53 - 0s - loss: 41.0007 - mae: 41.0007 - val_loss: 31.8674 - val_mae: 31.8674\n",
            "Epoch 30/50\n",
            "53/53 - 0s - loss: 40.2660 - mae: 40.2660 - val_loss: 29.6424 - val_mae: 29.6424\n",
            "Epoch 31/50\n",
            "53/53 - 0s - loss: 60.4753 - mae: 60.4753 - val_loss: 31.5808 - val_mae: 31.5808\n",
            "Epoch 32/50\n",
            "53/53 - 0s - loss: 42.1382 - mae: 42.1382 - val_loss: 27.0305 - val_mae: 27.0305\n",
            "Epoch 33/50\n",
            "53/53 - 0s - loss: 36.4001 - mae: 36.4001 - val_loss: 21.9622 - val_mae: 21.9622\n",
            "Epoch 34/50\n",
            "53/53 - 0s - loss: 41.3939 - mae: 41.3939 - val_loss: 20.9070 - val_mae: 20.9070\n",
            "Epoch 35/50\n",
            "53/53 - 0s - loss: 43.0067 - mae: 43.0067 - val_loss: 18.4358 - val_mae: 18.4358\n",
            "Epoch 36/50\n",
            "53/53 - 0s - loss: 39.2268 - mae: 39.2268 - val_loss: 42.9569 - val_mae: 42.9569\n",
            "Epoch 37/50\n",
            "53/53 - 0s - loss: 40.5581 - mae: 40.5581 - val_loss: 20.1489 - val_mae: 20.1489\n",
            "Epoch 38/50\n",
            "53/53 - 0s - loss: 37.3427 - mae: 37.3427 - val_loss: 27.8186 - val_mae: 27.8186\n",
            "Epoch 39/50\n",
            "53/53 - 0s - loss: 36.4184 - mae: 36.4184 - val_loss: 20.8260 - val_mae: 20.8260\n",
            "Epoch 40/50\n",
            "53/53 - 0s - loss: 32.6124 - mae: 32.6124 - val_loss: 28.8346 - val_mae: 28.8346\n",
            "Epoch 41/50\n",
            "53/53 - 0s - loss: 35.9723 - mae: 35.9723 - val_loss: 21.5137 - val_mae: 21.5137\n",
            "Epoch 42/50\n",
            "53/53 - 0s - loss: 32.7866 - mae: 32.7866 - val_loss: 22.1215 - val_mae: 22.1215\n",
            "Epoch 43/50\n",
            "53/53 - 0s - loss: 36.7625 - mae: 36.7625 - val_loss: 40.5948 - val_mae: 40.5948\n",
            "Epoch 44/50\n",
            "53/53 - 0s - loss: 32.8386 - mae: 32.8386 - val_loss: 17.6470 - val_mae: 17.6470\n",
            "Epoch 45/50\n",
            "53/53 - 0s - loss: 32.0517 - mae: 32.0517 - val_loss: 28.3122 - val_mae: 28.3122\n",
            "Epoch 46/50\n",
            "53/53 - 0s - loss: 32.7845 - mae: 32.7845 - val_loss: 21.0329 - val_mae: 21.0329\n",
            "Epoch 47/50\n",
            "53/53 - 0s - loss: 34.1523 - mae: 34.1523 - val_loss: 22.8792 - val_mae: 22.8792\n",
            "Epoch 48/50\n",
            "53/53 - 0s - loss: 34.8320 - mae: 34.8320 - val_loss: 22.2651 - val_mae: 22.2651\n",
            "Epoch 49/50\n",
            "53/53 - 0s - loss: 36.5770 - mae: 36.5770 - val_loss: 20.2851 - val_mae: 20.2851\n",
            "Epoch 50/50\n",
            "53/53 - 0s - loss: 35.2016 - mae: 35.2016 - val_loss: 19.3237 - val_mae: 19.3237\n",
            "손실함수 :  19.32366180419922 mae :  19.32366180419922\n",
            "평균절댓값백분율오차(mape) :  [0.10849826]\n"
          ],
          "name": "stdout"
        }
      ]
    },
    {
      "cell_type": "code",
      "metadata": {
        "colab": {
          "base_uri": "https://localhost:8080/",
          "height": 282
        },
        "id": "b-7r1WH0a6_P",
        "outputId": "93c2cade-1703-4b3c-e3da-08d97f20a2be"
      },
      "source": [
        "x_range = range(len(y_test))\n",
        "plt.plot(x_range, y_test[x_range], color='red')\n",
        "plt.plot(x_range, pred[x_range], color='blue')\n",
        "plt.show"
      ],
      "execution_count": null,
      "outputs": [
        {
          "output_type": "execute_result",
          "data": {
            "text/plain": [
              "<function matplotlib.pyplot.show>"
            ]
          },
          "metadata": {
            "tags": []
          },
          "execution_count": 197
        },
        {
          "output_type": "display_data",
          "data": {
            "image/png": "[encoded data removed]",
            "text/plain": [
              "<Figure size 432x288 with 1 Axes>"
            ]
          },
          "metadata": {
            "tags": [],
            "needs_background": "light"
          }
        }
      ]
    },
    {
      "cell_type": "markdown",
      "metadata": {
        "id": "E_REIKfQa4S5"
      },
      "source": [
        "### 은평구"
      ]
    },
    {
      "cell_type": "code",
      "metadata": {
        "colab": {
          "base_uri": "https://localhost:8080/"
        },
        "id": "LHWMRhdMa6MG",
        "outputId": "d4104a49-773a-480f-eae8-2c11af5be221"
      },
      "source": [
        "\n",
        "train_은평 = train_year1[train_year1['Startpos1'] == '은평구']\n",
        "\n",
        "date_은평 = []\n",
        "for time in train_은평['Receipttime']:\n",
        "  date_은평.append(time[0:10])\n",
        "\n",
        "train_은평['date'] = date_은평\n",
        "group_은평 = train_은평.groupby(['date'])\n",
        "\n",
        "df_은=pd.DataFrame(group_은평.count()['Receipttime'])\n",
        "\n",
        "new=group_은평.mean()\n",
        "new_은평 = new.join(df_은)\n",
        "\n",
        "new_은평.rename(columns={'Receipttime':'count'}, inplace=True)\n",
        "\n",
        "seq = new_은평[['count']].to_numpy()\n",
        "def seq2dataset(seq, window, horizon):\n",
        "  X=[];Y=[]\n",
        "  for i in range(len(seq)-(window+horizon)+1):\n",
        "    x=seq[i:(i+window)]\n",
        "    y=(seq[i+window+horizon-1])\n",
        "    X.append(x);Y.append(y)\n",
        "  return np.array(X), np.array(Y)\n",
        "w= 7 #윈도우사이즈 \n",
        "h=1\n",
        "X,Y=seq2dataset(seq,w,h)\n",
        "X,Y\n",
        "\n",
        "from tensorflow.keras.models import Sequential\n",
        "from tensorflow.keras.layers import Dense,LSTM,Dropout\n",
        "\n",
        "split = int(len(X)*0.7)\n",
        "x_train = X[0:split];y_train=Y[0:split]\n",
        "x_test = X[split:]; y_test = Y[split:]\n",
        "\n",
        "model = Sequential()\n",
        "model.add(LSTM(units=128, activation='relu', input_shape=x_train[0].shape))\n",
        "model.add(Dense(1))\n",
        "model.compile(loss='mae', optimizer='adam', metrics=['mae'])\n",
        "hist = model.fit(x_train, y_train, epochs=50, batch_size=1, validation_data=(x_test,y_test),verbose=2)\n",
        "\n",
        "\n",
        "#평가\n",
        "ev = model.evaluate(x_test,y_test, verbose=0)\n",
        "print('손실함수 : ', ev[0], 'mae : ', ev[1])\n",
        "\n",
        "\n",
        "#예측\n",
        "pred = model.predict(x_test)\n",
        "print('평균절댓값백분율오차(mape) : ', sum(abs(y_test-pred) / y_test) / len(x_test))\n"
      ],
      "execution_count": null,
      "outputs": [
        {
          "output_type": "stream",
          "text": [
            "Epoch 1/50\n",
            "53/53 - 1s - loss: 102.5046 - mae: 102.5046 - val_loss: 69.7937 - val_mae: 69.7937\n",
            "Epoch 2/50\n",
            "53/53 - 0s - loss: 62.2238 - mae: 62.2238 - val_loss: 53.6179 - val_mae: 53.6179\n",
            "Epoch 3/50\n",
            "53/53 - 0s - loss: 57.5199 - mae: 57.5199 - val_loss: 31.1963 - val_mae: 31.1963\n",
            "Epoch 4/50\n",
            "53/53 - 0s - loss: 55.7078 - mae: 55.7078 - val_loss: 38.2391 - val_mae: 38.2391\n",
            "Epoch 5/50\n",
            "53/53 - 0s - loss: 51.8865 - mae: 51.8865 - val_loss: 39.0955 - val_mae: 39.0955\n",
            "Epoch 6/50\n",
            "53/53 - 0s - loss: 47.6052 - mae: 47.6052 - val_loss: 38.1300 - val_mae: 38.1300\n",
            "Epoch 7/50\n",
            "53/53 - 0s - loss: 52.8710 - mae: 52.8710 - val_loss: 40.6002 - val_mae: 40.6002\n",
            "Epoch 8/50\n",
            "53/53 - 0s - loss: 50.9401 - mae: 50.9401 - val_loss: 28.3712 - val_mae: 28.3712\n",
            "Epoch 9/50\n",
            "53/53 - 0s - loss: 47.5961 - mae: 47.5961 - val_loss: 14.0775 - val_mae: 14.0775\n",
            "Epoch 10/50\n",
            "53/53 - 0s - loss: 47.2849 - mae: 47.2849 - val_loss: 16.3929 - val_mae: 16.3929\n",
            "Epoch 11/50\n",
            "53/53 - 0s - loss: 47.0587 - mae: 47.0587 - val_loss: 61.2800 - val_mae: 61.2800\n",
            "Epoch 12/50\n",
            "53/53 - 0s - loss: 48.2690 - mae: 48.2690 - val_loss: 28.3443 - val_mae: 28.3443\n",
            "Epoch 13/50\n",
            "53/53 - 0s - loss: 40.8256 - mae: 40.8256 - val_loss: 21.1689 - val_mae: 21.1689\n",
            "Epoch 14/50\n",
            "53/53 - 0s - loss: 39.0350 - mae: 39.0350 - val_loss: 42.0053 - val_mae: 42.0053\n",
            "Epoch 15/50\n",
            "53/53 - 0s - loss: 101.6232 - mae: 101.6232 - val_loss: 50.9389 - val_mae: 50.9389\n",
            "Epoch 16/50\n",
            "53/53 - 0s - loss: 77.2334 - mae: 77.2334 - val_loss: 26.2937 - val_mae: 26.2937\n",
            "Epoch 17/50\n",
            "53/53 - 0s - loss: 47.1587 - mae: 47.1587 - val_loss: 14.9098 - val_mae: 14.9098\n",
            "Epoch 18/50\n",
            "53/53 - 0s - loss: 41.1515 - mae: 41.1515 - val_loss: 25.4481 - val_mae: 25.4481\n",
            "Epoch 19/50\n",
            "53/53 - 0s - loss: 38.5972 - mae: 38.5972 - val_loss: 34.2573 - val_mae: 34.2573\n",
            "Epoch 20/50\n",
            "53/53 - 0s - loss: 39.9315 - mae: 39.9315 - val_loss: 14.2499 - val_mae: 14.2499\n",
            "Epoch 21/50\n",
            "53/53 - 0s - loss: 40.3385 - mae: 40.3385 - val_loss: 36.4218 - val_mae: 36.4218\n",
            "Epoch 22/50\n",
            "53/53 - 0s - loss: 38.5953 - mae: 38.5953 - val_loss: 10.6652 - val_mae: 10.6652\n",
            "Epoch 23/50\n",
            "53/53 - 0s - loss: 37.5331 - mae: 37.5331 - val_loss: 10.7973 - val_mae: 10.7973\n",
            "Epoch 24/50\n",
            "53/53 - 0s - loss: 33.7767 - mae: 33.7767 - val_loss: 22.3766 - val_mae: 22.3766\n",
            "Epoch 25/50\n",
            "53/53 - 0s - loss: 29.0753 - mae: 29.0753 - val_loss: 14.1501 - val_mae: 14.1501\n",
            "Epoch 26/50\n",
            "53/53 - 0s - loss: 33.0339 - mae: 33.0339 - val_loss: 15.0564 - val_mae: 15.0564\n",
            "Epoch 27/50\n",
            "53/53 - 0s - loss: 31.3559 - mae: 31.3559 - val_loss: 26.2864 - val_mae: 26.2864\n",
            "Epoch 28/50\n",
            "53/53 - 0s - loss: 35.4217 - mae: 35.4217 - val_loss: 13.2207 - val_mae: 13.2207\n",
            "Epoch 29/50\n",
            "53/53 - 0s - loss: 31.1348 - mae: 31.1348 - val_loss: 11.8991 - val_mae: 11.8991\n",
            "Epoch 30/50\n",
            "53/53 - 0s - loss: 28.8822 - mae: 28.8822 - val_loss: 18.8693 - val_mae: 18.8693\n",
            "Epoch 31/50\n",
            "53/53 - 0s - loss: 35.5241 - mae: 35.5241 - val_loss: 32.9647 - val_mae: 32.9647\n",
            "Epoch 32/50\n",
            "53/53 - 0s - loss: 30.5263 - mae: 30.5263 - val_loss: 16.4505 - val_mae: 16.4505\n",
            "Epoch 33/50\n",
            "53/53 - 0s - loss: 30.6299 - mae: 30.6299 - val_loss: 17.3729 - val_mae: 17.3729\n",
            "Epoch 34/50\n",
            "53/53 - 0s - loss: 35.1031 - mae: 35.1031 - val_loss: 23.1320 - val_mae: 23.1320\n",
            "Epoch 35/50\n",
            "53/53 - 0s - loss: 26.5455 - mae: 26.5455 - val_loss: 12.4504 - val_mae: 12.4504\n",
            "Epoch 36/50\n",
            "53/53 - 0s - loss: 28.5541 - mae: 28.5541 - val_loss: 18.0892 - val_mae: 18.0892\n",
            "Epoch 37/50\n",
            "53/53 - 0s - loss: 33.4122 - mae: 33.4122 - val_loss: 25.5334 - val_mae: 25.5334\n",
            "Epoch 38/50\n",
            "53/53 - 0s - loss: 27.8332 - mae: 27.8332 - val_loss: 19.3812 - val_mae: 19.3812\n",
            "Epoch 39/50\n",
            "53/53 - 0s - loss: 29.1542 - mae: 29.1542 - val_loss: 22.4093 - val_mae: 22.4093\n",
            "Epoch 40/50\n",
            "53/53 - 0s - loss: 37.2167 - mae: 37.2167 - val_loss: 35.4377 - val_mae: 35.4377\n",
            "Epoch 41/50\n",
            "53/53 - 0s - loss: 37.0227 - mae: 37.0227 - val_loss: 12.4346 - val_mae: 12.4346\n",
            "Epoch 42/50\n",
            "53/53 - 0s - loss: 26.3034 - mae: 26.3034 - val_loss: 23.9867 - val_mae: 23.9867\n",
            "Epoch 43/50\n",
            "53/53 - 0s - loss: 30.2697 - mae: 30.2697 - val_loss: 22.7489 - val_mae: 22.7489\n",
            "Epoch 44/50\n",
            "53/53 - 0s - loss: 28.9496 - mae: 28.9496 - val_loss: 19.0784 - val_mae: 19.0784\n",
            "Epoch 45/50\n",
            "53/53 - 0s - loss: 31.0568 - mae: 31.0568 - val_loss: 16.1003 - val_mae: 16.1003\n",
            "Epoch 46/50\n",
            "53/53 - 0s - loss: 28.8053 - mae: 28.8053 - val_loss: 26.7372 - val_mae: 26.7372\n",
            "Epoch 47/50\n",
            "53/53 - 0s - loss: 32.8940 - mae: 32.8940 - val_loss: 20.2430 - val_mae: 20.2430\n",
            "Epoch 48/50\n",
            "53/53 - 0s - loss: 36.0880 - mae: 36.0880 - val_loss: 18.5705 - val_mae: 18.5705\n",
            "Epoch 49/50\n",
            "53/53 - 0s - loss: 35.5592 - mae: 35.5592 - val_loss: 28.8576 - val_mae: 28.8576\n",
            "Epoch 50/50\n",
            "53/53 - 0s - loss: 30.6316 - mae: 30.6316 - val_loss: 24.0065 - val_mae: 24.0065\n",
            "손실함수 :  24.006553649902344 mae :  24.006553649902344\n",
            "평균절댓값백분율오차(mape) :  [0.11933162]\n"
          ],
          "name": "stdout"
        }
      ]
    },
    {
      "cell_type": "code",
      "metadata": {
        "colab": {
          "base_uri": "https://localhost:8080/",
          "height": 282
        },
        "id": "9xjmHRIQa7jk",
        "outputId": "bfa0a030-4d08-4dfe-e9c3-1d039e8aea4d"
      },
      "source": [
        "x_range = range(len(y_test))\n",
        "plt.plot(x_range, y_test[x_range], color='red')\n",
        "plt.plot(x_range, pred[x_range], color='blue')\n",
        "plt.show"
      ],
      "execution_count": null,
      "outputs": [
        {
          "output_type": "execute_result",
          "data": {
            "text/plain": [
              "<function matplotlib.pyplot.show>"
            ]
          },
          "metadata": {
            "tags": []
          },
          "execution_count": 199
        },
        {
          "output_type": "display_data",
          "data": {
            "image/png": "[encoded data removed]",
            "text/plain": [
              "<Figure size 432x288 with 1 Axes>"
            ]
          },
          "metadata": {
            "tags": [],
            "needs_background": "light"
          }
        }
      ]
    },
    {
      "cell_type": "markdown",
      "metadata": {
        "id": "VOzuctgrf0H3"
      },
      "source": [
        "### 모델\n",
        "\n"
      ]
    },
    {
      "cell_type": "markdown",
      "metadata": {
        "id": "ykJ1LboCZrAZ"
      },
      "source": [
        "##### train 데이터 전처리"
      ]
    },
    {
      "cell_type": "code",
      "metadata": {
        "id": "aVYAxAqVhQxb"
      },
      "source": [
        "def holiday(train_year):\n",
        "    train_year['is_holiday'] = 0\n",
        "    train_year['Receipttime'] = train_year['기준일']\n",
        "    for h in range(len(train_year['Receipttime'])):\n",
        "        if \"08-15\" in train_year['Receipttime'][h]:\n",
        "            train_year['is_holiday'][h]= 1 \n",
        "        if \"08-16\" in train_year['Receipttime'][h]:\n",
        "            train_year['is_holiday'][h]= 1 \n",
        "        if \"09-12\" in train_year['Receipttime'][h]:\n",
        "            train_year['is_holiday'][h]= 1 \n",
        "        if \"09-13\" in train_year['Receipttime'][h]:\n",
        "            train_year['is_holiday'][h]= 1\n",
        "        if \"10-09\" in train_year['Receipttime'][h]:\n",
        "            train_year['is_holiday'][h]= 1\n",
        "        if \"10-10\" in train_year['Receipttime'][h]:\n",
        "            train_year['is_holiday'][h]= 1\n",
        "        if \"10-11\" in train_year['Receipttime'][h]:\n",
        "            train_year['is_holiday'][h]= 1\n",
        "        if \"11-14\" in train_year['Receipttime'][h]:\n",
        "            train_year['is_holiday'][h]= 1\n",
        "        if \"11-15\" in train_year['Receipttime'][h]:\n",
        "            train_year['is_holiday'][h]= 1\n",
        "        if \"12-12\" in train_year['Receipttime'][h]:\n",
        "            train_year['is_holiday'][h]= 1\n",
        "        if \"12-13\" in train_year['Receipttime'][h]:\n",
        "            train_year['is_holiday'][h]= 1\n",
        "        if \"01-16\" in train_year['Receipttime'][h]:\n",
        "            train_year['is_holiday'][h]= 1\n",
        "        if \"01-17\" in train_year['Receipttime'][h]:\n",
        "            train_year['is_holiday'][h]= 1\n",
        "        if \"02-10\" in train_year['Receipttime'][h]:\n",
        "            train_year['is_holiday'][h]= 1\n",
        "        if \"02-11\" in train_year['Receipttime'][h]:\n",
        "            train_year['is_holiday'][h]= 1\n",
        "        if \"02-12\" in train_year['Receipttime'][h]:\n",
        "            train_year['is_holiday'][h]= 1\n",
        "        if \"02-13\" in train_year['Receipttime'][h]:\n",
        "            train_year['is_holiday'][h]= 1\n",
        "        if \"02-14\" in train_year['Receipttime'][h]:\n",
        "            train_year['is_holiday'][h]= 1\n",
        "        if \"03-13\" in train_year['Receipttime'][h]:\n",
        "            train_year['is_holiday'][h]= 1\n",
        "        if \"03-14\" in train_year['Receipttime'][h]:\n",
        "            train_year['is_holiday'][h]= 1\n",
        "        if \"04-10\" in train_year['Receipttime'][h]:\n",
        "            train_year['is_holiday'][h]= 1\n",
        "        if \"04-11\" in train_year['Receipttime'][h]:\n",
        "            train_year['is_holiday'][h]= 1\n",
        "        if \"05-15\" in train_year['Receipttime'][h]:\n",
        "            train_year['is_holiday'][h]= 1\n",
        "        if \"05-16\" in train_year['Receipttime'][h]:\n",
        "            train_year['is_holiday'][h]= 1\n",
        "        if \"06-12\" in train_year['Receipttime'][h]:\n",
        "            train_year['is_holiday'][h]= 1\n",
        "        if \"06-13\" in train_year['Receipttime'][h]:\n",
        "            train_year['is_holiday'][h]= 1\n",
        "        if \"07-10\" in train_year['Receipttime'][h]:\n",
        "            train_year['is_holiday'][h]= 1\n",
        "        if \"07-11\" in train_year['Receipttime'][h]:\n",
        "            train_year['is_holiday'][h]= 1\n",
        "    return train_year['is_holiday']\n",
        "\n"
      ],
      "execution_count": null,
      "outputs": []
    },
    {
      "cell_type": "code",
      "metadata": {
        "id": "9Z957w5sZjMg"
      },
      "source": [
        "use_data = pd.read_csv(DATA_PATH +'all_data_08-07.csv')\n",
        "use_data['month'] = pd.DatetimeIndex(use_data['기준일']).month\n",
        "use_data['day'] = pd.DatetimeIndex(use_data['기준일']).day\n",
        "use_data.sort_values(by=['month','day'],inplace=True)\n",
        "\n",
        "train = use_data\n",
        "holiday(train)\n",
        "data = train\n",
        "\n",
        "data.rename(columns = {'차량운행':'NOC', '희망건':'req','탑승건': 'done','평균대기시간':'avg_wait','평균요금':'avg_price','평균승차거리': 'avg_run'},inplace = True)\n",
        "data =data.drop(['avg_run','avg_price','req','Receipttime','기준일'],axis = 1)"
      ],
      "execution_count": null,
      "outputs": []
    },
    {
      "cell_type": "markdown",
      "metadata": {
        "id": "1JgOz8a4Z9LC"
      },
      "source": [
        "#### 운행 차량 수 예측 모델"
      ]
    },
    {
      "cell_type": "code",
      "metadata": {
        "colab": {
          "base_uri": "https://localhost:8080/"
        },
        "id": "01CiI-iHf5_X",
        "outputId": "2890a413-09eb-4747-e2ec-5851d48e6e18"
      },
      "source": [
        "# 필요한 모듈 불러오기\n",
        "from sklearn.model_selection import train_test_split\n",
        "from sklearn.ensemble import RandomForestRegressor\n",
        "from sklearn.linear_model import LinearRegression,Ridge,Lasso\n",
        "RANDOM_SEED = 42\n",
        "TEST_SPLIT = 0.2\n",
        "train_detail = data\n",
        "\n",
        "#차량 운행 수 예측\n",
        "x = train_detail.drop(['NOC','avg_wait'],axis=1)\n",
        "y = train_detail['NOC']\n",
        "\n",
        "x_train, x_test, y_train, y_test = train_test_split(x, y, test_size=TEST_SPLIT, random_state=RANDOM_SEED)\n",
        "\n",
        "model = []\n",
        "\n",
        "# RandomForestRegressor 모델\n",
        "model.append(('RandomForestRegressor', RandomForestRegressor()))\n",
        "# LinearRegression 모델\n",
        "model.append(('LinearRegression', LinearRegression()))\n",
        "# Ridge 모델\n",
        "model.append(('Ridge', Ridge()))\n",
        "# Lasso 모델\n",
        "model.append(('Lasso', Lasso()))\n",
        "\n",
        "\n",
        "result = {}\n",
        "\n",
        "for name, m in model:\n",
        "    m.fit(x_train, y_train)\n",
        "    result[name] = (m.score(x_train, y_train), m.score(x_test, y_test))\n",
        "    print(\"{}\\ttrain_score : {} \\ttest_score: {}\".format(name, result[name][0], result[name][1]))\n",
        "\n",
        "\n"
      ],
      "execution_count": null,
      "outputs": [
        {
          "output_type": "stream",
          "text": [
            "RandomForestRegressor\ttrain_score : 0.996216180037444 \ttest_score: 0.9701166637815952\n",
            "LinearRegression\ttrain_score : 0.867405274897741 \ttest_score: 0.8905111863887344\n",
            "Ridge\ttrain_score : 0.8673944368215957 \ttest_score: 0.8908427121990224\n",
            "Lasso\ttrain_score : 0.8664813561027763 \ttest_score: 0.8930369407637133\n"
          ],
          "name": "stdout"
        }
      ]
    },
    {
      "cell_type": "code",
      "metadata": {
        "id": "kUUyP8vLqwLp"
      },
      "source": [
        "#0726-0731 데이터로 테스트\n",
        "\n",
        "test_df = data_0726to0731.copy()\n",
        "test_df['month'] = pd.DatetimeIndex(test_df['기준일']).month\n",
        "test_df['day'] = pd.DatetimeIndex(test_df['기준일']).day\n",
        "test_df.sort_values(by=['month','day'],inplace=True)\n",
        "\n",
        "test_df['is_holiday'] = [0,0,0,0,0,1]\n",
        "test_df.rename(columns = {'차량운행':'NOC', '희망건':'req','탑승건': 'done','평균대기시간':'avg_wait','평균요금':'avg_price','평균승차거리': 'avg_run'},inplace = True)\n",
        "test_df =test_df.drop(['avg_run','avg_price','req','기준일'],axis = 1)"
      ],
      "execution_count": null,
      "outputs": []
    },
    {
      "cell_type": "code",
      "metadata": {
        "id": "eKwrs2wPrbHD",
        "colab": {
          "base_uri": "https://localhost:8080/"
        },
        "outputId": "b2bde57a-ae84-44ef-cd97-4b97ac6a4b05"
      },
      "source": [
        "#일 별 예측 수요(평일6-주말1인 데이터 임의 추출)\n",
        "noc_pred = total_pred[2:8]  \n",
        "noc_pred = list(map(int,noc_pred))\n",
        "noc_pred\n"
      ],
      "execution_count": null,
      "outputs": [
        {
          "output_type": "execute_result",
          "data": {
            "text/plain": [
              "[4550, 4438, 4250, 4432, 4240, 1493]"
            ]
          },
          "metadata": {
            "tags": []
          },
          "execution_count": 63
        }
      ]
    },
    {
      "cell_type": "code",
      "metadata": {
        "id": "b25Pdo7Jqtqr",
        "colab": {
          "base_uri": "https://localhost:8080/",
          "height": 235
        },
        "outputId": "b04febcb-4f9e-4ef8-cb4e-1273ade053ec"
      },
      "source": [
        "#예측 출력\n",
        "test = pd.DataFrame({'done':noc_pred,'month':[7]*6,'day':[i for i in range(26,32)],'is_holiday':[0,0,0,0,0,1]})\n",
        "test_input = test\n",
        "test_predict = model[0][1].predict(test_input)\n",
        "#test_predict\n",
        "test_input['NOC'] = test_predict\n",
        "test_input"
      ],
      "execution_count": null,
      "outputs": [
        {
          "output_type": "execute_result",
          "data": {
            "text/html": [
              "<div>\n",
              "<style scoped>\n",
              "    .dataframe tbody tr th:only-of-type {\n",
              "        vertical-align: middle;\n",
              "    }\n",
              "\n",
              "    .dataframe tbody tr th {\n",
              "        vertical-align: top;\n",
              "    }\n",
              "\n",
              "    .dataframe thead th {\n",
              "        text-align: right;\n",
              "    }\n",
              "</style>\n",
              "<table border=\"1\" class=\"dataframe\">\n",
              "  <thead>\n",
              "    <tr style=\"text-align: right;\">\n",
              "      <th></th>\n",
              "      <th>done</th>\n",
              "      <th>month</th>\n",
              "      <th>day</th>\n",
              "      <th>is_holiday</th>\n",
              "      <th>NOC</th>\n",
              "    </tr>\n",
              "  </thead>\n",
              "  <tbody>\n",
              "    <tr>\n",
              "      <th>0</th>\n",
              "      <td>4550</td>\n",
              "      <td>7</td>\n",
              "      <td>26</td>\n",
              "      <td>0</td>\n",
              "      <td>565.59</td>\n",
              "    </tr>\n",
              "    <tr>\n",
              "      <th>1</th>\n",
              "      <td>4438</td>\n",
              "      <td>7</td>\n",
              "      <td>27</td>\n",
              "      <td>0</td>\n",
              "      <td>564.31</td>\n",
              "    </tr>\n",
              "    <tr>\n",
              "      <th>2</th>\n",
              "      <td>4250</td>\n",
              "      <td>7</td>\n",
              "      <td>28</td>\n",
              "      <td>0</td>\n",
              "      <td>565.76</td>\n",
              "    </tr>\n",
              "    <tr>\n",
              "      <th>3</th>\n",
              "      <td>4432</td>\n",
              "      <td>7</td>\n",
              "      <td>29</td>\n",
              "      <td>0</td>\n",
              "      <td>565.95</td>\n",
              "    </tr>\n",
              "    <tr>\n",
              "      <th>4</th>\n",
              "      <td>4240</td>\n",
              "      <td>7</td>\n",
              "      <td>30</td>\n",
              "      <td>0</td>\n",
              "      <td>573.80</td>\n",
              "    </tr>\n",
              "    <tr>\n",
              "      <th>5</th>\n",
              "      <td>1493</td>\n",
              "      <td>7</td>\n",
              "      <td>31</td>\n",
              "      <td>1</td>\n",
              "      <td>278.44</td>\n",
              "    </tr>\n",
              "  </tbody>\n",
              "</table>\n",
              "</div>"
            ],
            "text/plain": [
              "   done  month  day  is_holiday     NOC\n",
              "0  4550      7   26           0  565.59\n",
              "1  4438      7   27           0  564.31\n",
              "2  4250      7   28           0  565.76\n",
              "3  4432      7   29           0  565.95\n",
              "4  4240      7   30           0  573.80\n",
              "5  1493      7   31           1  278.44"
            ]
          },
          "metadata": {
            "tags": []
          },
          "execution_count": 64
        }
      ]
    },
    {
      "cell_type": "code",
      "metadata": {
        "id": "uEt_2q5Qr_Jc",
        "colab": {
          "base_uri": "https://localhost:8080/",
          "height": 235
        },
        "outputId": "48c2b8a5-7a6e-427f-8dde-9eed1949ef18"
      },
      "source": [
        "#실제 값과 비교\n",
        "test_input['real-done'] = test_df['done']\n",
        "test_input['real-NOC'] = test_df['NOC']\n",
        "test_input"
      ],
      "execution_count": null,
      "outputs": [
        {
          "output_type": "execute_result",
          "data": {
            "text/html": [
              "<div>\n",
              "<style scoped>\n",
              "    .dataframe tbody tr th:only-of-type {\n",
              "        vertical-align: middle;\n",
              "    }\n",
              "\n",
              "    .dataframe tbody tr th {\n",
              "        vertical-align: top;\n",
              "    }\n",
              "\n",
              "    .dataframe thead th {\n",
              "        text-align: right;\n",
              "    }\n",
              "</style>\n",
              "<table border=\"1\" class=\"dataframe\">\n",
              "  <thead>\n",
              "    <tr style=\"text-align: right;\">\n",
              "      <th></th>\n",
              "      <th>done</th>\n",
              "      <th>month</th>\n",
              "      <th>day</th>\n",
              "      <th>is_holiday</th>\n",
              "      <th>real-done</th>\n",
              "      <th>real-NOC</th>\n",
              "    </tr>\n",
              "  </thead>\n",
              "  <tbody>\n",
              "    <tr>\n",
              "      <th>0</th>\n",
              "      <td>4550</td>\n",
              "      <td>7</td>\n",
              "      <td>26</td>\n",
              "      <td>0</td>\n",
              "      <td>4179</td>\n",
              "      <td>536</td>\n",
              "    </tr>\n",
              "    <tr>\n",
              "      <th>1</th>\n",
              "      <td>4438</td>\n",
              "      <td>7</td>\n",
              "      <td>27</td>\n",
              "      <td>0</td>\n",
              "      <td>4133</td>\n",
              "      <td>540</td>\n",
              "    </tr>\n",
              "    <tr>\n",
              "      <th>2</th>\n",
              "      <td>4250</td>\n",
              "      <td>7</td>\n",
              "      <td>28</td>\n",
              "      <td>0</td>\n",
              "      <td>4071</td>\n",
              "      <td>534</td>\n",
              "    </tr>\n",
              "    <tr>\n",
              "      <th>3</th>\n",
              "      <td>4432</td>\n",
              "      <td>7</td>\n",
              "      <td>29</td>\n",
              "      <td>0</td>\n",
              "      <td>3983</td>\n",
              "      <td>528</td>\n",
              "    </tr>\n",
              "    <tr>\n",
              "      <th>4</th>\n",
              "      <td>4240</td>\n",
              "      <td>7</td>\n",
              "      <td>30</td>\n",
              "      <td>0</td>\n",
              "      <td>3827</td>\n",
              "      <td>528</td>\n",
              "    </tr>\n",
              "    <tr>\n",
              "      <th>5</th>\n",
              "      <td>1493</td>\n",
              "      <td>7</td>\n",
              "      <td>31</td>\n",
              "      <td>1</td>\n",
              "      <td>1572</td>\n",
              "      <td>295</td>\n",
              "    </tr>\n",
              "  </tbody>\n",
              "</table>\n",
              "</div>"
            ],
            "text/plain": [
              "   done  month  day  is_holiday  real-done  real-NOC\n",
              "0  4550      7   26           0       4179       536\n",
              "1  4438      7   27           0       4133       540\n",
              "2  4250      7   28           0       4071       534\n",
              "3  4432      7   29           0       3983       528\n",
              "4  4240      7   30           0       3827       528\n",
              "5  1493      7   31           1       1572       295"
            ]
          },
          "metadata": {
            "tags": []
          },
          "execution_count": 60
        }
      ]
    },
    {
      "cell_type": "markdown",
      "metadata": {
        "id": "tevJnuoAsYKr"
      },
      "source": [
        "#### 평균 대기 시간 예측 모델"
      ]
    },
    {
      "cell_type": "code",
      "metadata": {
        "colab": {
          "base_uri": "https://localhost:8080/"
        },
        "id": "c-3CTh4whs1c",
        "outputId": "c2f7301b-4fd6-496f-84ec-c1c1e7f0279f"
      },
      "source": [
        "# 필요한 모듈 불러오기\n",
        "from sklearn.model_selection import train_test_split\n",
        "from sklearn.ensemble import RandomForestRegressor\n",
        "from sklearn.linear_model import LinearRegression,Ridge,Lasso\n",
        "RANDOM_SEED = 42\n",
        "TEST_SPLIT = 0.2\n",
        "train_detail = data\n",
        "\n",
        "#평균 대기시간 예측\n",
        "x = train_detail.drop(['avg_wait'],axis=1)\n",
        "y = train_detail['avg_wait']\n",
        "x_train, x_test, y_train, y_test = train_test_split(x, y, test_size=TEST_SPLIT, random_state=RANDOM_SEED)\n",
        "\n",
        "model = []\n",
        "\n",
        "# RandomForestRegressor 모델\n",
        "model.append(('RandomForestRegressor', RandomForestRegressor()))\n",
        "# LinearRegression 모델\n",
        "model.append(('LinearRegression', LinearRegression()))\n",
        "# Ridge 모델\n",
        "model.append(('Ridge', Ridge()))\n",
        "# Lasso 모델\n",
        "model.append(('Lasso', Lasso()))\n",
        "\n",
        "\n",
        "result = {}\n",
        "\n",
        "for name, m in model:\n",
        "    m.fit(x_train, y_train)\n",
        "    result[name] = (m.score(x_train, y_train), m.score(x_test, y_test))\n",
        "    print(\"{}\\ttrain_score : {} \\ttest_score: {}\".format(name, result[name][0], result[name][1]))\n",
        "\n"
      ],
      "execution_count": null,
      "outputs": [
        {
          "output_type": "stream",
          "text": [
            "RandomForestRegressor\ttrain_score : 0.9717915963010388 \ttest_score: 0.7254446565362183\n",
            "LinearRegression\ttrain_score : 0.7311249332763983 \ttest_score: 0.6612555467464906\n",
            "Ridge\ttrain_score : 0.7311221517195623 \ttest_score: 0.661371981712243\n",
            "Lasso\ttrain_score : 0.7277692705298947 \ttest_score: 0.6705398945294635\n"
          ],
          "name": "stdout"
        }
      ]
    },
    {
      "cell_type": "code",
      "metadata": {
        "colab": {
          "base_uri": "https://localhost:8080/",
          "height": 235
        },
        "id": "1fPoFe_zhaKq",
        "outputId": "c6a92a95-4050-4554-ad7f-c78afad485e9"
      },
      "source": [
        "#test = pd.DataFrame({'done':[int(pred[2]),int(pred[3])],'month':[5,7],'day':[10,10],'is_holiday':[0,1]})\n",
        "test_input = test_input[['done','NOC','month','day','is_holiday']]\n",
        "test_predict = model[0][1].predict(test_input)\n",
        "test_predict\n",
        "test_input['avg_wait'] = test_predict\n",
        "test_input"
      ],
      "execution_count": null,
      "outputs": [
        {
          "output_type": "execute_result",
          "data": {
            "text/html": [
              "<div>\n",
              "<style scoped>\n",
              "    .dataframe tbody tr th:only-of-type {\n",
              "        vertical-align: middle;\n",
              "    }\n",
              "\n",
              "    .dataframe tbody tr th {\n",
              "        vertical-align: top;\n",
              "    }\n",
              "\n",
              "    .dataframe thead th {\n",
              "        text-align: right;\n",
              "    }\n",
              "</style>\n",
              "<table border=\"1\" class=\"dataframe\">\n",
              "  <thead>\n",
              "    <tr style=\"text-align: right;\">\n",
              "      <th></th>\n",
              "      <th>done</th>\n",
              "      <th>NOC</th>\n",
              "      <th>month</th>\n",
              "      <th>day</th>\n",
              "      <th>is_holiday</th>\n",
              "      <th>avg_wait</th>\n",
              "    </tr>\n",
              "  </thead>\n",
              "  <tbody>\n",
              "    <tr>\n",
              "      <th>0</th>\n",
              "      <td>4550</td>\n",
              "      <td>565.59</td>\n",
              "      <td>7</td>\n",
              "      <td>26</td>\n",
              "      <td>0</td>\n",
              "      <td>18.959</td>\n",
              "    </tr>\n",
              "    <tr>\n",
              "      <th>1</th>\n",
              "      <td>4438</td>\n",
              "      <td>564.31</td>\n",
              "      <td>7</td>\n",
              "      <td>27</td>\n",
              "      <td>0</td>\n",
              "      <td>18.956</td>\n",
              "    </tr>\n",
              "    <tr>\n",
              "      <th>2</th>\n",
              "      <td>4250</td>\n",
              "      <td>565.76</td>\n",
              "      <td>7</td>\n",
              "      <td>28</td>\n",
              "      <td>0</td>\n",
              "      <td>19.001</td>\n",
              "    </tr>\n",
              "    <tr>\n",
              "      <th>3</th>\n",
              "      <td>4432</td>\n",
              "      <td>565.95</td>\n",
              "      <td>7</td>\n",
              "      <td>29</td>\n",
              "      <td>0</td>\n",
              "      <td>19.120</td>\n",
              "    </tr>\n",
              "    <tr>\n",
              "      <th>4</th>\n",
              "      <td>4240</td>\n",
              "      <td>573.80</td>\n",
              "      <td>7</td>\n",
              "      <td>30</td>\n",
              "      <td>0</td>\n",
              "      <td>19.113</td>\n",
              "    </tr>\n",
              "    <tr>\n",
              "      <th>5</th>\n",
              "      <td>1493</td>\n",
              "      <td>278.44</td>\n",
              "      <td>7</td>\n",
              "      <td>31</td>\n",
              "      <td>1</td>\n",
              "      <td>19.149</td>\n",
              "    </tr>\n",
              "  </tbody>\n",
              "</table>\n",
              "</div>"
            ],
            "text/plain": [
              "   done     NOC  month  day  is_holiday  avg_wait\n",
              "0  4550  565.59      7   26           0    18.959\n",
              "1  4438  564.31      7   27           0    18.956\n",
              "2  4250  565.76      7   28           0    19.001\n",
              "3  4432  565.95      7   29           0    19.120\n",
              "4  4240  573.80      7   30           0    19.113\n",
              "5  1493  278.44      7   31           1    19.149"
            ]
          },
          "metadata": {
            "tags": []
          },
          "execution_count": 67
        }
      ]
    },
    {
      "cell_type": "code",
      "metadata": {
        "id": "f33vxCg0s4Y7",
        "colab": {
          "base_uri": "https://localhost:8080/",
          "height": 235
        },
        "outputId": "8bf09f8e-7cdc-499c-b220-7a3dfd374f11"
      },
      "source": [
        "#실제 값과 비교\n",
        "test_input['real-done'] = test_df['done']\n",
        "test_input['real-NOC'] = test_df['NOC']\n",
        "test_input['real-wait'] = test_df['avg_wait']\n",
        "test_input"
      ],
      "execution_count": null,
      "outputs": [
        {
          "output_type": "execute_result",
          "data": {
            "text/html": [
              "<div>\n",
              "<style scoped>\n",
              "    .dataframe tbody tr th:only-of-type {\n",
              "        vertical-align: middle;\n",
              "    }\n",
              "\n",
              "    .dataframe tbody tr th {\n",
              "        vertical-align: top;\n",
              "    }\n",
              "\n",
              "    .dataframe thead th {\n",
              "        text-align: right;\n",
              "    }\n",
              "</style>\n",
              "<table border=\"1\" class=\"dataframe\">\n",
              "  <thead>\n",
              "    <tr style=\"text-align: right;\">\n",
              "      <th></th>\n",
              "      <th>done</th>\n",
              "      <th>NOC</th>\n",
              "      <th>month</th>\n",
              "      <th>day</th>\n",
              "      <th>is_holiday</th>\n",
              "      <th>avg_wait</th>\n",
              "      <th>real-done</th>\n",
              "      <th>real-NOC</th>\n",
              "      <th>real-wait</th>\n",
              "    </tr>\n",
              "  </thead>\n",
              "  <tbody>\n",
              "    <tr>\n",
              "      <th>0</th>\n",
              "      <td>4550</td>\n",
              "      <td>565.59</td>\n",
              "      <td>7</td>\n",
              "      <td>26</td>\n",
              "      <td>0</td>\n",
              "      <td>18.959</td>\n",
              "      <td>4179</td>\n",
              "      <td>536</td>\n",
              "      <td>27.9</td>\n",
              "    </tr>\n",
              "    <tr>\n",
              "      <th>1</th>\n",
              "      <td>4438</td>\n",
              "      <td>564.31</td>\n",
              "      <td>7</td>\n",
              "      <td>27</td>\n",
              "      <td>0</td>\n",
              "      <td>18.956</td>\n",
              "      <td>4133</td>\n",
              "      <td>540</td>\n",
              "      <td>26.7</td>\n",
              "    </tr>\n",
              "    <tr>\n",
              "      <th>2</th>\n",
              "      <td>4250</td>\n",
              "      <td>565.76</td>\n",
              "      <td>7</td>\n",
              "      <td>28</td>\n",
              "      <td>0</td>\n",
              "      <td>19.001</td>\n",
              "      <td>4071</td>\n",
              "      <td>534</td>\n",
              "      <td>27.7</td>\n",
              "    </tr>\n",
              "    <tr>\n",
              "      <th>3</th>\n",
              "      <td>4432</td>\n",
              "      <td>565.95</td>\n",
              "      <td>7</td>\n",
              "      <td>29</td>\n",
              "      <td>0</td>\n",
              "      <td>19.120</td>\n",
              "      <td>3983</td>\n",
              "      <td>528</td>\n",
              "      <td>27.2</td>\n",
              "    </tr>\n",
              "    <tr>\n",
              "      <th>4</th>\n",
              "      <td>4240</td>\n",
              "      <td>573.80</td>\n",
              "      <td>7</td>\n",
              "      <td>30</td>\n",
              "      <td>0</td>\n",
              "      <td>19.113</td>\n",
              "      <td>3827</td>\n",
              "      <td>528</td>\n",
              "      <td>26.7</td>\n",
              "    </tr>\n",
              "    <tr>\n",
              "      <th>5</th>\n",
              "      <td>1493</td>\n",
              "      <td>278.44</td>\n",
              "      <td>7</td>\n",
              "      <td>31</td>\n",
              "      <td>1</td>\n",
              "      <td>19.149</td>\n",
              "      <td>1572</td>\n",
              "      <td>295</td>\n",
              "      <td>21.9</td>\n",
              "    </tr>\n",
              "  </tbody>\n",
              "</table>\n",
              "</div>"
            ],
            "text/plain": [
              "   done     NOC  month  day  ...  avg_wait  real-done  real-NOC  real-wait\n",
              "0  4550  565.59      7   26  ...    18.959       4179       536       27.9\n",
              "1  4438  564.31      7   27  ...    18.956       4133       540       26.7\n",
              "2  4250  565.76      7   28  ...    19.001       4071       534       27.7\n",
              "3  4432  565.95      7   29  ...    19.120       3983       528       27.2\n",
              "4  4240  573.80      7   30  ...    19.113       3827       528       26.7\n",
              "5  1493  278.44      7   31  ...    19.149       1572       295       21.9\n",
              "\n",
              "[6 rows x 9 columns]"
            ]
          },
          "metadata": {
            "tags": []
          },
          "execution_count": 68
        }
      ]
    }
  ]
}